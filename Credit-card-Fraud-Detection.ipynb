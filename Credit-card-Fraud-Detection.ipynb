{
  "nbformat": 4,
  "nbformat_minor": 0,
  "metadata": {
    "colab": {
      "name": "[dsc_C2085157]Capital_One_Home_Assessment.ipynb",
      "provenance": [],
      "collapsed_sections": [],
      "include_colab_link": true
    },
    "kernelspec": {
      "name": "python3",
      "display_name": "Python 3"
    },
    "language_info": {
      "name": "python"
    }
  },
  "cells": [
    {
      "cell_type": "markdown",
      "metadata": {
        "id": "view-in-github",
        "colab_type": "text"
      },
      "source": [
        "<a href=\"https://colab.research.google.com/github/siddhant0704/Credit-card-fraud-detection/blob/main/Credit-card-Fraud-Detection.ipynb\" target=\"_parent\"><img src=\"https://colab.research.google.com/assets/colab-badge.svg\" alt=\"Open In Colab\"/></a>"
      ]
    },
    {
      "cell_type": "markdown",
      "source": [
        "# **Credit Card Fraud Detection in Financial Data**"
      ],
      "metadata": {
        "id": "0ndtGIlF8jg_"
      }
    },
    {
      "cell_type": "markdown",
      "source": [
        "# **Importing Libraries**"
      ],
      "metadata": {
        "id": "zB4OCrgkzxku"
      }
    },
    {
      "cell_type": "code",
      "execution_count": null,
      "metadata": {
        "id": "6ssRmTwuBQ32"
      },
      "outputs": [],
      "source": [
        "#Import Libraries\n",
        "import numpy as np\n",
        "import matplotlib.pyplot as plt\n",
        "import pandas as pd\n",
        "import seaborn as sns\n",
        "from sklearn.preprocessing import LabelBinarizer\n",
        "from sklearn.feature_selection import SelectKBest\n",
        "from imblearn.combine import SMOTETomek\n",
        "from collections import Counter\n",
        "from imblearn.under_sampling import RandomUnderSampler\n",
        "from sklearn.model_selection import train_test_split, cross_val_score, RandomizedSearchCV\n",
        "from sklearn.linear_model import LogisticRegression\n",
        "from sklearn.tree import DecisionTreeClassifier\n",
        "from sklearn.ensemble import RandomForestClassifier\n",
        "from xgboost import XGBClassifier\n",
        "from sklearn.metrics import confusion_matrix, accuracy_score, f1_score, classification_report\n",
        "from sklearn.metrics import roc_curve, roc_auc_score, precision_score, recall_score, precision_recall_curve\n",
        "from sklearn import metrics\n",
        "sns.set()"
      ]
    },
    {
      "cell_type": "markdown",
      "source": [
        "# **Loading data and Exploratory Data Analysis**"
      ],
      "metadata": {
        "id": "u-Md2ER1z4iT"
      }
    },
    {
      "cell_type": "markdown",
      "source": [
        "**Load the given json file and stored it as trans_df dataframe and set lines=True since every new transaction is separated by a line**\n"
      ],
      "metadata": {
        "id": "AkzO4btJOehD"
      }
    },
    {
      "cell_type": "code",
      "source": [
        "trans_df = pd.read_json('transactions.json', lines=True)\n",
        "trans_df.head()"
      ],
      "metadata": {
        "colab": {
          "base_uri": "https://localhost:8080/",
          "height": 288
        },
        "id": "fx6zBfBWB1i9",
        "outputId": "55c4ec69-3a66-41f0-f6ff-963c715b3aae"
      },
      "execution_count": null,
      "outputs": [
        {
          "output_type": "execute_result",
          "data": {
            "text/html": [
              "\n",
              "  <div id=\"df-c8d2d62a-7dbf-4034-b1de-8767c906b68c\">\n",
              "    <div class=\"colab-df-container\">\n",
              "      <div>\n",
              "<style scoped>\n",
              "    .dataframe tbody tr th:only-of-type {\n",
              "        vertical-align: middle;\n",
              "    }\n",
              "\n",
              "    .dataframe tbody tr th {\n",
              "        vertical-align: top;\n",
              "    }\n",
              "\n",
              "    .dataframe thead th {\n",
              "        text-align: right;\n",
              "    }\n",
              "</style>\n",
              "<table border=\"1\" class=\"dataframe\">\n",
              "  <thead>\n",
              "    <tr style=\"text-align: right;\">\n",
              "      <th></th>\n",
              "      <th>accountNumber</th>\n",
              "      <th>customerId</th>\n",
              "      <th>creditLimit</th>\n",
              "      <th>availableMoney</th>\n",
              "      <th>transactionDateTime</th>\n",
              "      <th>transactionAmount</th>\n",
              "      <th>merchantName</th>\n",
              "      <th>acqCountry</th>\n",
              "      <th>merchantCountryCode</th>\n",
              "      <th>posEntryMode</th>\n",
              "      <th>posConditionCode</th>\n",
              "      <th>merchantCategoryCode</th>\n",
              "      <th>currentExpDate</th>\n",
              "      <th>accountOpenDate</th>\n",
              "      <th>dateOfLastAddressChange</th>\n",
              "      <th>cardCVV</th>\n",
              "      <th>enteredCVV</th>\n",
              "      <th>cardLast4Digits</th>\n",
              "      <th>transactionType</th>\n",
              "      <th>echoBuffer</th>\n",
              "      <th>currentBalance</th>\n",
              "      <th>merchantCity</th>\n",
              "      <th>merchantState</th>\n",
              "      <th>merchantZip</th>\n",
              "      <th>cardPresent</th>\n",
              "      <th>posOnPremises</th>\n",
              "      <th>recurringAuthInd</th>\n",
              "      <th>expirationDateKeyInMatch</th>\n",
              "      <th>isFraud</th>\n",
              "    </tr>\n",
              "  </thead>\n",
              "  <tbody>\n",
              "    <tr>\n",
              "      <th>0</th>\n",
              "      <td>737265056</td>\n",
              "      <td>737265056</td>\n",
              "      <td>5000</td>\n",
              "      <td>5000.0</td>\n",
              "      <td>2016-08-13T14:27:32</td>\n",
              "      <td>98.55</td>\n",
              "      <td>Uber</td>\n",
              "      <td>US</td>\n",
              "      <td>US</td>\n",
              "      <td>02</td>\n",
              "      <td>01</td>\n",
              "      <td>rideshare</td>\n",
              "      <td>06/2023</td>\n",
              "      <td>2015-03-14</td>\n",
              "      <td>2015-03-14</td>\n",
              "      <td>414</td>\n",
              "      <td>414</td>\n",
              "      <td>1803</td>\n",
              "      <td>PURCHASE</td>\n",
              "      <td></td>\n",
              "      <td>0.0</td>\n",
              "      <td></td>\n",
              "      <td></td>\n",
              "      <td></td>\n",
              "      <td>False</td>\n",
              "      <td></td>\n",
              "      <td></td>\n",
              "      <td>False</td>\n",
              "      <td>False</td>\n",
              "    </tr>\n",
              "    <tr>\n",
              "      <th>1</th>\n",
              "      <td>737265056</td>\n",
              "      <td>737265056</td>\n",
              "      <td>5000</td>\n",
              "      <td>5000.0</td>\n",
              "      <td>2016-10-11T05:05:54</td>\n",
              "      <td>74.51</td>\n",
              "      <td>AMC #191138</td>\n",
              "      <td>US</td>\n",
              "      <td>US</td>\n",
              "      <td>09</td>\n",
              "      <td>01</td>\n",
              "      <td>entertainment</td>\n",
              "      <td>02/2024</td>\n",
              "      <td>2015-03-14</td>\n",
              "      <td>2015-03-14</td>\n",
              "      <td>486</td>\n",
              "      <td>486</td>\n",
              "      <td>767</td>\n",
              "      <td>PURCHASE</td>\n",
              "      <td></td>\n",
              "      <td>0.0</td>\n",
              "      <td></td>\n",
              "      <td></td>\n",
              "      <td></td>\n",
              "      <td>True</td>\n",
              "      <td></td>\n",
              "      <td></td>\n",
              "      <td>False</td>\n",
              "      <td>False</td>\n",
              "    </tr>\n",
              "    <tr>\n",
              "      <th>2</th>\n",
              "      <td>737265056</td>\n",
              "      <td>737265056</td>\n",
              "      <td>5000</td>\n",
              "      <td>5000.0</td>\n",
              "      <td>2016-11-08T09:18:39</td>\n",
              "      <td>7.47</td>\n",
              "      <td>Play Store</td>\n",
              "      <td>US</td>\n",
              "      <td>US</td>\n",
              "      <td>09</td>\n",
              "      <td>01</td>\n",
              "      <td>mobileapps</td>\n",
              "      <td>08/2025</td>\n",
              "      <td>2015-03-14</td>\n",
              "      <td>2015-03-14</td>\n",
              "      <td>486</td>\n",
              "      <td>486</td>\n",
              "      <td>767</td>\n",
              "      <td>PURCHASE</td>\n",
              "      <td></td>\n",
              "      <td>0.0</td>\n",
              "      <td></td>\n",
              "      <td></td>\n",
              "      <td></td>\n",
              "      <td>False</td>\n",
              "      <td></td>\n",
              "      <td></td>\n",
              "      <td>False</td>\n",
              "      <td>False</td>\n",
              "    </tr>\n",
              "    <tr>\n",
              "      <th>3</th>\n",
              "      <td>737265056</td>\n",
              "      <td>737265056</td>\n",
              "      <td>5000</td>\n",
              "      <td>5000.0</td>\n",
              "      <td>2016-12-10T02:14:50</td>\n",
              "      <td>7.47</td>\n",
              "      <td>Play Store</td>\n",
              "      <td>US</td>\n",
              "      <td>US</td>\n",
              "      <td>09</td>\n",
              "      <td>01</td>\n",
              "      <td>mobileapps</td>\n",
              "      <td>08/2025</td>\n",
              "      <td>2015-03-14</td>\n",
              "      <td>2015-03-14</td>\n",
              "      <td>486</td>\n",
              "      <td>486</td>\n",
              "      <td>767</td>\n",
              "      <td>PURCHASE</td>\n",
              "      <td></td>\n",
              "      <td>0.0</td>\n",
              "      <td></td>\n",
              "      <td></td>\n",
              "      <td></td>\n",
              "      <td>False</td>\n",
              "      <td></td>\n",
              "      <td></td>\n",
              "      <td>False</td>\n",
              "      <td>False</td>\n",
              "    </tr>\n",
              "    <tr>\n",
              "      <th>4</th>\n",
              "      <td>830329091</td>\n",
              "      <td>830329091</td>\n",
              "      <td>5000</td>\n",
              "      <td>5000.0</td>\n",
              "      <td>2016-03-24T21:04:46</td>\n",
              "      <td>71.18</td>\n",
              "      <td>Tim Hortons #947751</td>\n",
              "      <td>US</td>\n",
              "      <td>US</td>\n",
              "      <td>02</td>\n",
              "      <td>01</td>\n",
              "      <td>fastfood</td>\n",
              "      <td>10/2029</td>\n",
              "      <td>2015-08-06</td>\n",
              "      <td>2015-08-06</td>\n",
              "      <td>885</td>\n",
              "      <td>885</td>\n",
              "      <td>3143</td>\n",
              "      <td>PURCHASE</td>\n",
              "      <td></td>\n",
              "      <td>0.0</td>\n",
              "      <td></td>\n",
              "      <td></td>\n",
              "      <td></td>\n",
              "      <td>True</td>\n",
              "      <td></td>\n",
              "      <td></td>\n",
              "      <td>False</td>\n",
              "      <td>False</td>\n",
              "    </tr>\n",
              "  </tbody>\n",
              "</table>\n",
              "</div>\n",
              "      <button class=\"colab-df-convert\" onclick=\"convertToInteractive('df-c8d2d62a-7dbf-4034-b1de-8767c906b68c')\"\n",
              "              title=\"Convert this dataframe to an interactive table.\"\n",
              "              style=\"display:none;\">\n",
              "        \n",
              "  <svg xmlns=\"http://www.w3.org/2000/svg\" height=\"24px\"viewBox=\"0 0 24 24\"\n",
              "       width=\"24px\">\n",
              "    <path d=\"M0 0h24v24H0V0z\" fill=\"none\"/>\n",
              "    <path d=\"M18.56 5.44l.94 2.06.94-2.06 2.06-.94-2.06-.94-.94-2.06-.94 2.06-2.06.94zm-11 1L8.5 8.5l.94-2.06 2.06-.94-2.06-.94L8.5 2.5l-.94 2.06-2.06.94zm10 10l.94 2.06.94-2.06 2.06-.94-2.06-.94-.94-2.06-.94 2.06-2.06.94z\"/><path d=\"M17.41 7.96l-1.37-1.37c-.4-.4-.92-.59-1.43-.59-.52 0-1.04.2-1.43.59L10.3 9.45l-7.72 7.72c-.78.78-.78 2.05 0 2.83L4 21.41c.39.39.9.59 1.41.59.51 0 1.02-.2 1.41-.59l7.78-7.78 2.81-2.81c.8-.78.8-2.07 0-2.86zM5.41 20L4 18.59l7.72-7.72 1.47 1.35L5.41 20z\"/>\n",
              "  </svg>\n",
              "      </button>\n",
              "      \n",
              "  <style>\n",
              "    .colab-df-container {\n",
              "      display:flex;\n",
              "      flex-wrap:wrap;\n",
              "      gap: 12px;\n",
              "    }\n",
              "\n",
              "    .colab-df-convert {\n",
              "      background-color: #E8F0FE;\n",
              "      border: none;\n",
              "      border-radius: 50%;\n",
              "      cursor: pointer;\n",
              "      display: none;\n",
              "      fill: #1967D2;\n",
              "      height: 32px;\n",
              "      padding: 0 0 0 0;\n",
              "      width: 32px;\n",
              "    }\n",
              "\n",
              "    .colab-df-convert:hover {\n",
              "      background-color: #E2EBFA;\n",
              "      box-shadow: 0px 1px 2px rgba(60, 64, 67, 0.3), 0px 1px 3px 1px rgba(60, 64, 67, 0.15);\n",
              "      fill: #174EA6;\n",
              "    }\n",
              "\n",
              "    [theme=dark] .colab-df-convert {\n",
              "      background-color: #3B4455;\n",
              "      fill: #D2E3FC;\n",
              "    }\n",
              "\n",
              "    [theme=dark] .colab-df-convert:hover {\n",
              "      background-color: #434B5C;\n",
              "      box-shadow: 0px 1px 3px 1px rgba(0, 0, 0, 0.15);\n",
              "      filter: drop-shadow(0px 1px 2px rgba(0, 0, 0, 0.3));\n",
              "      fill: #FFFFFF;\n",
              "    }\n",
              "  </style>\n",
              "\n",
              "      <script>\n",
              "        const buttonEl =\n",
              "          document.querySelector('#df-c8d2d62a-7dbf-4034-b1de-8767c906b68c button.colab-df-convert');\n",
              "        buttonEl.style.display =\n",
              "          google.colab.kernel.accessAllowed ? 'block' : 'none';\n",
              "\n",
              "        async function convertToInteractive(key) {\n",
              "          const element = document.querySelector('#df-c8d2d62a-7dbf-4034-b1de-8767c906b68c');\n",
              "          const dataTable =\n",
              "            await google.colab.kernel.invokeFunction('convertToInteractive',\n",
              "                                                     [key], {});\n",
              "          if (!dataTable) return;\n",
              "\n",
              "          const docLinkHtml = 'Like what you see? Visit the ' +\n",
              "            '<a target=\"_blank\" href=https://colab.research.google.com/notebooks/data_table.ipynb>data table notebook</a>'\n",
              "            + ' to learn more about interactive tables.';\n",
              "          element.innerHTML = '';\n",
              "          dataTable['output_type'] = 'display_data';\n",
              "          await google.colab.output.renderOutput(dataTable, element);\n",
              "          const docLink = document.createElement('div');\n",
              "          docLink.innerHTML = docLinkHtml;\n",
              "          element.appendChild(docLink);\n",
              "        }\n",
              "      </script>\n",
              "    </div>\n",
              "  </div>\n",
              "  "
            ],
            "text/plain": [
              "   accountNumber  customerId  ...  expirationDateKeyInMatch  isFraud\n",
              "0      737265056   737265056  ...                     False    False\n",
              "1      737265056   737265056  ...                     False    False\n",
              "2      737265056   737265056  ...                     False    False\n",
              "3      737265056   737265056  ...                     False    False\n",
              "4      830329091   830329091  ...                     False    False\n",
              "\n",
              "[5 rows x 29 columns]"
            ]
          },
          "metadata": {},
          "execution_count": 2
        }
      ]
    },
    {
      "cell_type": "markdown",
      "source": [
        "**This info() function shows us the different features with it's data type and count of the non-null values**"
      ],
      "metadata": {
        "id": "VK3r9rkdOwpd"
      }
    },
    {
      "cell_type": "code",
      "source": [
        "trans_df.info()"
      ],
      "metadata": {
        "colab": {
          "base_uri": "https://localhost:8080/"
        },
        "id": "jlXTc_BBCuRb",
        "outputId": "2fe6ecab-7230-4c17-fe7f-a8fbd31c4f91"
      },
      "execution_count": null,
      "outputs": [
        {
          "output_type": "stream",
          "name": "stdout",
          "text": [
            "<class 'pandas.core.frame.DataFrame'>\n",
            "RangeIndex: 786363 entries, 0 to 786362\n",
            "Data columns (total 29 columns):\n",
            " #   Column                    Non-Null Count   Dtype  \n",
            "---  ------                    --------------   -----  \n",
            " 0   accountNumber             786363 non-null  int64  \n",
            " 1   customerId                786363 non-null  int64  \n",
            " 2   creditLimit               786363 non-null  int64  \n",
            " 3   availableMoney            786363 non-null  float64\n",
            " 4   transactionDateTime       786363 non-null  object \n",
            " 5   transactionAmount         786363 non-null  float64\n",
            " 6   merchantName              786363 non-null  object \n",
            " 7   acqCountry                786363 non-null  object \n",
            " 8   merchantCountryCode       786363 non-null  object \n",
            " 9   posEntryMode              786363 non-null  object \n",
            " 10  posConditionCode          786363 non-null  object \n",
            " 11  merchantCategoryCode      786363 non-null  object \n",
            " 12  currentExpDate            786363 non-null  object \n",
            " 13  accountOpenDate           786363 non-null  object \n",
            " 14  dateOfLastAddressChange   786363 non-null  object \n",
            " 15  cardCVV                   786363 non-null  int64  \n",
            " 16  enteredCVV                786363 non-null  int64  \n",
            " 17  cardLast4Digits           786363 non-null  int64  \n",
            " 18  transactionType           786363 non-null  object \n",
            " 19  echoBuffer                786363 non-null  object \n",
            " 20  currentBalance            786363 non-null  float64\n",
            " 21  merchantCity              786363 non-null  object \n",
            " 22  merchantState             786363 non-null  object \n",
            " 23  merchantZip               786363 non-null  object \n",
            " 24  cardPresent               786363 non-null  bool   \n",
            " 25  posOnPremises             786363 non-null  object \n",
            " 26  recurringAuthInd          786363 non-null  object \n",
            " 27  expirationDateKeyInMatch  786363 non-null  bool   \n",
            " 28  isFraud                   786363 non-null  bool   \n",
            "dtypes: bool(3), float64(3), int64(6), object(17)\n",
            "memory usage: 158.2+ MB\n"
          ]
        }
      ]
    },
    {
      "cell_type": "code",
      "source": [
        "#Coverting date-time features into datetime data type from it's object data type\n",
        "trans_df['transactionDateTime'] = trans_df['transactionDateTime'].astype('datetime64[ns]')\n",
        "trans_df['currentExpDate'] = trans_df['currentExpDate'].astype('datetime64[ns]')\n",
        "trans_df['accountOpenDate'] = trans_df['accountOpenDate'].astype('datetime64[ns]')\n",
        "trans_df['dateOfLastAddressChange'] = trans_df['dateOfLastAddressChange'].astype('datetime64[ns]')"
      ],
      "metadata": {
        "id": "YFx6dYFub6WU"
      },
      "execution_count": null,
      "outputs": []
    },
    {
      "cell_type": "code",
      "source": [
        "#Coverting bool data type features\n",
        "trans_df.expirationDateKeyInMatch = trans_df.expirationDateKeyInMatch.replace({True: 1, False: 0})\n",
        "trans_df.cardPresent = trans_df.cardPresent.replace({True: 1, False: 0})\n",
        "trans_df.isFraud = trans_df.isFraud.replace({True: 1, False: 0})"
      ],
      "metadata": {
        "id": "YG_23m9f0WAD"
      },
      "execution_count": null,
      "outputs": []
    },
    {
      "cell_type": "code",
      "source": [
        "#Now the updated data-type on features can be seen\n",
        "trans_df.info()"
      ],
      "metadata": {
        "colab": {
          "base_uri": "https://localhost:8080/"
        },
        "id": "v2zQuX1Zcjcv",
        "outputId": "1120721c-2216-4382-8fb4-94b4210a8fa3"
      },
      "execution_count": null,
      "outputs": [
        {
          "output_type": "stream",
          "name": "stdout",
          "text": [
            "<class 'pandas.core.frame.DataFrame'>\n",
            "RangeIndex: 786363 entries, 0 to 786362\n",
            "Data columns (total 29 columns):\n",
            " #   Column                    Non-Null Count   Dtype         \n",
            "---  ------                    --------------   -----         \n",
            " 0   accountNumber             786363 non-null  int64         \n",
            " 1   customerId                786363 non-null  int64         \n",
            " 2   creditLimit               786363 non-null  int64         \n",
            " 3   availableMoney            786363 non-null  float64       \n",
            " 4   transactionDateTime       786363 non-null  datetime64[ns]\n",
            " 5   transactionAmount         786363 non-null  float64       \n",
            " 6   merchantName              786363 non-null  object        \n",
            " 7   acqCountry                786363 non-null  object        \n",
            " 8   merchantCountryCode       786363 non-null  object        \n",
            " 9   posEntryMode              786363 non-null  object        \n",
            " 10  posConditionCode          786363 non-null  object        \n",
            " 11  merchantCategoryCode      786363 non-null  object        \n",
            " 12  currentExpDate            786363 non-null  datetime64[ns]\n",
            " 13  accountOpenDate           786363 non-null  datetime64[ns]\n",
            " 14  dateOfLastAddressChange   786363 non-null  datetime64[ns]\n",
            " 15  cardCVV                   786363 non-null  int64         \n",
            " 16  enteredCVV                786363 non-null  int64         \n",
            " 17  cardLast4Digits           786363 non-null  int64         \n",
            " 18  transactionType           786363 non-null  object        \n",
            " 19  echoBuffer                786363 non-null  object        \n",
            " 20  currentBalance            786363 non-null  float64       \n",
            " 21  merchantCity              786363 non-null  object        \n",
            " 22  merchantState             786363 non-null  object        \n",
            " 23  merchantZip               786363 non-null  object        \n",
            " 24  cardPresent               786363 non-null  int64         \n",
            " 25  posOnPremises             786363 non-null  object        \n",
            " 26  recurringAuthInd          786363 non-null  object        \n",
            " 27  expirationDateKeyInMatch  786363 non-null  int64         \n",
            " 28  isFraud                   786363 non-null  int64         \n",
            "dtypes: datetime64[ns](4), float64(3), int64(9), object(13)\n",
            "memory usage: 174.0+ MB\n"
          ]
        }
      ]
    },
    {
      "cell_type": "code",
      "source": [
        "#Checking the different values for data from the front\n",
        "trans_df.head()"
      ],
      "metadata": {
        "colab": {
          "base_uri": "https://localhost:8080/",
          "height": 288
        },
        "id": "Lo8vqtTAcmww",
        "outputId": "4932ce13-4a32-4cb4-ad14-2a64a9259562"
      },
      "execution_count": null,
      "outputs": [
        {
          "output_type": "execute_result",
          "data": {
            "text/html": [
              "\n",
              "  <div id=\"df-3fc86d87-26a0-40d7-b899-3535e457caa9\">\n",
              "    <div class=\"colab-df-container\">\n",
              "      <div>\n",
              "<style scoped>\n",
              "    .dataframe tbody tr th:only-of-type {\n",
              "        vertical-align: middle;\n",
              "    }\n",
              "\n",
              "    .dataframe tbody tr th {\n",
              "        vertical-align: top;\n",
              "    }\n",
              "\n",
              "    .dataframe thead th {\n",
              "        text-align: right;\n",
              "    }\n",
              "</style>\n",
              "<table border=\"1\" class=\"dataframe\">\n",
              "  <thead>\n",
              "    <tr style=\"text-align: right;\">\n",
              "      <th></th>\n",
              "      <th>accountNumber</th>\n",
              "      <th>customerId</th>\n",
              "      <th>creditLimit</th>\n",
              "      <th>availableMoney</th>\n",
              "      <th>transactionDateTime</th>\n",
              "      <th>transactionAmount</th>\n",
              "      <th>merchantName</th>\n",
              "      <th>acqCountry</th>\n",
              "      <th>merchantCountryCode</th>\n",
              "      <th>posEntryMode</th>\n",
              "      <th>posConditionCode</th>\n",
              "      <th>merchantCategoryCode</th>\n",
              "      <th>currentExpDate</th>\n",
              "      <th>accountOpenDate</th>\n",
              "      <th>dateOfLastAddressChange</th>\n",
              "      <th>cardCVV</th>\n",
              "      <th>enteredCVV</th>\n",
              "      <th>cardLast4Digits</th>\n",
              "      <th>transactionType</th>\n",
              "      <th>echoBuffer</th>\n",
              "      <th>currentBalance</th>\n",
              "      <th>merchantCity</th>\n",
              "      <th>merchantState</th>\n",
              "      <th>merchantZip</th>\n",
              "      <th>cardPresent</th>\n",
              "      <th>posOnPremises</th>\n",
              "      <th>recurringAuthInd</th>\n",
              "      <th>expirationDateKeyInMatch</th>\n",
              "      <th>isFraud</th>\n",
              "    </tr>\n",
              "  </thead>\n",
              "  <tbody>\n",
              "    <tr>\n",
              "      <th>0</th>\n",
              "      <td>737265056</td>\n",
              "      <td>737265056</td>\n",
              "      <td>5000</td>\n",
              "      <td>5000.0</td>\n",
              "      <td>2016-08-13 14:27:32</td>\n",
              "      <td>98.55</td>\n",
              "      <td>Uber</td>\n",
              "      <td>US</td>\n",
              "      <td>US</td>\n",
              "      <td>02</td>\n",
              "      <td>01</td>\n",
              "      <td>rideshare</td>\n",
              "      <td>2023-06-01</td>\n",
              "      <td>2015-03-14</td>\n",
              "      <td>2015-03-14</td>\n",
              "      <td>414</td>\n",
              "      <td>414</td>\n",
              "      <td>1803</td>\n",
              "      <td>PURCHASE</td>\n",
              "      <td></td>\n",
              "      <td>0.0</td>\n",
              "      <td></td>\n",
              "      <td></td>\n",
              "      <td></td>\n",
              "      <td>0</td>\n",
              "      <td></td>\n",
              "      <td></td>\n",
              "      <td>0</td>\n",
              "      <td>0</td>\n",
              "    </tr>\n",
              "    <tr>\n",
              "      <th>1</th>\n",
              "      <td>737265056</td>\n",
              "      <td>737265056</td>\n",
              "      <td>5000</td>\n",
              "      <td>5000.0</td>\n",
              "      <td>2016-10-11 05:05:54</td>\n",
              "      <td>74.51</td>\n",
              "      <td>AMC #191138</td>\n",
              "      <td>US</td>\n",
              "      <td>US</td>\n",
              "      <td>09</td>\n",
              "      <td>01</td>\n",
              "      <td>entertainment</td>\n",
              "      <td>2024-02-01</td>\n",
              "      <td>2015-03-14</td>\n",
              "      <td>2015-03-14</td>\n",
              "      <td>486</td>\n",
              "      <td>486</td>\n",
              "      <td>767</td>\n",
              "      <td>PURCHASE</td>\n",
              "      <td></td>\n",
              "      <td>0.0</td>\n",
              "      <td></td>\n",
              "      <td></td>\n",
              "      <td></td>\n",
              "      <td>1</td>\n",
              "      <td></td>\n",
              "      <td></td>\n",
              "      <td>0</td>\n",
              "      <td>0</td>\n",
              "    </tr>\n",
              "    <tr>\n",
              "      <th>2</th>\n",
              "      <td>737265056</td>\n",
              "      <td>737265056</td>\n",
              "      <td>5000</td>\n",
              "      <td>5000.0</td>\n",
              "      <td>2016-11-08 09:18:39</td>\n",
              "      <td>7.47</td>\n",
              "      <td>Play Store</td>\n",
              "      <td>US</td>\n",
              "      <td>US</td>\n",
              "      <td>09</td>\n",
              "      <td>01</td>\n",
              "      <td>mobileapps</td>\n",
              "      <td>2025-08-01</td>\n",
              "      <td>2015-03-14</td>\n",
              "      <td>2015-03-14</td>\n",
              "      <td>486</td>\n",
              "      <td>486</td>\n",
              "      <td>767</td>\n",
              "      <td>PURCHASE</td>\n",
              "      <td></td>\n",
              "      <td>0.0</td>\n",
              "      <td></td>\n",
              "      <td></td>\n",
              "      <td></td>\n",
              "      <td>0</td>\n",
              "      <td></td>\n",
              "      <td></td>\n",
              "      <td>0</td>\n",
              "      <td>0</td>\n",
              "    </tr>\n",
              "    <tr>\n",
              "      <th>3</th>\n",
              "      <td>737265056</td>\n",
              "      <td>737265056</td>\n",
              "      <td>5000</td>\n",
              "      <td>5000.0</td>\n",
              "      <td>2016-12-10 02:14:50</td>\n",
              "      <td>7.47</td>\n",
              "      <td>Play Store</td>\n",
              "      <td>US</td>\n",
              "      <td>US</td>\n",
              "      <td>09</td>\n",
              "      <td>01</td>\n",
              "      <td>mobileapps</td>\n",
              "      <td>2025-08-01</td>\n",
              "      <td>2015-03-14</td>\n",
              "      <td>2015-03-14</td>\n",
              "      <td>486</td>\n",
              "      <td>486</td>\n",
              "      <td>767</td>\n",
              "      <td>PURCHASE</td>\n",
              "      <td></td>\n",
              "      <td>0.0</td>\n",
              "      <td></td>\n",
              "      <td></td>\n",
              "      <td></td>\n",
              "      <td>0</td>\n",
              "      <td></td>\n",
              "      <td></td>\n",
              "      <td>0</td>\n",
              "      <td>0</td>\n",
              "    </tr>\n",
              "    <tr>\n",
              "      <th>4</th>\n",
              "      <td>830329091</td>\n",
              "      <td>830329091</td>\n",
              "      <td>5000</td>\n",
              "      <td>5000.0</td>\n",
              "      <td>2016-03-24 21:04:46</td>\n",
              "      <td>71.18</td>\n",
              "      <td>Tim Hortons #947751</td>\n",
              "      <td>US</td>\n",
              "      <td>US</td>\n",
              "      <td>02</td>\n",
              "      <td>01</td>\n",
              "      <td>fastfood</td>\n",
              "      <td>2029-10-01</td>\n",
              "      <td>2015-08-06</td>\n",
              "      <td>2015-08-06</td>\n",
              "      <td>885</td>\n",
              "      <td>885</td>\n",
              "      <td>3143</td>\n",
              "      <td>PURCHASE</td>\n",
              "      <td></td>\n",
              "      <td>0.0</td>\n",
              "      <td></td>\n",
              "      <td></td>\n",
              "      <td></td>\n",
              "      <td>1</td>\n",
              "      <td></td>\n",
              "      <td></td>\n",
              "      <td>0</td>\n",
              "      <td>0</td>\n",
              "    </tr>\n",
              "  </tbody>\n",
              "</table>\n",
              "</div>\n",
              "      <button class=\"colab-df-convert\" onclick=\"convertToInteractive('df-3fc86d87-26a0-40d7-b899-3535e457caa9')\"\n",
              "              title=\"Convert this dataframe to an interactive table.\"\n",
              "              style=\"display:none;\">\n",
              "        \n",
              "  <svg xmlns=\"http://www.w3.org/2000/svg\" height=\"24px\"viewBox=\"0 0 24 24\"\n",
              "       width=\"24px\">\n",
              "    <path d=\"M0 0h24v24H0V0z\" fill=\"none\"/>\n",
              "    <path d=\"M18.56 5.44l.94 2.06.94-2.06 2.06-.94-2.06-.94-.94-2.06-.94 2.06-2.06.94zm-11 1L8.5 8.5l.94-2.06 2.06-.94-2.06-.94L8.5 2.5l-.94 2.06-2.06.94zm10 10l.94 2.06.94-2.06 2.06-.94-2.06-.94-.94-2.06-.94 2.06-2.06.94z\"/><path d=\"M17.41 7.96l-1.37-1.37c-.4-.4-.92-.59-1.43-.59-.52 0-1.04.2-1.43.59L10.3 9.45l-7.72 7.72c-.78.78-.78 2.05 0 2.83L4 21.41c.39.39.9.59 1.41.59.51 0 1.02-.2 1.41-.59l7.78-7.78 2.81-2.81c.8-.78.8-2.07 0-2.86zM5.41 20L4 18.59l7.72-7.72 1.47 1.35L5.41 20z\"/>\n",
              "  </svg>\n",
              "      </button>\n",
              "      \n",
              "  <style>\n",
              "    .colab-df-container {\n",
              "      display:flex;\n",
              "      flex-wrap:wrap;\n",
              "      gap: 12px;\n",
              "    }\n",
              "\n",
              "    .colab-df-convert {\n",
              "      background-color: #E8F0FE;\n",
              "      border: none;\n",
              "      border-radius: 50%;\n",
              "      cursor: pointer;\n",
              "      display: none;\n",
              "      fill: #1967D2;\n",
              "      height: 32px;\n",
              "      padding: 0 0 0 0;\n",
              "      width: 32px;\n",
              "    }\n",
              "\n",
              "    .colab-df-convert:hover {\n",
              "      background-color: #E2EBFA;\n",
              "      box-shadow: 0px 1px 2px rgba(60, 64, 67, 0.3), 0px 1px 3px 1px rgba(60, 64, 67, 0.15);\n",
              "      fill: #174EA6;\n",
              "    }\n",
              "\n",
              "    [theme=dark] .colab-df-convert {\n",
              "      background-color: #3B4455;\n",
              "      fill: #D2E3FC;\n",
              "    }\n",
              "\n",
              "    [theme=dark] .colab-df-convert:hover {\n",
              "      background-color: #434B5C;\n",
              "      box-shadow: 0px 1px 3px 1px rgba(0, 0, 0, 0.15);\n",
              "      filter: drop-shadow(0px 1px 2px rgba(0, 0, 0, 0.3));\n",
              "      fill: #FFFFFF;\n",
              "    }\n",
              "  </style>\n",
              "\n",
              "      <script>\n",
              "        const buttonEl =\n",
              "          document.querySelector('#df-3fc86d87-26a0-40d7-b899-3535e457caa9 button.colab-df-convert');\n",
              "        buttonEl.style.display =\n",
              "          google.colab.kernel.accessAllowed ? 'block' : 'none';\n",
              "\n",
              "        async function convertToInteractive(key) {\n",
              "          const element = document.querySelector('#df-3fc86d87-26a0-40d7-b899-3535e457caa9');\n",
              "          const dataTable =\n",
              "            await google.colab.kernel.invokeFunction('convertToInteractive',\n",
              "                                                     [key], {});\n",
              "          if (!dataTable) return;\n",
              "\n",
              "          const docLinkHtml = 'Like what you see? Visit the ' +\n",
              "            '<a target=\"_blank\" href=https://colab.research.google.com/notebooks/data_table.ipynb>data table notebook</a>'\n",
              "            + ' to learn more about interactive tables.';\n",
              "          element.innerHTML = '';\n",
              "          dataTable['output_type'] = 'display_data';\n",
              "          await google.colab.output.renderOutput(dataTable, element);\n",
              "          const docLink = document.createElement('div');\n",
              "          docLink.innerHTML = docLinkHtml;\n",
              "          element.appendChild(docLink);\n",
              "        }\n",
              "      </script>\n",
              "    </div>\n",
              "  </div>\n",
              "  "
            ],
            "text/plain": [
              "   accountNumber  customerId  ...  expirationDateKeyInMatch  isFraud\n",
              "0      737265056   737265056  ...                         0        0\n",
              "1      737265056   737265056  ...                         0        0\n",
              "2      737265056   737265056  ...                         0        0\n",
              "3      737265056   737265056  ...                         0        0\n",
              "4      830329091   830329091  ...                         0        0\n",
              "\n",
              "[5 rows x 29 columns]"
            ]
          },
          "metadata": {},
          "execution_count": 7
        }
      ]
    },
    {
      "cell_type": "code",
      "source": [
        "#Checking the different values for data from the bottom\n",
        "trans_df.head(-5)"
      ],
      "metadata": {
        "colab": {
          "base_uri": "https://localhost:8080/",
          "height": 540
        },
        "id": "-6OCU8KGdMGD",
        "outputId": "baa03caf-4179-4703-89fc-54db712fcb7f"
      },
      "execution_count": null,
      "outputs": [
        {
          "output_type": "execute_result",
          "data": {
            "text/html": [
              "\n",
              "  <div id=\"df-750ac118-6607-4272-8ccd-2a78f2fe40c4\">\n",
              "    <div class=\"colab-df-container\">\n",
              "      <div>\n",
              "<style scoped>\n",
              "    .dataframe tbody tr th:only-of-type {\n",
              "        vertical-align: middle;\n",
              "    }\n",
              "\n",
              "    .dataframe tbody tr th {\n",
              "        vertical-align: top;\n",
              "    }\n",
              "\n",
              "    .dataframe thead th {\n",
              "        text-align: right;\n",
              "    }\n",
              "</style>\n",
              "<table border=\"1\" class=\"dataframe\">\n",
              "  <thead>\n",
              "    <tr style=\"text-align: right;\">\n",
              "      <th></th>\n",
              "      <th>accountNumber</th>\n",
              "      <th>customerId</th>\n",
              "      <th>creditLimit</th>\n",
              "      <th>availableMoney</th>\n",
              "      <th>transactionDateTime</th>\n",
              "      <th>transactionAmount</th>\n",
              "      <th>merchantName</th>\n",
              "      <th>acqCountry</th>\n",
              "      <th>merchantCountryCode</th>\n",
              "      <th>posEntryMode</th>\n",
              "      <th>posConditionCode</th>\n",
              "      <th>merchantCategoryCode</th>\n",
              "      <th>currentExpDate</th>\n",
              "      <th>accountOpenDate</th>\n",
              "      <th>dateOfLastAddressChange</th>\n",
              "      <th>cardCVV</th>\n",
              "      <th>enteredCVV</th>\n",
              "      <th>cardLast4Digits</th>\n",
              "      <th>transactionType</th>\n",
              "      <th>echoBuffer</th>\n",
              "      <th>currentBalance</th>\n",
              "      <th>merchantCity</th>\n",
              "      <th>merchantState</th>\n",
              "      <th>merchantZip</th>\n",
              "      <th>cardPresent</th>\n",
              "      <th>posOnPremises</th>\n",
              "      <th>recurringAuthInd</th>\n",
              "      <th>expirationDateKeyInMatch</th>\n",
              "      <th>isFraud</th>\n",
              "    </tr>\n",
              "  </thead>\n",
              "  <tbody>\n",
              "    <tr>\n",
              "      <th>0</th>\n",
              "      <td>737265056</td>\n",
              "      <td>737265056</td>\n",
              "      <td>5000</td>\n",
              "      <td>5000.00</td>\n",
              "      <td>2016-08-13 14:27:32</td>\n",
              "      <td>98.55</td>\n",
              "      <td>Uber</td>\n",
              "      <td>US</td>\n",
              "      <td>US</td>\n",
              "      <td>02</td>\n",
              "      <td>01</td>\n",
              "      <td>rideshare</td>\n",
              "      <td>2023-06-01</td>\n",
              "      <td>2015-03-14</td>\n",
              "      <td>2015-03-14</td>\n",
              "      <td>414</td>\n",
              "      <td>414</td>\n",
              "      <td>1803</td>\n",
              "      <td>PURCHASE</td>\n",
              "      <td></td>\n",
              "      <td>0.00</td>\n",
              "      <td></td>\n",
              "      <td></td>\n",
              "      <td></td>\n",
              "      <td>0</td>\n",
              "      <td></td>\n",
              "      <td></td>\n",
              "      <td>0</td>\n",
              "      <td>0</td>\n",
              "    </tr>\n",
              "    <tr>\n",
              "      <th>1</th>\n",
              "      <td>737265056</td>\n",
              "      <td>737265056</td>\n",
              "      <td>5000</td>\n",
              "      <td>5000.00</td>\n",
              "      <td>2016-10-11 05:05:54</td>\n",
              "      <td>74.51</td>\n",
              "      <td>AMC #191138</td>\n",
              "      <td>US</td>\n",
              "      <td>US</td>\n",
              "      <td>09</td>\n",
              "      <td>01</td>\n",
              "      <td>entertainment</td>\n",
              "      <td>2024-02-01</td>\n",
              "      <td>2015-03-14</td>\n",
              "      <td>2015-03-14</td>\n",
              "      <td>486</td>\n",
              "      <td>486</td>\n",
              "      <td>767</td>\n",
              "      <td>PURCHASE</td>\n",
              "      <td></td>\n",
              "      <td>0.00</td>\n",
              "      <td></td>\n",
              "      <td></td>\n",
              "      <td></td>\n",
              "      <td>1</td>\n",
              "      <td></td>\n",
              "      <td></td>\n",
              "      <td>0</td>\n",
              "      <td>0</td>\n",
              "    </tr>\n",
              "    <tr>\n",
              "      <th>2</th>\n",
              "      <td>737265056</td>\n",
              "      <td>737265056</td>\n",
              "      <td>5000</td>\n",
              "      <td>5000.00</td>\n",
              "      <td>2016-11-08 09:18:39</td>\n",
              "      <td>7.47</td>\n",
              "      <td>Play Store</td>\n",
              "      <td>US</td>\n",
              "      <td>US</td>\n",
              "      <td>09</td>\n",
              "      <td>01</td>\n",
              "      <td>mobileapps</td>\n",
              "      <td>2025-08-01</td>\n",
              "      <td>2015-03-14</td>\n",
              "      <td>2015-03-14</td>\n",
              "      <td>486</td>\n",
              "      <td>486</td>\n",
              "      <td>767</td>\n",
              "      <td>PURCHASE</td>\n",
              "      <td></td>\n",
              "      <td>0.00</td>\n",
              "      <td></td>\n",
              "      <td></td>\n",
              "      <td></td>\n",
              "      <td>0</td>\n",
              "      <td></td>\n",
              "      <td></td>\n",
              "      <td>0</td>\n",
              "      <td>0</td>\n",
              "    </tr>\n",
              "    <tr>\n",
              "      <th>3</th>\n",
              "      <td>737265056</td>\n",
              "      <td>737265056</td>\n",
              "      <td>5000</td>\n",
              "      <td>5000.00</td>\n",
              "      <td>2016-12-10 02:14:50</td>\n",
              "      <td>7.47</td>\n",
              "      <td>Play Store</td>\n",
              "      <td>US</td>\n",
              "      <td>US</td>\n",
              "      <td>09</td>\n",
              "      <td>01</td>\n",
              "      <td>mobileapps</td>\n",
              "      <td>2025-08-01</td>\n",
              "      <td>2015-03-14</td>\n",
              "      <td>2015-03-14</td>\n",
              "      <td>486</td>\n",
              "      <td>486</td>\n",
              "      <td>767</td>\n",
              "      <td>PURCHASE</td>\n",
              "      <td></td>\n",
              "      <td>0.00</td>\n",
              "      <td></td>\n",
              "      <td></td>\n",
              "      <td></td>\n",
              "      <td>0</td>\n",
              "      <td></td>\n",
              "      <td></td>\n",
              "      <td>0</td>\n",
              "      <td>0</td>\n",
              "    </tr>\n",
              "    <tr>\n",
              "      <th>4</th>\n",
              "      <td>830329091</td>\n",
              "      <td>830329091</td>\n",
              "      <td>5000</td>\n",
              "      <td>5000.00</td>\n",
              "      <td>2016-03-24 21:04:46</td>\n",
              "      <td>71.18</td>\n",
              "      <td>Tim Hortons #947751</td>\n",
              "      <td>US</td>\n",
              "      <td>US</td>\n",
              "      <td>02</td>\n",
              "      <td>01</td>\n",
              "      <td>fastfood</td>\n",
              "      <td>2029-10-01</td>\n",
              "      <td>2015-08-06</td>\n",
              "      <td>2015-08-06</td>\n",
              "      <td>885</td>\n",
              "      <td>885</td>\n",
              "      <td>3143</td>\n",
              "      <td>PURCHASE</td>\n",
              "      <td></td>\n",
              "      <td>0.00</td>\n",
              "      <td></td>\n",
              "      <td></td>\n",
              "      <td></td>\n",
              "      <td>1</td>\n",
              "      <td></td>\n",
              "      <td></td>\n",
              "      <td>0</td>\n",
              "      <td>0</td>\n",
              "    </tr>\n",
              "    <tr>\n",
              "      <th>...</th>\n",
              "      <td>...</td>\n",
              "      <td>...</td>\n",
              "      <td>...</td>\n",
              "      <td>...</td>\n",
              "      <td>...</td>\n",
              "      <td>...</td>\n",
              "      <td>...</td>\n",
              "      <td>...</td>\n",
              "      <td>...</td>\n",
              "      <td>...</td>\n",
              "      <td>...</td>\n",
              "      <td>...</td>\n",
              "      <td>...</td>\n",
              "      <td>...</td>\n",
              "      <td>...</td>\n",
              "      <td>...</td>\n",
              "      <td>...</td>\n",
              "      <td>...</td>\n",
              "      <td>...</td>\n",
              "      <td>...</td>\n",
              "      <td>...</td>\n",
              "      <td>...</td>\n",
              "      <td>...</td>\n",
              "      <td>...</td>\n",
              "      <td>...</td>\n",
              "      <td>...</td>\n",
              "      <td>...</td>\n",
              "      <td>...</td>\n",
              "      <td>...</td>\n",
              "    </tr>\n",
              "    <tr>\n",
              "      <th>786353</th>\n",
              "      <td>732852505</td>\n",
              "      <td>732852505</td>\n",
              "      <td>50000</td>\n",
              "      <td>49796.87</td>\n",
              "      <td>2016-12-10 12:24:38</td>\n",
              "      <td>190.41</td>\n",
              "      <td>EZ Putt Putt #804489</td>\n",
              "      <td>US</td>\n",
              "      <td>US</td>\n",
              "      <td>09</td>\n",
              "      <td>01</td>\n",
              "      <td>entertainment</td>\n",
              "      <td>2029-06-01</td>\n",
              "      <td>2012-08-23</td>\n",
              "      <td>2012-08-23</td>\n",
              "      <td>936</td>\n",
              "      <td>936</td>\n",
              "      <td>3783</td>\n",
              "      <td>PURCHASE</td>\n",
              "      <td></td>\n",
              "      <td>203.13</td>\n",
              "      <td></td>\n",
              "      <td></td>\n",
              "      <td></td>\n",
              "      <td>1</td>\n",
              "      <td></td>\n",
              "      <td></td>\n",
              "      <td>0</td>\n",
              "      <td>0</td>\n",
              "    </tr>\n",
              "    <tr>\n",
              "      <th>786354</th>\n",
              "      <td>732852505</td>\n",
              "      <td>732852505</td>\n",
              "      <td>50000</td>\n",
              "      <td>49606.46</td>\n",
              "      <td>2016-12-10 23:29:11</td>\n",
              "      <td>83.97</td>\n",
              "      <td>KFC #206511</td>\n",
              "      <td>US</td>\n",
              "      <td>US</td>\n",
              "      <td>05</td>\n",
              "      <td>08</td>\n",
              "      <td>fastfood</td>\n",
              "      <td>2030-12-01</td>\n",
              "      <td>2012-08-23</td>\n",
              "      <td>2012-08-23</td>\n",
              "      <td>939</td>\n",
              "      <td>939</td>\n",
              "      <td>3388</td>\n",
              "      <td>PURCHASE</td>\n",
              "      <td></td>\n",
              "      <td>393.54</td>\n",
              "      <td></td>\n",
              "      <td></td>\n",
              "      <td></td>\n",
              "      <td>1</td>\n",
              "      <td></td>\n",
              "      <td></td>\n",
              "      <td>0</td>\n",
              "      <td>0</td>\n",
              "    </tr>\n",
              "    <tr>\n",
              "      <th>786355</th>\n",
              "      <td>732852505</td>\n",
              "      <td>732852505</td>\n",
              "      <td>50000</td>\n",
              "      <td>49522.49</td>\n",
              "      <td>2016-12-18 14:06:34</td>\n",
              "      <td>157.22</td>\n",
              "      <td>Uber</td>\n",
              "      <td>US</td>\n",
              "      <td>US</td>\n",
              "      <td>09</td>\n",
              "      <td>01</td>\n",
              "      <td>rideshare</td>\n",
              "      <td>2029-08-01</td>\n",
              "      <td>2012-08-23</td>\n",
              "      <td>2012-08-23</td>\n",
              "      <td>936</td>\n",
              "      <td>936</td>\n",
              "      <td>3783</td>\n",
              "      <td>PURCHASE</td>\n",
              "      <td></td>\n",
              "      <td>477.51</td>\n",
              "      <td></td>\n",
              "      <td></td>\n",
              "      <td></td>\n",
              "      <td>0</td>\n",
              "      <td></td>\n",
              "      <td></td>\n",
              "      <td>0</td>\n",
              "      <td>0</td>\n",
              "    </tr>\n",
              "    <tr>\n",
              "      <th>786356</th>\n",
              "      <td>732852505</td>\n",
              "      <td>732852505</td>\n",
              "      <td>50000</td>\n",
              "      <td>49365.27</td>\n",
              "      <td>2016-12-19 03:25:53</td>\n",
              "      <td>408.83</td>\n",
              "      <td>Lyft</td>\n",
              "      <td>US</td>\n",
              "      <td>US</td>\n",
              "      <td>09</td>\n",
              "      <td>01</td>\n",
              "      <td>rideshare</td>\n",
              "      <td>2021-06-01</td>\n",
              "      <td>2012-08-23</td>\n",
              "      <td>2012-08-23</td>\n",
              "      <td>939</td>\n",
              "      <td>939</td>\n",
              "      <td>3388</td>\n",
              "      <td>PURCHASE</td>\n",
              "      <td></td>\n",
              "      <td>634.73</td>\n",
              "      <td></td>\n",
              "      <td></td>\n",
              "      <td></td>\n",
              "      <td>0</td>\n",
              "      <td></td>\n",
              "      <td></td>\n",
              "      <td>0</td>\n",
              "      <td>0</td>\n",
              "    </tr>\n",
              "    <tr>\n",
              "      <th>786357</th>\n",
              "      <td>732852505</td>\n",
              "      <td>732852505</td>\n",
              "      <td>50000</td>\n",
              "      <td>48956.44</td>\n",
              "      <td>2016-12-22 07:27:23</td>\n",
              "      <td>51.48</td>\n",
              "      <td>Sunoco Gas #380975</td>\n",
              "      <td>US</td>\n",
              "      <td>US</td>\n",
              "      <td>05</td>\n",
              "      <td>08</td>\n",
              "      <td>fuel</td>\n",
              "      <td>2032-07-01</td>\n",
              "      <td>2012-08-23</td>\n",
              "      <td>2012-08-23</td>\n",
              "      <td>936</td>\n",
              "      <td>936</td>\n",
              "      <td>3783</td>\n",
              "      <td>PURCHASE</td>\n",
              "      <td></td>\n",
              "      <td>1043.56</td>\n",
              "      <td></td>\n",
              "      <td></td>\n",
              "      <td></td>\n",
              "      <td>1</td>\n",
              "      <td></td>\n",
              "      <td></td>\n",
              "      <td>0</td>\n",
              "      <td>0</td>\n",
              "    </tr>\n",
              "  </tbody>\n",
              "</table>\n",
              "<p>786358 rows × 29 columns</p>\n",
              "</div>\n",
              "      <button class=\"colab-df-convert\" onclick=\"convertToInteractive('df-750ac118-6607-4272-8ccd-2a78f2fe40c4')\"\n",
              "              title=\"Convert this dataframe to an interactive table.\"\n",
              "              style=\"display:none;\">\n",
              "        \n",
              "  <svg xmlns=\"http://www.w3.org/2000/svg\" height=\"24px\"viewBox=\"0 0 24 24\"\n",
              "       width=\"24px\">\n",
              "    <path d=\"M0 0h24v24H0V0z\" fill=\"none\"/>\n",
              "    <path d=\"M18.56 5.44l.94 2.06.94-2.06 2.06-.94-2.06-.94-.94-2.06-.94 2.06-2.06.94zm-11 1L8.5 8.5l.94-2.06 2.06-.94-2.06-.94L8.5 2.5l-.94 2.06-2.06.94zm10 10l.94 2.06.94-2.06 2.06-.94-2.06-.94-.94-2.06-.94 2.06-2.06.94z\"/><path d=\"M17.41 7.96l-1.37-1.37c-.4-.4-.92-.59-1.43-.59-.52 0-1.04.2-1.43.59L10.3 9.45l-7.72 7.72c-.78.78-.78 2.05 0 2.83L4 21.41c.39.39.9.59 1.41.59.51 0 1.02-.2 1.41-.59l7.78-7.78 2.81-2.81c.8-.78.8-2.07 0-2.86zM5.41 20L4 18.59l7.72-7.72 1.47 1.35L5.41 20z\"/>\n",
              "  </svg>\n",
              "      </button>\n",
              "      \n",
              "  <style>\n",
              "    .colab-df-container {\n",
              "      display:flex;\n",
              "      flex-wrap:wrap;\n",
              "      gap: 12px;\n",
              "    }\n",
              "\n",
              "    .colab-df-convert {\n",
              "      background-color: #E8F0FE;\n",
              "      border: none;\n",
              "      border-radius: 50%;\n",
              "      cursor: pointer;\n",
              "      display: none;\n",
              "      fill: #1967D2;\n",
              "      height: 32px;\n",
              "      padding: 0 0 0 0;\n",
              "      width: 32px;\n",
              "    }\n",
              "\n",
              "    .colab-df-convert:hover {\n",
              "      background-color: #E2EBFA;\n",
              "      box-shadow: 0px 1px 2px rgba(60, 64, 67, 0.3), 0px 1px 3px 1px rgba(60, 64, 67, 0.15);\n",
              "      fill: #174EA6;\n",
              "    }\n",
              "\n",
              "    [theme=dark] .colab-df-convert {\n",
              "      background-color: #3B4455;\n",
              "      fill: #D2E3FC;\n",
              "    }\n",
              "\n",
              "    [theme=dark] .colab-df-convert:hover {\n",
              "      background-color: #434B5C;\n",
              "      box-shadow: 0px 1px 3px 1px rgba(0, 0, 0, 0.15);\n",
              "      filter: drop-shadow(0px 1px 2px rgba(0, 0, 0, 0.3));\n",
              "      fill: #FFFFFF;\n",
              "    }\n",
              "  </style>\n",
              "\n",
              "      <script>\n",
              "        const buttonEl =\n",
              "          document.querySelector('#df-750ac118-6607-4272-8ccd-2a78f2fe40c4 button.colab-df-convert');\n",
              "        buttonEl.style.display =\n",
              "          google.colab.kernel.accessAllowed ? 'block' : 'none';\n",
              "\n",
              "        async function convertToInteractive(key) {\n",
              "          const element = document.querySelector('#df-750ac118-6607-4272-8ccd-2a78f2fe40c4');\n",
              "          const dataTable =\n",
              "            await google.colab.kernel.invokeFunction('convertToInteractive',\n",
              "                                                     [key], {});\n",
              "          if (!dataTable) return;\n",
              "\n",
              "          const docLinkHtml = 'Like what you see? Visit the ' +\n",
              "            '<a target=\"_blank\" href=https://colab.research.google.com/notebooks/data_table.ipynb>data table notebook</a>'\n",
              "            + ' to learn more about interactive tables.';\n",
              "          element.innerHTML = '';\n",
              "          dataTable['output_type'] = 'display_data';\n",
              "          await google.colab.output.renderOutput(dataTable, element);\n",
              "          const docLink = document.createElement('div');\n",
              "          docLink.innerHTML = docLinkHtml;\n",
              "          element.appendChild(docLink);\n",
              "        }\n",
              "      </script>\n",
              "    </div>\n",
              "  </div>\n",
              "  "
            ],
            "text/plain": [
              "        accountNumber  customerId  ...  expirationDateKeyInMatch  isFraud\n",
              "0           737265056   737265056  ...                         0        0\n",
              "1           737265056   737265056  ...                         0        0\n",
              "2           737265056   737265056  ...                         0        0\n",
              "3           737265056   737265056  ...                         0        0\n",
              "4           830329091   830329091  ...                         0        0\n",
              "...               ...         ...  ...                       ...      ...\n",
              "786353      732852505   732852505  ...                         0        0\n",
              "786354      732852505   732852505  ...                         0        0\n",
              "786355      732852505   732852505  ...                         0        0\n",
              "786356      732852505   732852505  ...                         0        0\n",
              "786357      732852505   732852505  ...                         0        0\n",
              "\n",
              "[786358 rows x 29 columns]"
            ]
          },
          "metadata": {},
          "execution_count": 8
        }
      ]
    },
    {
      "cell_type": "markdown",
      "source": [
        "**Gives the statistics like mean, standard deviation, and quartiles for numeric data type features along with minimum and maximum values**"
      ],
      "metadata": {
        "id": "etb2OXvA2kGU"
      }
    },
    {
      "cell_type": "code",
      "source": [
        "trans_df.describe()"
      ],
      "metadata": {
        "colab": {
          "base_uri": "https://localhost:8080/",
          "height": 364
        },
        "id": "ZwanNVHHK14t",
        "outputId": "8ff4a6c5-77f2-4611-f96d-363b04f30870"
      },
      "execution_count": null,
      "outputs": [
        {
          "output_type": "execute_result",
          "data": {
            "text/html": [
              "\n",
              "  <div id=\"df-a9bf07f3-cbf3-4a7b-8ca4-519a9b0e7ebc\">\n",
              "    <div class=\"colab-df-container\">\n",
              "      <div>\n",
              "<style scoped>\n",
              "    .dataframe tbody tr th:only-of-type {\n",
              "        vertical-align: middle;\n",
              "    }\n",
              "\n",
              "    .dataframe tbody tr th {\n",
              "        vertical-align: top;\n",
              "    }\n",
              "\n",
              "    .dataframe thead th {\n",
              "        text-align: right;\n",
              "    }\n",
              "</style>\n",
              "<table border=\"1\" class=\"dataframe\">\n",
              "  <thead>\n",
              "    <tr style=\"text-align: right;\">\n",
              "      <th></th>\n",
              "      <th>accountNumber</th>\n",
              "      <th>customerId</th>\n",
              "      <th>creditLimit</th>\n",
              "      <th>availableMoney</th>\n",
              "      <th>transactionAmount</th>\n",
              "      <th>cardCVV</th>\n",
              "      <th>enteredCVV</th>\n",
              "      <th>cardLast4Digits</th>\n",
              "      <th>currentBalance</th>\n",
              "      <th>cardPresent</th>\n",
              "      <th>expirationDateKeyInMatch</th>\n",
              "      <th>isFraud</th>\n",
              "    </tr>\n",
              "  </thead>\n",
              "  <tbody>\n",
              "    <tr>\n",
              "      <th>count</th>\n",
              "      <td>7.863630e+05</td>\n",
              "      <td>7.863630e+05</td>\n",
              "      <td>786363.000000</td>\n",
              "      <td>786363.000000</td>\n",
              "      <td>786363.000000</td>\n",
              "      <td>786363.000000</td>\n",
              "      <td>786363.000000</td>\n",
              "      <td>786363.000000</td>\n",
              "      <td>786363.000000</td>\n",
              "      <td>786363.000000</td>\n",
              "      <td>786363.000000</td>\n",
              "      <td>786363.000000</td>\n",
              "    </tr>\n",
              "    <tr>\n",
              "      <th>mean</th>\n",
              "      <td>5.372326e+08</td>\n",
              "      <td>5.372326e+08</td>\n",
              "      <td>10759.464459</td>\n",
              "      <td>6250.725369</td>\n",
              "      <td>136.985791</td>\n",
              "      <td>544.467338</td>\n",
              "      <td>544.183857</td>\n",
              "      <td>4757.417799</td>\n",
              "      <td>4508.739089</td>\n",
              "      <td>0.448734</td>\n",
              "      <td>0.001326</td>\n",
              "      <td>0.015790</td>\n",
              "    </tr>\n",
              "    <tr>\n",
              "      <th>std</th>\n",
              "      <td>2.554211e+08</td>\n",
              "      <td>2.554211e+08</td>\n",
              "      <td>11636.174890</td>\n",
              "      <td>8880.783989</td>\n",
              "      <td>147.725569</td>\n",
              "      <td>261.524220</td>\n",
              "      <td>261.551254</td>\n",
              "      <td>2996.583810</td>\n",
              "      <td>6457.442068</td>\n",
              "      <td>0.497365</td>\n",
              "      <td>0.036395</td>\n",
              "      <td>0.124664</td>\n",
              "    </tr>\n",
              "    <tr>\n",
              "      <th>min</th>\n",
              "      <td>1.000881e+08</td>\n",
              "      <td>1.000881e+08</td>\n",
              "      <td>250.000000</td>\n",
              "      <td>-1005.630000</td>\n",
              "      <td>0.000000</td>\n",
              "      <td>100.000000</td>\n",
              "      <td>0.000000</td>\n",
              "      <td>0.000000</td>\n",
              "      <td>0.000000</td>\n",
              "      <td>0.000000</td>\n",
              "      <td>0.000000</td>\n",
              "      <td>0.000000</td>\n",
              "    </tr>\n",
              "    <tr>\n",
              "      <th>25%</th>\n",
              "      <td>3.301333e+08</td>\n",
              "      <td>3.301333e+08</td>\n",
              "      <td>5000.000000</td>\n",
              "      <td>1077.420000</td>\n",
              "      <td>33.650000</td>\n",
              "      <td>310.000000</td>\n",
              "      <td>310.000000</td>\n",
              "      <td>2178.000000</td>\n",
              "      <td>689.910000</td>\n",
              "      <td>0.000000</td>\n",
              "      <td>0.000000</td>\n",
              "      <td>0.000000</td>\n",
              "    </tr>\n",
              "    <tr>\n",
              "      <th>50%</th>\n",
              "      <td>5.074561e+08</td>\n",
              "      <td>5.074561e+08</td>\n",
              "      <td>7500.000000</td>\n",
              "      <td>3184.860000</td>\n",
              "      <td>87.900000</td>\n",
              "      <td>535.000000</td>\n",
              "      <td>535.000000</td>\n",
              "      <td>4733.000000</td>\n",
              "      <td>2451.760000</td>\n",
              "      <td>0.000000</td>\n",
              "      <td>0.000000</td>\n",
              "      <td>0.000000</td>\n",
              "    </tr>\n",
              "    <tr>\n",
              "      <th>75%</th>\n",
              "      <td>7.676200e+08</td>\n",
              "      <td>7.676200e+08</td>\n",
              "      <td>15000.000000</td>\n",
              "      <td>7500.000000</td>\n",
              "      <td>191.480000</td>\n",
              "      <td>785.000000</td>\n",
              "      <td>785.000000</td>\n",
              "      <td>7338.000000</td>\n",
              "      <td>5291.095000</td>\n",
              "      <td>1.000000</td>\n",
              "      <td>0.000000</td>\n",
              "      <td>0.000000</td>\n",
              "    </tr>\n",
              "    <tr>\n",
              "      <th>max</th>\n",
              "      <td>9.993896e+08</td>\n",
              "      <td>9.993896e+08</td>\n",
              "      <td>50000.000000</td>\n",
              "      <td>50000.000000</td>\n",
              "      <td>2011.540000</td>\n",
              "      <td>998.000000</td>\n",
              "      <td>998.000000</td>\n",
              "      <td>9998.000000</td>\n",
              "      <td>47498.810000</td>\n",
              "      <td>1.000000</td>\n",
              "      <td>1.000000</td>\n",
              "      <td>1.000000</td>\n",
              "    </tr>\n",
              "  </tbody>\n",
              "</table>\n",
              "</div>\n",
              "      <button class=\"colab-df-convert\" onclick=\"convertToInteractive('df-a9bf07f3-cbf3-4a7b-8ca4-519a9b0e7ebc')\"\n",
              "              title=\"Convert this dataframe to an interactive table.\"\n",
              "              style=\"display:none;\">\n",
              "        \n",
              "  <svg xmlns=\"http://www.w3.org/2000/svg\" height=\"24px\"viewBox=\"0 0 24 24\"\n",
              "       width=\"24px\">\n",
              "    <path d=\"M0 0h24v24H0V0z\" fill=\"none\"/>\n",
              "    <path d=\"M18.56 5.44l.94 2.06.94-2.06 2.06-.94-2.06-.94-.94-2.06-.94 2.06-2.06.94zm-11 1L8.5 8.5l.94-2.06 2.06-.94-2.06-.94L8.5 2.5l-.94 2.06-2.06.94zm10 10l.94 2.06.94-2.06 2.06-.94-2.06-.94-.94-2.06-.94 2.06-2.06.94z\"/><path d=\"M17.41 7.96l-1.37-1.37c-.4-.4-.92-.59-1.43-.59-.52 0-1.04.2-1.43.59L10.3 9.45l-7.72 7.72c-.78.78-.78 2.05 0 2.83L4 21.41c.39.39.9.59 1.41.59.51 0 1.02-.2 1.41-.59l7.78-7.78 2.81-2.81c.8-.78.8-2.07 0-2.86zM5.41 20L4 18.59l7.72-7.72 1.47 1.35L5.41 20z\"/>\n",
              "  </svg>\n",
              "      </button>\n",
              "      \n",
              "  <style>\n",
              "    .colab-df-container {\n",
              "      display:flex;\n",
              "      flex-wrap:wrap;\n",
              "      gap: 12px;\n",
              "    }\n",
              "\n",
              "    .colab-df-convert {\n",
              "      background-color: #E8F0FE;\n",
              "      border: none;\n",
              "      border-radius: 50%;\n",
              "      cursor: pointer;\n",
              "      display: none;\n",
              "      fill: #1967D2;\n",
              "      height: 32px;\n",
              "      padding: 0 0 0 0;\n",
              "      width: 32px;\n",
              "    }\n",
              "\n",
              "    .colab-df-convert:hover {\n",
              "      background-color: #E2EBFA;\n",
              "      box-shadow: 0px 1px 2px rgba(60, 64, 67, 0.3), 0px 1px 3px 1px rgba(60, 64, 67, 0.15);\n",
              "      fill: #174EA6;\n",
              "    }\n",
              "\n",
              "    [theme=dark] .colab-df-convert {\n",
              "      background-color: #3B4455;\n",
              "      fill: #D2E3FC;\n",
              "    }\n",
              "\n",
              "    [theme=dark] .colab-df-convert:hover {\n",
              "      background-color: #434B5C;\n",
              "      box-shadow: 0px 1px 3px 1px rgba(0, 0, 0, 0.15);\n",
              "      filter: drop-shadow(0px 1px 2px rgba(0, 0, 0, 0.3));\n",
              "      fill: #FFFFFF;\n",
              "    }\n",
              "  </style>\n",
              "\n",
              "      <script>\n",
              "        const buttonEl =\n",
              "          document.querySelector('#df-a9bf07f3-cbf3-4a7b-8ca4-519a9b0e7ebc button.colab-df-convert');\n",
              "        buttonEl.style.display =\n",
              "          google.colab.kernel.accessAllowed ? 'block' : 'none';\n",
              "\n",
              "        async function convertToInteractive(key) {\n",
              "          const element = document.querySelector('#df-a9bf07f3-cbf3-4a7b-8ca4-519a9b0e7ebc');\n",
              "          const dataTable =\n",
              "            await google.colab.kernel.invokeFunction('convertToInteractive',\n",
              "                                                     [key], {});\n",
              "          if (!dataTable) return;\n",
              "\n",
              "          const docLinkHtml = 'Like what you see? Visit the ' +\n",
              "            '<a target=\"_blank\" href=https://colab.research.google.com/notebooks/data_table.ipynb>data table notebook</a>'\n",
              "            + ' to learn more about interactive tables.';\n",
              "          element.innerHTML = '';\n",
              "          dataTable['output_type'] = 'display_data';\n",
              "          await google.colab.output.renderOutput(dataTable, element);\n",
              "          const docLink = document.createElement('div');\n",
              "          docLink.innerHTML = docLinkHtml;\n",
              "          element.appendChild(docLink);\n",
              "        }\n",
              "      </script>\n",
              "    </div>\n",
              "  </div>\n",
              "  "
            ],
            "text/plain": [
              "       accountNumber    customerId  ...  expirationDateKeyInMatch        isFraud\n",
              "count   7.863630e+05  7.863630e+05  ...             786363.000000  786363.000000\n",
              "mean    5.372326e+08  5.372326e+08  ...                  0.001326       0.015790\n",
              "std     2.554211e+08  2.554211e+08  ...                  0.036395       0.124664\n",
              "min     1.000881e+08  1.000881e+08  ...                  0.000000       0.000000\n",
              "25%     3.301333e+08  3.301333e+08  ...                  0.000000       0.000000\n",
              "50%     5.074561e+08  5.074561e+08  ...                  0.000000       0.000000\n",
              "75%     7.676200e+08  7.676200e+08  ...                  0.000000       0.000000\n",
              "max     9.993896e+08  9.993896e+08  ...                  1.000000       1.000000\n",
              "\n",
              "[8 rows x 12 columns]"
            ]
          },
          "metadata": {},
          "execution_count": 9
        }
      ]
    },
    {
      "cell_type": "markdown",
      "source": [
        "**Potrays the number of unique values in each column -> gives us a glimpse into constant columns (only 1 unique values),\n",
        "binary categories or boolean categories that has 2 unique values,\n",
        "categorical variables with unique values less than or equal to 10,\n",
        "and continous variables with significantly higher unique value** "
      ],
      "metadata": {
        "id": "6VSvII2I2rzD"
      }
    },
    {
      "cell_type": "code",
      "source": [
        "trans_df.nunique(axis=0)"
      ],
      "metadata": {
        "colab": {
          "base_uri": "https://localhost:8080/"
        },
        "id": "sgHL1r-sLUHx",
        "outputId": "2a75a62b-7463-431a-a709-94a605782ec4"
      },
      "execution_count": null,
      "outputs": [
        {
          "output_type": "execute_result",
          "data": {
            "text/plain": [
              "accountNumber                 5000\n",
              "customerId                    5000\n",
              "creditLimit                     10\n",
              "availableMoney              521915\n",
              "transactionDateTime         776637\n",
              "transactionAmount            66038\n",
              "merchantName                  2490\n",
              "acqCountry                       5\n",
              "merchantCountryCode              5\n",
              "posEntryMode                     6\n",
              "posConditionCode                 4\n",
              "merchantCategoryCode            19\n",
              "currentExpDate                 165\n",
              "accountOpenDate               1820\n",
              "dateOfLastAddressChange       2184\n",
              "cardCVV                        899\n",
              "enteredCVV                     976\n",
              "cardLast4Digits               5245\n",
              "transactionType                  4\n",
              "echoBuffer                       1\n",
              "currentBalance              487318\n",
              "merchantCity                     1\n",
              "merchantState                    1\n",
              "merchantZip                      1\n",
              "cardPresent                      2\n",
              "posOnPremises                    1\n",
              "recurringAuthInd                 1\n",
              "expirationDateKeyInMatch         2\n",
              "isFraud                          2\n",
              "dtype: int64"
            ]
          },
          "metadata": {},
          "execution_count": 10
        }
      ]
    },
    {
      "cell_type": "markdown",
      "source": [
        "**Categorical variables - Checking different categories and number of values present in each**"
      ],
      "metadata": {
        "id": "BptXD1tSo7mX"
      }
    },
    {
      "cell_type": "code",
      "source": [
        "trans_df.creditLimit.value_counts().sort_values()"
      ],
      "metadata": {
        "id": "2FMYWQNcoiD3",
        "colab": {
          "base_uri": "https://localhost:8080/"
        },
        "outputId": "70937ec7-6bb7-40d2-df00-4ebaa229b7fc"
      },
      "execution_count": null,
      "outputs": [
        {
          "output_type": "execute_result",
          "data": {
            "text/plain": [
              "500       27097\n",
              "250       34025\n",
              "1000      36430\n",
              "50000     48781\n",
              "10000     56889\n",
              "20000     68629\n",
              "2500      75429\n",
              "7500      97913\n",
              "15000    139307\n",
              "5000     201863\n",
              "Name: creditLimit, dtype: int64"
            ]
          },
          "metadata": {},
          "execution_count": 11
        }
      ]
    },
    {
      "cell_type": "code",
      "source": [
        "trans_df.acqCountry.value_counts().sort_values()"
      ],
      "metadata": {
        "id": "NTBYs2psoh9o",
        "colab": {
          "base_uri": "https://localhost:8080/"
        },
        "outputId": "d0f12a63-4710-43b3-8f85-15d13afd7482"
      },
      "execution_count": null,
      "outputs": [
        {
          "output_type": "execute_result",
          "data": {
            "text/plain": [
              "PR       1538\n",
              "CAN      2424\n",
              "MEX      3130\n",
              "         4562\n",
              "US     774709\n",
              "Name: acqCountry, dtype: int64"
            ]
          },
          "metadata": {},
          "execution_count": 12
        }
      ]
    },
    {
      "cell_type": "code",
      "source": [
        "trans_df.merchantCountryCode.value_counts().sort_values()"
      ],
      "metadata": {
        "id": "SWobO-JRohzv",
        "colab": {
          "base_uri": "https://localhost:8080/"
        },
        "outputId": "3604309d-7b5a-4f41-8408-e1736c014688"
      },
      "execution_count": null,
      "outputs": [
        {
          "output_type": "execute_result",
          "data": {
            "text/plain": [
              "          724\n",
              "PR       1559\n",
              "CAN      2426\n",
              "MEX      3143\n",
              "US     778511\n",
              "Name: merchantCountryCode, dtype: int64"
            ]
          },
          "metadata": {},
          "execution_count": 13
        }
      ]
    },
    {
      "cell_type": "code",
      "source": [
        "trans_df.posEntryMode.value_counts().sort_values()"
      ],
      "metadata": {
        "id": "JmiGq5wYorMy",
        "colab": {
          "base_uri": "https://localhost:8080/"
        },
        "outputId": "a4c0058c-55fc-4cf7-f2d4-6d4861f229a4"
      },
      "execution_count": null,
      "outputs": [
        {
          "output_type": "execute_result",
          "data": {
            "text/plain": [
              "        4054\n",
              "80     15283\n",
              "90     19576\n",
              "02    195934\n",
              "09    236481\n",
              "05    315035\n",
              "Name: posEntryMode, dtype: int64"
            ]
          },
          "metadata": {},
          "execution_count": 14
        }
      ]
    },
    {
      "cell_type": "code",
      "source": [
        "trans_df.posConditionCode.value_counts().sort_values()"
      ],
      "metadata": {
        "id": "s-gfbIwbotQA",
        "colab": {
          "base_uri": "https://localhost:8080/"
        },
        "outputId": "c3a06417-3d69-42a5-b86a-9e5b993b0d27"
      },
      "execution_count": null,
      "outputs": [
        {
          "output_type": "execute_result",
          "data": {
            "text/plain": [
              "         409\n",
              "99      7533\n",
              "08    149634\n",
              "01    628787\n",
              "Name: posConditionCode, dtype: int64"
            ]
          },
          "metadata": {},
          "execution_count": 15
        }
      ]
    },
    {
      "cell_type": "code",
      "source": [
        "trans_df.merchantCategoryCode.value_counts().sort_values()"
      ],
      "metadata": {
        "id": "OdCGvvx4o0-W",
        "colab": {
          "base_uri": "https://localhost:8080/"
        },
        "outputId": "398b8096-3a3d-4ffc-fc63-93fe0d4b0e38"
      },
      "execution_count": null,
      "outputs": [
        {
          "output_type": "execute_result",
          "data": {
            "text/plain": [
              "cable/phone               1382\n",
              "gym                       2209\n",
              "food_delivery             6000\n",
              "furniture                 7432\n",
              "online_subscriptions     11067\n",
              "mobileapps               14990\n",
              "airline                  15412\n",
              "personal care            18964\n",
              "health                   19092\n",
              "auto                     21651\n",
              "subscriptions            22901\n",
              "fuel                     23910\n",
              "hotels                   34097\n",
              "rideshare                51136\n",
              "online_gifts             66238\n",
              "food                     75490\n",
              "entertainment            80098\n",
              "fastfood                112138\n",
              "online_retail           202156\n",
              "Name: merchantCategoryCode, dtype: int64"
            ]
          },
          "metadata": {},
          "execution_count": 16
        }
      ]
    },
    {
      "cell_type": "markdown",
      "source": [
        "**Transactions are divided into 3 types - address, verification, reversal and purchase. For data wrangling - we will use this finding to analyse transactions that are reversed**"
      ],
      "metadata": {
        "id": "ClQ0Jtx81v9E"
      }
    },
    {
      "cell_type": "code",
      "source": [
        "trans_df.transactionType.value_counts().sort_values()"
      ],
      "metadata": {
        "colab": {
          "base_uri": "https://localhost:8080/"
        },
        "id": "eFPuKYnbwtgN",
        "outputId": "fa7158f9-d4a2-4cb6-b4d0-bb306c7ef80c"
      },
      "execution_count": null,
      "outputs": [
        {
          "output_type": "execute_result",
          "data": {
            "text/plain": [
              "                           698\n",
              "ADDRESS_VERIFICATION     20169\n",
              "REVERSAL                 20303\n",
              "PURCHASE                745193\n",
              "Name: transactionType, dtype: int64"
            ]
          },
          "metadata": {},
          "execution_count": 17
        }
      ]
    },
    {
      "cell_type": "markdown",
      "source": [
        "# **Data Visualisation**"
      ],
      "metadata": {
        "id": "0E9cHUVX0X8c"
      }
    },
    {
      "cell_type": "code",
      "source": [
        "#Finding discrete features i.e categorical features with unique values ranging from 0 and 10\n",
        "dataset = trans_df.copy()\n",
        "numerical_features = [feature for feature in dataset.columns if dataset[feature].dtypes != 'O']\n",
        "discrete_feature=[feature for feature in numerical_features if len(dataset[feature].unique())<=10 ]\n",
        "print(\"Discrete Variables Count: {}\".format(len(discrete_feature)))"
      ],
      "metadata": {
        "colab": {
          "base_uri": "https://localhost:8080/"
        },
        "id": "hwnJvaUeQgRM",
        "outputId": "bff67874-1225-4704-db30-f1823473ef1d"
      },
      "execution_count": null,
      "outputs": [
        {
          "output_type": "stream",
          "name": "stdout",
          "text": [
            "Discrete Variables Count: 4\n"
          ]
        }
      ]
    },
    {
      "cell_type": "code",
      "source": [
        "print('The discrete features presennt in the dataset is:', discrete_feature)"
      ],
      "metadata": {
        "colab": {
          "base_uri": "https://localhost:8080/"
        },
        "id": "bRiLJzZcTO6v",
        "outputId": "d4a4e486-3eb3-4713-b6f6-ec077fe59882"
      },
      "execution_count": null,
      "outputs": [
        {
          "output_type": "stream",
          "name": "stdout",
          "text": [
            "The discrete features presennt in the dataset is: ['creditLimit', 'cardPresent', 'expirationDateKeyInMatch', 'isFraud']\n"
          ]
        }
      ]
    },
    {
      "cell_type": "code",
      "source": [
        "#Finding continous features except the categorical features, customerId and accountNumber columns\n",
        "continuous_feature=[feature for feature in numerical_features if feature not in discrete_feature+\n",
        "                    ['customerId','accountNumber','transactionDateTime','currentExpDate','accountOpenDate','dateOfLastAddressChange']]\n",
        "print(\"Continuous feature Count :{}\".format(len(continuous_feature)))"
      ],
      "metadata": {
        "colab": {
          "base_uri": "https://localhost:8080/"
        },
        "id": "NLxPddOuTROz",
        "outputId": "1d86f4bb-d942-4081-f16a-e6120fb09610"
      },
      "execution_count": null,
      "outputs": [
        {
          "output_type": "stream",
          "name": "stdout",
          "text": [
            "Continuous feature Count :6\n"
          ]
        }
      ]
    },
    {
      "cell_type": "markdown",
      "source": [
        "**Plotting distributions to see how the values are lying for each of the feature column-**\n",
        "\n",
        "\n",
        "1.   availableMoney - It is left skewed showing that most of the customers have a balance of less that 100\n",
        "2. transactionAmount - It is left skewed showing that most customers are making smaller transactions and there are hardly\n",
        "transactions above $500\n",
        "3. cardCVV and enteredCVV - There's a major finding here that shows that the enteredCVV do not have a lot of entries around 0.\n",
        "Also, two cardCVV ranges are targeted in the enteredCVV column as their bars have risen as compared to the actual cardCVV\n",
        "currentBalance - The current balance graph is also left skewed showing that the customers do not keep a lot of balance in\n",
        "their account\n",
        "\n",
        "\n",
        "\n"
      ],
      "metadata": {
        "id": "ybHF91vq41zP"
      }
    },
    {
      "cell_type": "code",
      "source": [
        "for feature in continuous_feature:\n",
        "    data=dataset.copy()\n",
        "    data[feature].hist(bins=50)\n",
        "    plt.xlabel(feature)\n",
        "    plt.ylabel(\"Count\")\n",
        "    plt.title(feature)\n",
        "    plt.show()\n",
        "    print('\\n')"
      ],
      "metadata": {
        "colab": {
          "base_uri": "https://localhost:8080/",
          "height": 1929
        },
        "id": "x7aDF0sQTTzH",
        "outputId": "2af2909c-ceac-4172-cf85-923fe98cd479"
      },
      "execution_count": null,
      "outputs": [
        {
          "output_type": "display_data",
          "data": {
            "image/png": "[encoded data removed]",
            "text/plain": [
              "<Figure size 432x288 with 1 Axes>"
            ]
          },
          "metadata": {
            "needs_background": "light"
          }
        },
        {
          "output_type": "stream",
          "name": "stdout",
          "text": [
            "\n",
            "\n"
          ]
        },
        {
          "output_type": "display_data",
          "data": {
            "image/png": "[encoded data removed]",
            "text/plain": [
              "<Figure size 432x288 with 1 Axes>"
            ]
          },
          "metadata": {
            "needs_background": "light"
          }
        },
        {
          "output_type": "stream",
          "name": "stdout",
          "text": [
            "\n",
            "\n"
          ]
        },
        {
          "output_type": "display_data",
          "data": {
            "image/png": "[encoded data removed]",
            "text/plain": [
              "<Figure size 432x288 with 1 Axes>"
            ]
          },
          "metadata": {
            "needs_background": "light"
          }
        },
        {
          "output_type": "stream",
          "name": "stdout",
          "text": [
            "\n",
            "\n"
          ]
        },
        {
          "output_type": "display_data",
          "data": {
            "image/png": "[encoded data removed]",
            "text/plain": [
              "<Figure size 432x288 with 1 Axes>"
            ]
          },
          "metadata": {
            "needs_background": "light"
          }
        },
        {
          "output_type": "stream",
          "name": "stdout",
          "text": [
            "\n",
            "\n"
          ]
        },
        {
          "output_type": "display_data",
          "data": {
            "image/png": "[encoded data removed]",
            "text/plain": [
              "<Figure size 432x288 with 1 Axes>"
            ]
          },
          "metadata": {
            "needs_background": "light"
          }
        },
        {
          "output_type": "stream",
          "name": "stdout",
          "text": [
            "\n",
            "\n"
          ]
        },
        {
          "output_type": "display_data",
          "data": {
            "image/png": "[encoded data removed]",
            "text/plain": [
              "<Figure size 432x288 with 1 Axes>"
            ]
          },
          "metadata": {
            "needs_background": "light"
          }
        },
        {
          "output_type": "stream",
          "name": "stdout",
          "text": [
            "\n",
            "\n"
          ]
        }
      ]
    },
    {
      "cell_type": "markdown",
      "source": [
        "**Hypotheses for transactionAmount column**\n",
        "1. Left Skewed - maximum transactions are of smaller amounts ranging between 0 and 100\n",
        "2. The number of transactions are exponentially decreasing as the amount increases\n",
        "3. Even though there's a good credit limit, there are hardly any greater amount transactions of more than $1000"
      ],
      "metadata": {
        "id": "_IKqVu8q5VoC"
      }
    },
    {
      "cell_type": "code",
      "source": [
        "trans_df['transactionAmount'].hist(bins=50)\n",
        "plt.xlabel('Transaction Amount')\n",
        "plt.ylabel('Number of Transactions')\n",
        "plt.title('Transactions')\n",
        "plt.show()"
      ],
      "metadata": {
        "colab": {
          "base_uri": "https://localhost:8080/",
          "height": 301
        },
        "id": "oip5hxBtMQC8",
        "outputId": "c67a4145-9049-4648-eb96-0ee1d7e20273"
      },
      "execution_count": null,
      "outputs": [
        {
          "output_type": "display_data",
          "data": {
            "image/png": "[encoded data removed]",
            "text/plain": [
              "<Figure size 432x288 with 1 Axes>"
            ]
          },
          "metadata": {
            "needs_background": "light"
          }
        }
      ]
    },
    {
      "cell_type": "code",
      "source": [
        "trans_df['transactionAmount'].hist(bins=100)\n",
        "plt.xlabel('Transaction Amount')\n",
        "plt.ylabel('Number of Transactions')\n",
        "plt.title('Transactions')\n",
        "plt.show()"
      ],
      "metadata": {
        "colab": {
          "base_uri": "https://localhost:8080/",
          "height": 301
        },
        "id": "k82KmjU4NxmM",
        "outputId": "f26ef8a6-041e-441f-d539-5e30553808b6"
      },
      "execution_count": null,
      "outputs": [
        {
          "output_type": "display_data",
          "data": {
            "image/png": "[encoded data removed]",
            "text/plain": [
              "<Figure size 432x288 with 1 Axes>"
            ]
          },
          "metadata": {
            "needs_background": "light"
          }
        }
      ]
    },
    {
      "cell_type": "code",
      "source": [
        "for feature in continuous_feature:\n",
        "    data=dataset.copy()\n",
        "    data.boxplot(column=feature)\n",
        "    plt.ylabel(feature)\n",
        "    plt.title(feature)\n",
        "    plt.show()"
      ],
      "metadata": {
        "colab": {
          "base_uri": "https://localhost:8080/",
          "height": 1619
        },
        "id": "lwq3s3BFTiIR",
        "outputId": "625547ac-d625-4bca-9031-6cfb1af6b94b"
      },
      "execution_count": null,
      "outputs": [
        {
          "output_type": "display_data",
          "data": {
            "image/png": "[encoded data removed]",
            "text/plain": [
              "<Figure size 432x288 with 1 Axes>"
            ]
          },
          "metadata": {
            "needs_background": "light"
          }
        },
        {
          "output_type": "display_data",
          "data": {
            "image/png": "[encoded data removed]",
            "text/plain": [
              "<Figure size 432x288 with 1 Axes>"
            ]
          },
          "metadata": {
            "needs_background": "light"
          }
        },
        {
          "output_type": "display_data",
          "data": {
            "image/png": "[encoded data removed]",
            "text/plain": [
              "<Figure size 432x288 with 1 Axes>"
            ]
          },
          "metadata": {
            "needs_background": "light"
          }
        },
        {
          "output_type": "display_data",
          "data": {
            "image/png": "[encoded data removed]",
            "text/plain": [
              "<Figure size 432x288 with 1 Axes>"
            ]
          },
          "metadata": {
            "needs_background": "light"
          }
        },
        {
          "output_type": "display_data",
          "data": {
            "image/png": "[encoded data removed]",
            "text/plain": [
              "<Figure size 432x288 with 1 Axes>"
            ]
          },
          "metadata": {
            "needs_background": "light"
          }
        },
        {
          "output_type": "display_data",
          "data": {
            "image/png": "[encoded data removed]",
            "text/plain": [
              "<Figure size 432x288 with 1 Axes>"
            ]
          },
          "metadata": {
            "needs_background": "light"
          }
        }
      ]
    },
    {
      "cell_type": "markdown",
      "source": [
        "**Imbalance in target class - The isFraud column is highly imbalanced as more than 98.4% of the data points are of the\n",
        "non-fraudulent class whereas only 1.58% of the data points are of the fraudulent class. Keeping this in mind, will have\n",
        "to do sampling on the data to build an effective model in the steps to follow**"
      ],
      "metadata": {
        "id": "p38uOcRE5vR8"
      }
    },
    {
      "cell_type": "code",
      "source": [
        "trans_df['isFraud'].value_counts()/trans_df.shape[0]"
      ],
      "metadata": {
        "colab": {
          "base_uri": "https://localhost:8080/"
        },
        "id": "oVFOwSb4T5vd",
        "outputId": "59d2fc68-77ff-49f8-853a-628e856420a4"
      },
      "execution_count": null,
      "outputs": [
        {
          "output_type": "execute_result",
          "data": {
            "text/plain": [
              "0    0.98421\n",
              "1    0.01579\n",
              "Name: isFraud, dtype: float64"
            ]
          },
          "metadata": {},
          "execution_count": 25
        }
      ]
    },
    {
      "cell_type": "code",
      "source": [
        "#Plot to show the above imbalanced class finding\n",
        "LABELS = [\"Normal\", \"Fraud\"]\n",
        "count_classes = pd.value_counts(trans_df['isFraud'], sort = True)\n",
        "count_classes.plot(kind = 'bar', rot=0)\n",
        "plt.title(\"Transaction Class Distribution\")\n",
        "plt.xticks(range(2), LABELS)\n",
        "plt.xlabel(\"isFraud\")\n",
        "plt.ylabel(\"Frequency\")"
      ],
      "metadata": {
        "colab": {
          "base_uri": "https://localhost:8080/",
          "height": 318
        },
        "id": "MJxuiaCNxQLi",
        "outputId": "5cbae218-624e-4372-94ed-397053e0d9f5"
      },
      "execution_count": null,
      "outputs": [
        {
          "output_type": "execute_result",
          "data": {
            "text/plain": [
              "Text(0, 0.5, 'Frequency')"
            ]
          },
          "metadata": {},
          "execution_count": 26
        },
        {
          "output_type": "display_data",
          "data": {
            "image/png": "[encoded data removed]",
            "text/plain": [
              "<Figure size 432x288 with 1 Axes>"
            ]
          },
          "metadata": {
            "needs_background": "light"
          }
        }
      ]
    },
    {
      "cell_type": "markdown",
      "source": [
        "# **Data Wrangling**"
      ],
      "metadata": {
        "id": "X4dlDHCjy4jO"
      }
    },
    {
      "cell_type": "markdown",
      "source": [
        "**a. Yes, programmatically reversed and multi-swipe transactions can be identified**"
      ],
      "metadata": {
        "id": "ItmGVJRI07Jj"
      }
    },
    {
      "cell_type": "markdown",
      "source": [
        "**b. Finding reversal and multiswipe transactions using the given logic -**\n",
        "\n",
        "\n",
        "1.   Reversal transactions - The transactionType column contains a category for Reversal transactions. Using it, I found out that there are 20303 such transactions amounting to a dollar value of $2.821 Million\n",
        "\n",
        "2.   Multiswipe transactions - To find multiswipe transactions grouped the data with respect to customerId and applied the logic that there comes more than one entry within the given time frame - 2mins or 5mins then it is marked duplicated. The result from this was that when the timeframe is 2 minutes there were 10,982 transactions with a dollar value of $1472873.8 whereas when the timeframe is 5 minutes there were 18,014 transactions with a dollar value of 2285828.69\n"
      ],
      "metadata": {
        "id": "ScCX0NkN6Fib"
      }
    },
    {
      "cell_type": "markdown",
      "source": [
        "**c. One interesting finding in these transactions is the importance of time mapping of transactions - In between 2 mins and 5 mins the transactions got doubled and the money involved became 1.5x times for the latter time mark. So, it is very necessary as to how these transactions are defined and more crucial to keep a track of these transactions as they do not have a direct identifier as the reversal transactions**"
      ],
      "metadata": {
        "id": "FEaExzfa6vWg"
      }
    },
    {
      "cell_type": "code",
      "source": [
        "reversal = trans_df.loc[trans_df['transactionType'] == 'REVERSAL', 'transactionAmount'].sum()\n",
        "reversal_trans = trans_df.loc[trans_df['transactionType'] == 'REVERSAL', 'transactionAmount'].count()"
      ],
      "metadata": {
        "id": "ZVemoRqIRsFK"
      },
      "execution_count": null,
      "outputs": []
    },
    {
      "cell_type": "code",
      "source": [
        "print('Number of Reversal transactions:',reversal_trans)\n",
        "print('Total amount in reversal transactions ${}'.format(reversal))"
      ],
      "metadata": {
        "colab": {
          "base_uri": "https://localhost:8080/"
        },
        "id": "VoGaIowhSnGa",
        "outputId": "f89255ab-28a2-4ce8-b116-b58185ca33e8"
      },
      "execution_count": null,
      "outputs": [
        {
          "output_type": "stream",
          "name": "stdout",
          "text": [
            "Number of Reversal transactions: 20303\n",
            "Total amount in reversal transactions $2821792.5\n"
          ]
        }
      ]
    },
    {
      "cell_type": "code",
      "source": [
        "DF = trans_df.copy()\n",
        "DF.sort_values(['customerId', 'transactionDateTime'], inplace=True)\n",
        "\n",
        "m1 = DF.groupby('customerId', sort=False)['transactionAmount'].apply(lambda x: x.duplicated())\n",
        "m2 = DF.groupby('customerId', sort=False)['transactionDateTime'].diff() <= pd.Timedelta(2, unit='minutes')\n",
        "\n",
        "DF['Duplicated?'] = np.where(m1 & m2, 'Yes', 'No')\n",
        "duplicated_trans_2mins = DF['Duplicated?'].value_counts()['Yes']"
      ],
      "metadata": {
        "id": "g5eAtpWHfrHX"
      },
      "execution_count": null,
      "outputs": []
    },
    {
      "cell_type": "code",
      "source": [
        "duplicated_money_2mins= DF.loc[DF['Duplicated?'] == 'Yes', 'transactionAmount'].sum()"
      ],
      "metadata": {
        "id": "JMAfhazwbEze"
      },
      "execution_count": null,
      "outputs": []
    },
    {
      "cell_type": "code",
      "source": [
        "DF = trans_df.copy()\n",
        "DF.sort_values(['customerId', 'transactionDateTime'], inplace=True)\n",
        "\n",
        "m1 = DF.groupby('customerId', sort=False)['transactionAmount'].apply(lambda x: x.duplicated())\n",
        "m2 = DF.groupby('customerId', sort=False)['transactionDateTime'].diff() <= pd.Timedelta(5, unit='minutes')\n",
        "\n",
        "DF['Duplicated?'] = np.where(m1 & m2, 'Yes', 'No')\n",
        "duplicated_trans_5mins = DF['Duplicated?'].value_counts()['Yes']"
      ],
      "metadata": {
        "id": "BOOINyKWhVfF"
      },
      "execution_count": null,
      "outputs": []
    },
    {
      "cell_type": "code",
      "source": [
        "duplicated_money_5mins= DF.loc[DF['Duplicated?'] == 'Yes', 'transactionAmount'].sum()"
      ],
      "metadata": {
        "id": "EFVnDPyHh45e"
      },
      "execution_count": null,
      "outputs": []
    },
    {
      "cell_type": "markdown",
      "source": [
        "***The significant increase in transactions when we increase the timer clock to 5 minutes from 2 minutes show that there have been multiple instances of multiswipe transactions in different timeframes and mapping it becomes difficult for the bank and the user***"
      ],
      "metadata": {
        "id": "_lRzq3_Dbf2h"
      }
    },
    {
      "cell_type": "code",
      "source": [
        "print('Number of Duplicated transactions:',duplicated_trans_2mins)\n",
        "print('Total amount in duplicated transactions in 2 mintues: ${}'.format(duplicated_money_2mins))"
      ],
      "metadata": {
        "colab": {
          "base_uri": "https://localhost:8080/"
        },
        "id": "t9p-xbLabJfR",
        "outputId": "4ffcce4e-4582-406a-de32-7c55c0d8c80d"
      },
      "execution_count": null,
      "outputs": [
        {
          "output_type": "stream",
          "name": "stdout",
          "text": [
            "Number of Duplicated transactions: 10982\n",
            "Total amount in duplicated transactions in 2 mintues: $1472873.8\n"
          ]
        }
      ]
    },
    {
      "cell_type": "code",
      "source": [
        "print('Number of Duplicated transactions:',duplicated_trans_5mins)\n",
        "print('Total amount in duplicated transactions in 2 mintues: ${}'.format(duplicated_money_5mins))"
      ],
      "metadata": {
        "colab": {
          "base_uri": "https://localhost:8080/"
        },
        "id": "XAOKcPMVbOgY",
        "outputId": "78b02725-c951-4ca3-b0a2-4d2815d791db"
      },
      "execution_count": null,
      "outputs": [
        {
          "output_type": "stream",
          "name": "stdout",
          "text": [
            "Number of Duplicated transactions: 18014\n",
            "Total amount in duplicated transactions in 2 mintues: $2285828.69\n"
          ]
        }
      ]
    },
    {
      "cell_type": "markdown",
      "source": [
        "# **Handling Missing values**"
      ],
      "metadata": {
        "id": "6mtui5CW0KC0"
      }
    },
    {
      "cell_type": "markdown",
      "source": [
        "**Checking for null values in the data - It does not indicate or count the empty strings in the data. \n",
        "So will have to replace the empty strings first to find the missing values**"
      ],
      "metadata": {
        "id": "W-j_pCJ_296E"
      }
    },
    {
      "cell_type": "code",
      "source": [
        "trans_df.count().isna()"
      ],
      "metadata": {
        "colab": {
          "base_uri": "https://localhost:8080/"
        },
        "id": "dTBPHQuwLe_u",
        "outputId": "24421b7c-607c-4db8-e0f9-463596a13283"
      },
      "execution_count": null,
      "outputs": [
        {
          "output_type": "execute_result",
          "data": {
            "text/plain": [
              "accountNumber               False\n",
              "customerId                  False\n",
              "creditLimit                 False\n",
              "availableMoney              False\n",
              "transactionDateTime         False\n",
              "transactionAmount           False\n",
              "merchantName                False\n",
              "acqCountry                  False\n",
              "merchantCountryCode         False\n",
              "posEntryMode                False\n",
              "posConditionCode            False\n",
              "merchantCategoryCode        False\n",
              "currentExpDate              False\n",
              "accountOpenDate             False\n",
              "dateOfLastAddressChange     False\n",
              "cardCVV                     False\n",
              "enteredCVV                  False\n",
              "cardLast4Digits             False\n",
              "transactionType             False\n",
              "echoBuffer                  False\n",
              "currentBalance              False\n",
              "merchantCity                False\n",
              "merchantState               False\n",
              "merchantZip                 False\n",
              "cardPresent                 False\n",
              "posOnPremises               False\n",
              "recurringAuthInd            False\n",
              "expirationDateKeyInMatch    False\n",
              "isFraud                     False\n",
              "dtype: bool"
            ]
          },
          "metadata": {},
          "execution_count": 35
        }
      ]
    },
    {
      "cell_type": "code",
      "source": [
        "#Replacing empty string values with null value\n",
        "trans_df = trans_df.replace('', np.nan) "
      ],
      "metadata": {
        "id": "oozQ6rMyLuBt"
      },
      "execution_count": null,
      "outputs": []
    },
    {
      "cell_type": "code",
      "source": [
        "trans_df.info()"
      ],
      "metadata": {
        "colab": {
          "base_uri": "https://localhost:8080/"
        },
        "id": "i1zUCYgU6cZ4",
        "outputId": "9999be54-d62a-4519-c638-5447302ec20c"
      },
      "execution_count": null,
      "outputs": [
        {
          "output_type": "stream",
          "name": "stdout",
          "text": [
            "<class 'pandas.core.frame.DataFrame'>\n",
            "RangeIndex: 786363 entries, 0 to 786362\n",
            "Data columns (total 29 columns):\n",
            " #   Column                    Non-Null Count   Dtype         \n",
            "---  ------                    --------------   -----         \n",
            " 0   accountNumber             786363 non-null  int64         \n",
            " 1   customerId                786363 non-null  int64         \n",
            " 2   creditLimit               786363 non-null  int64         \n",
            " 3   availableMoney            786363 non-null  float64       \n",
            " 4   transactionDateTime       786363 non-null  datetime64[ns]\n",
            " 5   transactionAmount         786363 non-null  float64       \n",
            " 6   merchantName              786363 non-null  object        \n",
            " 7   acqCountry                781801 non-null  object        \n",
            " 8   merchantCountryCode       785639 non-null  object        \n",
            " 9   posEntryMode              782309 non-null  object        \n",
            " 10  posConditionCode          785954 non-null  object        \n",
            " 11  merchantCategoryCode      786363 non-null  object        \n",
            " 12  currentExpDate            786363 non-null  datetime64[ns]\n",
            " 13  accountOpenDate           786363 non-null  datetime64[ns]\n",
            " 14  dateOfLastAddressChange   786363 non-null  datetime64[ns]\n",
            " 15  cardCVV                   786363 non-null  int64         \n",
            " 16  enteredCVV                786363 non-null  int64         \n",
            " 17  cardLast4Digits           786363 non-null  int64         \n",
            " 18  transactionType           785665 non-null  object        \n",
            " 19  echoBuffer                0 non-null       float64       \n",
            " 20  currentBalance            786363 non-null  float64       \n",
            " 21  merchantCity              0 non-null       float64       \n",
            " 22  merchantState             0 non-null       float64       \n",
            " 23  merchantZip               0 non-null       float64       \n",
            " 24  cardPresent               786363 non-null  int64         \n",
            " 25  posOnPremises             0 non-null       float64       \n",
            " 26  recurringAuthInd          0 non-null       float64       \n",
            " 27  expirationDateKeyInMatch  786363 non-null  int64         \n",
            " 28  isFraud                   786363 non-null  int64         \n",
            "dtypes: datetime64[ns](4), float64(9), int64(9), object(7)\n",
            "memory usage: 174.0+ MB\n"
          ]
        }
      ]
    },
    {
      "cell_type": "code",
      "source": [
        "trans_df.isnull().values.any()"
      ],
      "metadata": {
        "colab": {
          "base_uri": "https://localhost:8080/"
        },
        "id": "3lzozG5yfObk",
        "outputId": "bbc8ac03-d586-4a0f-8bb8-116c0901834f"
      },
      "execution_count": null,
      "outputs": [
        {
          "output_type": "execute_result",
          "data": {
            "text/plain": [
              "True"
            ]
          },
          "metadata": {},
          "execution_count": 38
        }
      ]
    },
    {
      "cell_type": "code",
      "source": [
        "trans_df.isnull().sum(axis = 0)"
      ],
      "metadata": {
        "colab": {
          "base_uri": "https://localhost:8080/"
        },
        "id": "HATQvEwAMMVo",
        "outputId": "bc7a6610-6350-43a5-fe93-ff7aa092306c"
      },
      "execution_count": null,
      "outputs": [
        {
          "output_type": "execute_result",
          "data": {
            "text/plain": [
              "accountNumber                    0\n",
              "customerId                       0\n",
              "creditLimit                      0\n",
              "availableMoney                   0\n",
              "transactionDateTime              0\n",
              "transactionAmount                0\n",
              "merchantName                     0\n",
              "acqCountry                    4562\n",
              "merchantCountryCode            724\n",
              "posEntryMode                  4054\n",
              "posConditionCode               409\n",
              "merchantCategoryCode             0\n",
              "currentExpDate                   0\n",
              "accountOpenDate                  0\n",
              "dateOfLastAddressChange          0\n",
              "cardCVV                          0\n",
              "enteredCVV                       0\n",
              "cardLast4Digits                  0\n",
              "transactionType                698\n",
              "echoBuffer                  786363\n",
              "currentBalance                   0\n",
              "merchantCity                786363\n",
              "merchantState               786363\n",
              "merchantZip                 786363\n",
              "cardPresent                      0\n",
              "posOnPremises               786363\n",
              "recurringAuthInd            786363\n",
              "expirationDateKeyInMatch         0\n",
              "isFraud                          0\n",
              "dtype: int64"
            ]
          },
          "metadata": {},
          "execution_count": 39
        }
      ]
    },
    {
      "cell_type": "markdown",
      "source": [
        "**Count of null values in different columns -**\n",
        "\n",
        "*   No null values - 18 columns\n",
        "*   All null values - 6 columns : Since these columns are empty, they can be dropped\n",
        "*   Some null values - Since columns consists of null values ranging from [409,4562] - I will drop these rows since it does not add to any significant data (4562/780000 ->0.005) i.e only 0.5% of total data\n"
      ],
      "metadata": {
        "id": "kA0h8jlP3EU0"
      }
    },
    {
      "cell_type": "code",
      "source": [
        "trans_df.head()"
      ],
      "metadata": {
        "colab": {
          "base_uri": "https://localhost:8080/",
          "height": 288
        },
        "id": "iajGucbcq9vr",
        "outputId": "97b5f383-0239-42f6-992a-c5ab7655bd1b"
      },
      "execution_count": null,
      "outputs": [
        {
          "output_type": "execute_result",
          "data": {
            "text/html": [
              "\n",
              "  <div id=\"df-b781872f-5039-4055-aef7-0431b1f5b8fc\">\n",
              "    <div class=\"colab-df-container\">\n",
              "      <div>\n",
              "<style scoped>\n",
              "    .dataframe tbody tr th:only-of-type {\n",
              "        vertical-align: middle;\n",
              "    }\n",
              "\n",
              "    .dataframe tbody tr th {\n",
              "        vertical-align: top;\n",
              "    }\n",
              "\n",
              "    .dataframe thead th {\n",
              "        text-align: right;\n",
              "    }\n",
              "</style>\n",
              "<table border=\"1\" class=\"dataframe\">\n",
              "  <thead>\n",
              "    <tr style=\"text-align: right;\">\n",
              "      <th></th>\n",
              "      <th>accountNumber</th>\n",
              "      <th>customerId</th>\n",
              "      <th>creditLimit</th>\n",
              "      <th>availableMoney</th>\n",
              "      <th>transactionDateTime</th>\n",
              "      <th>transactionAmount</th>\n",
              "      <th>merchantName</th>\n",
              "      <th>acqCountry</th>\n",
              "      <th>merchantCountryCode</th>\n",
              "      <th>posEntryMode</th>\n",
              "      <th>posConditionCode</th>\n",
              "      <th>merchantCategoryCode</th>\n",
              "      <th>currentExpDate</th>\n",
              "      <th>accountOpenDate</th>\n",
              "      <th>dateOfLastAddressChange</th>\n",
              "      <th>cardCVV</th>\n",
              "      <th>enteredCVV</th>\n",
              "      <th>cardLast4Digits</th>\n",
              "      <th>transactionType</th>\n",
              "      <th>echoBuffer</th>\n",
              "      <th>currentBalance</th>\n",
              "      <th>merchantCity</th>\n",
              "      <th>merchantState</th>\n",
              "      <th>merchantZip</th>\n",
              "      <th>cardPresent</th>\n",
              "      <th>posOnPremises</th>\n",
              "      <th>recurringAuthInd</th>\n",
              "      <th>expirationDateKeyInMatch</th>\n",
              "      <th>isFraud</th>\n",
              "    </tr>\n",
              "  </thead>\n",
              "  <tbody>\n",
              "    <tr>\n",
              "      <th>0</th>\n",
              "      <td>737265056</td>\n",
              "      <td>737265056</td>\n",
              "      <td>5000</td>\n",
              "      <td>5000.0</td>\n",
              "      <td>2016-08-13 14:27:32</td>\n",
              "      <td>98.55</td>\n",
              "      <td>Uber</td>\n",
              "      <td>US</td>\n",
              "      <td>US</td>\n",
              "      <td>02</td>\n",
              "      <td>01</td>\n",
              "      <td>rideshare</td>\n",
              "      <td>2023-06-01</td>\n",
              "      <td>2015-03-14</td>\n",
              "      <td>2015-03-14</td>\n",
              "      <td>414</td>\n",
              "      <td>414</td>\n",
              "      <td>1803</td>\n",
              "      <td>PURCHASE</td>\n",
              "      <td>NaN</td>\n",
              "      <td>0.0</td>\n",
              "      <td>NaN</td>\n",
              "      <td>NaN</td>\n",
              "      <td>NaN</td>\n",
              "      <td>0</td>\n",
              "      <td>NaN</td>\n",
              "      <td>NaN</td>\n",
              "      <td>0</td>\n",
              "      <td>0</td>\n",
              "    </tr>\n",
              "    <tr>\n",
              "      <th>1</th>\n",
              "      <td>737265056</td>\n",
              "      <td>737265056</td>\n",
              "      <td>5000</td>\n",
              "      <td>5000.0</td>\n",
              "      <td>2016-10-11 05:05:54</td>\n",
              "      <td>74.51</td>\n",
              "      <td>AMC #191138</td>\n",
              "      <td>US</td>\n",
              "      <td>US</td>\n",
              "      <td>09</td>\n",
              "      <td>01</td>\n",
              "      <td>entertainment</td>\n",
              "      <td>2024-02-01</td>\n",
              "      <td>2015-03-14</td>\n",
              "      <td>2015-03-14</td>\n",
              "      <td>486</td>\n",
              "      <td>486</td>\n",
              "      <td>767</td>\n",
              "      <td>PURCHASE</td>\n",
              "      <td>NaN</td>\n",
              "      <td>0.0</td>\n",
              "      <td>NaN</td>\n",
              "      <td>NaN</td>\n",
              "      <td>NaN</td>\n",
              "      <td>1</td>\n",
              "      <td>NaN</td>\n",
              "      <td>NaN</td>\n",
              "      <td>0</td>\n",
              "      <td>0</td>\n",
              "    </tr>\n",
              "    <tr>\n",
              "      <th>2</th>\n",
              "      <td>737265056</td>\n",
              "      <td>737265056</td>\n",
              "      <td>5000</td>\n",
              "      <td>5000.0</td>\n",
              "      <td>2016-11-08 09:18:39</td>\n",
              "      <td>7.47</td>\n",
              "      <td>Play Store</td>\n",
              "      <td>US</td>\n",
              "      <td>US</td>\n",
              "      <td>09</td>\n",
              "      <td>01</td>\n",
              "      <td>mobileapps</td>\n",
              "      <td>2025-08-01</td>\n",
              "      <td>2015-03-14</td>\n",
              "      <td>2015-03-14</td>\n",
              "      <td>486</td>\n",
              "      <td>486</td>\n",
              "      <td>767</td>\n",
              "      <td>PURCHASE</td>\n",
              "      <td>NaN</td>\n",
              "      <td>0.0</td>\n",
              "      <td>NaN</td>\n",
              "      <td>NaN</td>\n",
              "      <td>NaN</td>\n",
              "      <td>0</td>\n",
              "      <td>NaN</td>\n",
              "      <td>NaN</td>\n",
              "      <td>0</td>\n",
              "      <td>0</td>\n",
              "    </tr>\n",
              "    <tr>\n",
              "      <th>3</th>\n",
              "      <td>737265056</td>\n",
              "      <td>737265056</td>\n",
              "      <td>5000</td>\n",
              "      <td>5000.0</td>\n",
              "      <td>2016-12-10 02:14:50</td>\n",
              "      <td>7.47</td>\n",
              "      <td>Play Store</td>\n",
              "      <td>US</td>\n",
              "      <td>US</td>\n",
              "      <td>09</td>\n",
              "      <td>01</td>\n",
              "      <td>mobileapps</td>\n",
              "      <td>2025-08-01</td>\n",
              "      <td>2015-03-14</td>\n",
              "      <td>2015-03-14</td>\n",
              "      <td>486</td>\n",
              "      <td>486</td>\n",
              "      <td>767</td>\n",
              "      <td>PURCHASE</td>\n",
              "      <td>NaN</td>\n",
              "      <td>0.0</td>\n",
              "      <td>NaN</td>\n",
              "      <td>NaN</td>\n",
              "      <td>NaN</td>\n",
              "      <td>0</td>\n",
              "      <td>NaN</td>\n",
              "      <td>NaN</td>\n",
              "      <td>0</td>\n",
              "      <td>0</td>\n",
              "    </tr>\n",
              "    <tr>\n",
              "      <th>4</th>\n",
              "      <td>830329091</td>\n",
              "      <td>830329091</td>\n",
              "      <td>5000</td>\n",
              "      <td>5000.0</td>\n",
              "      <td>2016-03-24 21:04:46</td>\n",
              "      <td>71.18</td>\n",
              "      <td>Tim Hortons #947751</td>\n",
              "      <td>US</td>\n",
              "      <td>US</td>\n",
              "      <td>02</td>\n",
              "      <td>01</td>\n",
              "      <td>fastfood</td>\n",
              "      <td>2029-10-01</td>\n",
              "      <td>2015-08-06</td>\n",
              "      <td>2015-08-06</td>\n",
              "      <td>885</td>\n",
              "      <td>885</td>\n",
              "      <td>3143</td>\n",
              "      <td>PURCHASE</td>\n",
              "      <td>NaN</td>\n",
              "      <td>0.0</td>\n",
              "      <td>NaN</td>\n",
              "      <td>NaN</td>\n",
              "      <td>NaN</td>\n",
              "      <td>1</td>\n",
              "      <td>NaN</td>\n",
              "      <td>NaN</td>\n",
              "      <td>0</td>\n",
              "      <td>0</td>\n",
              "    </tr>\n",
              "  </tbody>\n",
              "</table>\n",
              "</div>\n",
              "      <button class=\"colab-df-convert\" onclick=\"convertToInteractive('df-b781872f-5039-4055-aef7-0431b1f5b8fc')\"\n",
              "              title=\"Convert this dataframe to an interactive table.\"\n",
              "              style=\"display:none;\">\n",
              "        \n",
              "  <svg xmlns=\"http://www.w3.org/2000/svg\" height=\"24px\"viewBox=\"0 0 24 24\"\n",
              "       width=\"24px\">\n",
              "    <path d=\"M0 0h24v24H0V0z\" fill=\"none\"/>\n",
              "    <path d=\"M18.56 5.44l.94 2.06.94-2.06 2.06-.94-2.06-.94-.94-2.06-.94 2.06-2.06.94zm-11 1L8.5 8.5l.94-2.06 2.06-.94-2.06-.94L8.5 2.5l-.94 2.06-2.06.94zm10 10l.94 2.06.94-2.06 2.06-.94-2.06-.94-.94-2.06-.94 2.06-2.06.94z\"/><path d=\"M17.41 7.96l-1.37-1.37c-.4-.4-.92-.59-1.43-.59-.52 0-1.04.2-1.43.59L10.3 9.45l-7.72 7.72c-.78.78-.78 2.05 0 2.83L4 21.41c.39.39.9.59 1.41.59.51 0 1.02-.2 1.41-.59l7.78-7.78 2.81-2.81c.8-.78.8-2.07 0-2.86zM5.41 20L4 18.59l7.72-7.72 1.47 1.35L5.41 20z\"/>\n",
              "  </svg>\n",
              "      </button>\n",
              "      \n",
              "  <style>\n",
              "    .colab-df-container {\n",
              "      display:flex;\n",
              "      flex-wrap:wrap;\n",
              "      gap: 12px;\n",
              "    }\n",
              "\n",
              "    .colab-df-convert {\n",
              "      background-color: #E8F0FE;\n",
              "      border: none;\n",
              "      border-radius: 50%;\n",
              "      cursor: pointer;\n",
              "      display: none;\n",
              "      fill: #1967D2;\n",
              "      height: 32px;\n",
              "      padding: 0 0 0 0;\n",
              "      width: 32px;\n",
              "    }\n",
              "\n",
              "    .colab-df-convert:hover {\n",
              "      background-color: #E2EBFA;\n",
              "      box-shadow: 0px 1px 2px rgba(60, 64, 67, 0.3), 0px 1px 3px 1px rgba(60, 64, 67, 0.15);\n",
              "      fill: #174EA6;\n",
              "    }\n",
              "\n",
              "    [theme=dark] .colab-df-convert {\n",
              "      background-color: #3B4455;\n",
              "      fill: #D2E3FC;\n",
              "    }\n",
              "\n",
              "    [theme=dark] .colab-df-convert:hover {\n",
              "      background-color: #434B5C;\n",
              "      box-shadow: 0px 1px 3px 1px rgba(0, 0, 0, 0.15);\n",
              "      filter: drop-shadow(0px 1px 2px rgba(0, 0, 0, 0.3));\n",
              "      fill: #FFFFFF;\n",
              "    }\n",
              "  </style>\n",
              "\n",
              "      <script>\n",
              "        const buttonEl =\n",
              "          document.querySelector('#df-b781872f-5039-4055-aef7-0431b1f5b8fc button.colab-df-convert');\n",
              "        buttonEl.style.display =\n",
              "          google.colab.kernel.accessAllowed ? 'block' : 'none';\n",
              "\n",
              "        async function convertToInteractive(key) {\n",
              "          const element = document.querySelector('#df-b781872f-5039-4055-aef7-0431b1f5b8fc');\n",
              "          const dataTable =\n",
              "            await google.colab.kernel.invokeFunction('convertToInteractive',\n",
              "                                                     [key], {});\n",
              "          if (!dataTable) return;\n",
              "\n",
              "          const docLinkHtml = 'Like what you see? Visit the ' +\n",
              "            '<a target=\"_blank\" href=https://colab.research.google.com/notebooks/data_table.ipynb>data table notebook</a>'\n",
              "            + ' to learn more about interactive tables.';\n",
              "          element.innerHTML = '';\n",
              "          dataTable['output_type'] = 'display_data';\n",
              "          await google.colab.output.renderOutput(dataTable, element);\n",
              "          const docLink = document.createElement('div');\n",
              "          docLink.innerHTML = docLinkHtml;\n",
              "          element.appendChild(docLink);\n",
              "        }\n",
              "      </script>\n",
              "    </div>\n",
              "  </div>\n",
              "  "
            ],
            "text/plain": [
              "   accountNumber  customerId  ...  expirationDateKeyInMatch  isFraud\n",
              "0      737265056   737265056  ...                         0        0\n",
              "1      737265056   737265056  ...                         0        0\n",
              "2      737265056   737265056  ...                         0        0\n",
              "3      737265056   737265056  ...                         0        0\n",
              "4      830329091   830329091  ...                         0        0\n",
              "\n",
              "[5 rows x 29 columns]"
            ]
          },
          "metadata": {},
          "execution_count": 40
        }
      ]
    },
    {
      "cell_type": "code",
      "source": [
        "#Dropping columns that are completly null and empty\n",
        "trans_df = trans_df.drop(['echoBuffer','merchantCity','merchantState','merchantZip','posOnPremises','recurringAuthInd'],axis=1)\n",
        "trans_df = trans_df.reset_index(drop=True)\n",
        "trans_df.shape"
      ],
      "metadata": {
        "colab": {
          "base_uri": "https://localhost:8080/"
        },
        "id": "tirRiqdftDvW",
        "outputId": "27b6f962-8952-40a1-be34-933728b7ff38"
      },
      "execution_count": null,
      "outputs": [
        {
          "output_type": "execute_result",
          "data": {
            "text/plain": [
              "(786363, 23)"
            ]
          },
          "metadata": {},
          "execution_count": 41
        }
      ]
    },
    {
      "cell_type": "code",
      "source": [
        "trans_df.isnull().sum(axis = 0)"
      ],
      "metadata": {
        "colab": {
          "base_uri": "https://localhost:8080/"
        },
        "id": "lU2SCDhrrWBM",
        "outputId": "5a31fee5-635d-4099-b76f-8c14fd046d20"
      },
      "execution_count": null,
      "outputs": [
        {
          "output_type": "execute_result",
          "data": {
            "text/plain": [
              "accountNumber                  0\n",
              "customerId                     0\n",
              "creditLimit                    0\n",
              "availableMoney                 0\n",
              "transactionDateTime            0\n",
              "transactionAmount              0\n",
              "merchantName                   0\n",
              "acqCountry                  4562\n",
              "merchantCountryCode          724\n",
              "posEntryMode                4054\n",
              "posConditionCode             409\n",
              "merchantCategoryCode           0\n",
              "currentExpDate                 0\n",
              "accountOpenDate                0\n",
              "dateOfLastAddressChange        0\n",
              "cardCVV                        0\n",
              "enteredCVV                     0\n",
              "cardLast4Digits                0\n",
              "transactionType              698\n",
              "currentBalance                 0\n",
              "cardPresent                    0\n",
              "expirationDateKeyInMatch       0\n",
              "isFraud                        0\n",
              "dtype: int64"
            ]
          },
          "metadata": {},
          "execution_count": 42
        }
      ]
    },
    {
      "cell_type": "markdown",
      "source": [
        "**Dropped data points from acqCountry and merchantCountryCode as they were a part of constant column with negligible standard deviation i.e most values in these two columns indicate a constant value 'US'. Dropped data points from other columns due to lack of domain knowledge and taking into account that they identified a minimal subset (less than 0.5%) in a huge dataset.**"
      ],
      "metadata": {
        "id": "QrlO0L9c960U"
      }
    },
    {
      "cell_type": "code",
      "source": [
        "#Dropping null values/empty values from the dataset\n",
        "trans_df = trans_df.dropna()\n",
        "trans_df.info()"
      ],
      "metadata": {
        "colab": {
          "base_uri": "https://localhost:8080/"
        },
        "id": "9EtZ9E-Bstm9",
        "outputId": "b5304219-ffb3-42bb-fbad-9d9f53651c32"
      },
      "execution_count": null,
      "outputs": [
        {
          "output_type": "stream",
          "name": "stdout",
          "text": [
            "<class 'pandas.core.frame.DataFrame'>\n",
            "Int64Index: 776668 entries, 0 to 786362\n",
            "Data columns (total 23 columns):\n",
            " #   Column                    Non-Null Count   Dtype         \n",
            "---  ------                    --------------   -----         \n",
            " 0   accountNumber             776668 non-null  int64         \n",
            " 1   customerId                776668 non-null  int64         \n",
            " 2   creditLimit               776668 non-null  int64         \n",
            " 3   availableMoney            776668 non-null  float64       \n",
            " 4   transactionDateTime       776668 non-null  datetime64[ns]\n",
            " 5   transactionAmount         776668 non-null  float64       \n",
            " 6   merchantName              776668 non-null  object        \n",
            " 7   acqCountry                776668 non-null  object        \n",
            " 8   merchantCountryCode       776668 non-null  object        \n",
            " 9   posEntryMode              776668 non-null  object        \n",
            " 10  posConditionCode          776668 non-null  object        \n",
            " 11  merchantCategoryCode      776668 non-null  object        \n",
            " 12  currentExpDate            776668 non-null  datetime64[ns]\n",
            " 13  accountOpenDate           776668 non-null  datetime64[ns]\n",
            " 14  dateOfLastAddressChange   776668 non-null  datetime64[ns]\n",
            " 15  cardCVV                   776668 non-null  int64         \n",
            " 16  enteredCVV                776668 non-null  int64         \n",
            " 17  cardLast4Digits           776668 non-null  int64         \n",
            " 18  transactionType           776668 non-null  object        \n",
            " 19  currentBalance            776668 non-null  float64       \n",
            " 20  cardPresent               776668 non-null  int64         \n",
            " 21  expirationDateKeyInMatch  776668 non-null  int64         \n",
            " 22  isFraud                   776668 non-null  int64         \n",
            "dtypes: datetime64[ns](4), float64(3), int64(9), object(7)\n",
            "memory usage: 142.2+ MB\n"
          ]
        }
      ]
    },
    {
      "cell_type": "markdown",
      "source": [
        "# **Feature Engineering**"
      ],
      "metadata": {
        "id": "MZC6dDan8K_i"
      }
    },
    {
      "cell_type": "code",
      "source": [
        "trans_df.head()"
      ],
      "metadata": {
        "colab": {
          "base_uri": "https://localhost:8080/",
          "height": 288
        },
        "id": "LdZqDsBHUJE3",
        "outputId": "690cdf9f-079d-4826-a42a-365b323ecfaf"
      },
      "execution_count": null,
      "outputs": [
        {
          "output_type": "execute_result",
          "data": {
            "text/html": [
              "\n",
              "  <div id=\"df-06efa8cb-85c3-4130-82ab-96a1ef840e07\">\n",
              "    <div class=\"colab-df-container\">\n",
              "      <div>\n",
              "<style scoped>\n",
              "    .dataframe tbody tr th:only-of-type {\n",
              "        vertical-align: middle;\n",
              "    }\n",
              "\n",
              "    .dataframe tbody tr th {\n",
              "        vertical-align: top;\n",
              "    }\n",
              "\n",
              "    .dataframe thead th {\n",
              "        text-align: right;\n",
              "    }\n",
              "</style>\n",
              "<table border=\"1\" class=\"dataframe\">\n",
              "  <thead>\n",
              "    <tr style=\"text-align: right;\">\n",
              "      <th></th>\n",
              "      <th>accountNumber</th>\n",
              "      <th>customerId</th>\n",
              "      <th>creditLimit</th>\n",
              "      <th>availableMoney</th>\n",
              "      <th>transactionDateTime</th>\n",
              "      <th>transactionAmount</th>\n",
              "      <th>merchantName</th>\n",
              "      <th>acqCountry</th>\n",
              "      <th>merchantCountryCode</th>\n",
              "      <th>posEntryMode</th>\n",
              "      <th>posConditionCode</th>\n",
              "      <th>merchantCategoryCode</th>\n",
              "      <th>currentExpDate</th>\n",
              "      <th>accountOpenDate</th>\n",
              "      <th>dateOfLastAddressChange</th>\n",
              "      <th>cardCVV</th>\n",
              "      <th>enteredCVV</th>\n",
              "      <th>cardLast4Digits</th>\n",
              "      <th>transactionType</th>\n",
              "      <th>currentBalance</th>\n",
              "      <th>cardPresent</th>\n",
              "      <th>expirationDateKeyInMatch</th>\n",
              "      <th>isFraud</th>\n",
              "    </tr>\n",
              "  </thead>\n",
              "  <tbody>\n",
              "    <tr>\n",
              "      <th>0</th>\n",
              "      <td>737265056</td>\n",
              "      <td>737265056</td>\n",
              "      <td>5000</td>\n",
              "      <td>5000.0</td>\n",
              "      <td>2016-08-13 14:27:32</td>\n",
              "      <td>98.55</td>\n",
              "      <td>Uber</td>\n",
              "      <td>US</td>\n",
              "      <td>US</td>\n",
              "      <td>02</td>\n",
              "      <td>01</td>\n",
              "      <td>rideshare</td>\n",
              "      <td>2023-06-01</td>\n",
              "      <td>2015-03-14</td>\n",
              "      <td>2015-03-14</td>\n",
              "      <td>414</td>\n",
              "      <td>414</td>\n",
              "      <td>1803</td>\n",
              "      <td>PURCHASE</td>\n",
              "      <td>0.0</td>\n",
              "      <td>0</td>\n",
              "      <td>0</td>\n",
              "      <td>0</td>\n",
              "    </tr>\n",
              "    <tr>\n",
              "      <th>1</th>\n",
              "      <td>737265056</td>\n",
              "      <td>737265056</td>\n",
              "      <td>5000</td>\n",
              "      <td>5000.0</td>\n",
              "      <td>2016-10-11 05:05:54</td>\n",
              "      <td>74.51</td>\n",
              "      <td>AMC #191138</td>\n",
              "      <td>US</td>\n",
              "      <td>US</td>\n",
              "      <td>09</td>\n",
              "      <td>01</td>\n",
              "      <td>entertainment</td>\n",
              "      <td>2024-02-01</td>\n",
              "      <td>2015-03-14</td>\n",
              "      <td>2015-03-14</td>\n",
              "      <td>486</td>\n",
              "      <td>486</td>\n",
              "      <td>767</td>\n",
              "      <td>PURCHASE</td>\n",
              "      <td>0.0</td>\n",
              "      <td>1</td>\n",
              "      <td>0</td>\n",
              "      <td>0</td>\n",
              "    </tr>\n",
              "    <tr>\n",
              "      <th>2</th>\n",
              "      <td>737265056</td>\n",
              "      <td>737265056</td>\n",
              "      <td>5000</td>\n",
              "      <td>5000.0</td>\n",
              "      <td>2016-11-08 09:18:39</td>\n",
              "      <td>7.47</td>\n",
              "      <td>Play Store</td>\n",
              "      <td>US</td>\n",
              "      <td>US</td>\n",
              "      <td>09</td>\n",
              "      <td>01</td>\n",
              "      <td>mobileapps</td>\n",
              "      <td>2025-08-01</td>\n",
              "      <td>2015-03-14</td>\n",
              "      <td>2015-03-14</td>\n",
              "      <td>486</td>\n",
              "      <td>486</td>\n",
              "      <td>767</td>\n",
              "      <td>PURCHASE</td>\n",
              "      <td>0.0</td>\n",
              "      <td>0</td>\n",
              "      <td>0</td>\n",
              "      <td>0</td>\n",
              "    </tr>\n",
              "    <tr>\n",
              "      <th>3</th>\n",
              "      <td>737265056</td>\n",
              "      <td>737265056</td>\n",
              "      <td>5000</td>\n",
              "      <td>5000.0</td>\n",
              "      <td>2016-12-10 02:14:50</td>\n",
              "      <td>7.47</td>\n",
              "      <td>Play Store</td>\n",
              "      <td>US</td>\n",
              "      <td>US</td>\n",
              "      <td>09</td>\n",
              "      <td>01</td>\n",
              "      <td>mobileapps</td>\n",
              "      <td>2025-08-01</td>\n",
              "      <td>2015-03-14</td>\n",
              "      <td>2015-03-14</td>\n",
              "      <td>486</td>\n",
              "      <td>486</td>\n",
              "      <td>767</td>\n",
              "      <td>PURCHASE</td>\n",
              "      <td>0.0</td>\n",
              "      <td>0</td>\n",
              "      <td>0</td>\n",
              "      <td>0</td>\n",
              "    </tr>\n",
              "    <tr>\n",
              "      <th>4</th>\n",
              "      <td>830329091</td>\n",
              "      <td>830329091</td>\n",
              "      <td>5000</td>\n",
              "      <td>5000.0</td>\n",
              "      <td>2016-03-24 21:04:46</td>\n",
              "      <td>71.18</td>\n",
              "      <td>Tim Hortons #947751</td>\n",
              "      <td>US</td>\n",
              "      <td>US</td>\n",
              "      <td>02</td>\n",
              "      <td>01</td>\n",
              "      <td>fastfood</td>\n",
              "      <td>2029-10-01</td>\n",
              "      <td>2015-08-06</td>\n",
              "      <td>2015-08-06</td>\n",
              "      <td>885</td>\n",
              "      <td>885</td>\n",
              "      <td>3143</td>\n",
              "      <td>PURCHASE</td>\n",
              "      <td>0.0</td>\n",
              "      <td>1</td>\n",
              "      <td>0</td>\n",
              "      <td>0</td>\n",
              "    </tr>\n",
              "  </tbody>\n",
              "</table>\n",
              "</div>\n",
              "      <button class=\"colab-df-convert\" onclick=\"convertToInteractive('df-06efa8cb-85c3-4130-82ab-96a1ef840e07')\"\n",
              "              title=\"Convert this dataframe to an interactive table.\"\n",
              "              style=\"display:none;\">\n",
              "        \n",
              "  <svg xmlns=\"http://www.w3.org/2000/svg\" height=\"24px\"viewBox=\"0 0 24 24\"\n",
              "       width=\"24px\">\n",
              "    <path d=\"M0 0h24v24H0V0z\" fill=\"none\"/>\n",
              "    <path d=\"M18.56 5.44l.94 2.06.94-2.06 2.06-.94-2.06-.94-.94-2.06-.94 2.06-2.06.94zm-11 1L8.5 8.5l.94-2.06 2.06-.94-2.06-.94L8.5 2.5l-.94 2.06-2.06.94zm10 10l.94 2.06.94-2.06 2.06-.94-2.06-.94-.94-2.06-.94 2.06-2.06.94z\"/><path d=\"M17.41 7.96l-1.37-1.37c-.4-.4-.92-.59-1.43-.59-.52 0-1.04.2-1.43.59L10.3 9.45l-7.72 7.72c-.78.78-.78 2.05 0 2.83L4 21.41c.39.39.9.59 1.41.59.51 0 1.02-.2 1.41-.59l7.78-7.78 2.81-2.81c.8-.78.8-2.07 0-2.86zM5.41 20L4 18.59l7.72-7.72 1.47 1.35L5.41 20z\"/>\n",
              "  </svg>\n",
              "      </button>\n",
              "      \n",
              "  <style>\n",
              "    .colab-df-container {\n",
              "      display:flex;\n",
              "      flex-wrap:wrap;\n",
              "      gap: 12px;\n",
              "    }\n",
              "\n",
              "    .colab-df-convert {\n",
              "      background-color: #E8F0FE;\n",
              "      border: none;\n",
              "      border-radius: 50%;\n",
              "      cursor: pointer;\n",
              "      display: none;\n",
              "      fill: #1967D2;\n",
              "      height: 32px;\n",
              "      padding: 0 0 0 0;\n",
              "      width: 32px;\n",
              "    }\n",
              "\n",
              "    .colab-df-convert:hover {\n",
              "      background-color: #E2EBFA;\n",
              "      box-shadow: 0px 1px 2px rgba(60, 64, 67, 0.3), 0px 1px 3px 1px rgba(60, 64, 67, 0.15);\n",
              "      fill: #174EA6;\n",
              "    }\n",
              "\n",
              "    [theme=dark] .colab-df-convert {\n",
              "      background-color: #3B4455;\n",
              "      fill: #D2E3FC;\n",
              "    }\n",
              "\n",
              "    [theme=dark] .colab-df-convert:hover {\n",
              "      background-color: #434B5C;\n",
              "      box-shadow: 0px 1px 3px 1px rgba(0, 0, 0, 0.15);\n",
              "      filter: drop-shadow(0px 1px 2px rgba(0, 0, 0, 0.3));\n",
              "      fill: #FFFFFF;\n",
              "    }\n",
              "  </style>\n",
              "\n",
              "      <script>\n",
              "        const buttonEl =\n",
              "          document.querySelector('#df-06efa8cb-85c3-4130-82ab-96a1ef840e07 button.colab-df-convert');\n",
              "        buttonEl.style.display =\n",
              "          google.colab.kernel.accessAllowed ? 'block' : 'none';\n",
              "\n",
              "        async function convertToInteractive(key) {\n",
              "          const element = document.querySelector('#df-06efa8cb-85c3-4130-82ab-96a1ef840e07');\n",
              "          const dataTable =\n",
              "            await google.colab.kernel.invokeFunction('convertToInteractive',\n",
              "                                                     [key], {});\n",
              "          if (!dataTable) return;\n",
              "\n",
              "          const docLinkHtml = 'Like what you see? Visit the ' +\n",
              "            '<a target=\"_blank\" href=https://colab.research.google.com/notebooks/data_table.ipynb>data table notebook</a>'\n",
              "            + ' to learn more about interactive tables.';\n",
              "          element.innerHTML = '';\n",
              "          dataTable['output_type'] = 'display_data';\n",
              "          await google.colab.output.renderOutput(dataTable, element);\n",
              "          const docLink = document.createElement('div');\n",
              "          docLink.innerHTML = docLinkHtml;\n",
              "          element.appendChild(docLink);\n",
              "        }\n",
              "      </script>\n",
              "    </div>\n",
              "  </div>\n",
              "  "
            ],
            "text/plain": [
              "   accountNumber  customerId  ...  expirationDateKeyInMatch  isFraud\n",
              "0      737265056   737265056  ...                         0        0\n",
              "1      737265056   737265056  ...                         0        0\n",
              "2      737265056   737265056  ...                         0        0\n",
              "3      737265056   737265056  ...                         0        0\n",
              "4      830329091   830329091  ...                         0        0\n",
              "\n",
              "[5 rows x 23 columns]"
            ]
          },
          "metadata": {},
          "execution_count": 44
        }
      ]
    },
    {
      "cell_type": "code",
      "source": [
        "#Dropping the date-time columns to getting the data ready\n",
        "trans_df = trans_df.drop(['transactionDateTime','accountOpenDate', 'dateOfLastAddressChange', 'currentExpDate'],axis=1)\n",
        "trans_df = trans_df.reset_index(drop=True)\n",
        "trans_df.shape"
      ],
      "metadata": {
        "colab": {
          "base_uri": "https://localhost:8080/"
        },
        "id": "xWF3q7Mew5w3",
        "outputId": "2959ba00-7ac0-4779-d8dd-cd5814687fa6"
      },
      "execution_count": null,
      "outputs": [
        {
          "output_type": "execute_result",
          "data": {
            "text/plain": [
              "(776668, 19)"
            ]
          },
          "metadata": {},
          "execution_count": 45
        }
      ]
    },
    {
      "cell_type": "markdown",
      "source": [
        "**Dropping accountNumber and customerId columns as they are unique identifiers, and do not hold any importance for predicting the target variable**"
      ],
      "metadata": {
        "id": "Ovox6LZF-oDJ"
      }
    },
    {
      "cell_type": "code",
      "source": [
        "trans_df = trans_df.drop(['accountNumber', 'customerId','merchantName'],axis=1)\n",
        "trans_df = trans_df.reset_index(drop=True)\n",
        "trans_df.shape"
      ],
      "metadata": {
        "colab": {
          "base_uri": "https://localhost:8080/"
        },
        "id": "oG77U9N1xsSG",
        "outputId": "e785a96c-1d7e-4f5e-f5ad-83762804cf6a"
      },
      "execution_count": null,
      "outputs": [
        {
          "output_type": "execute_result",
          "data": {
            "text/plain": [
              "(776668, 16)"
            ]
          },
          "metadata": {},
          "execution_count": 46
        }
      ]
    },
    {
      "cell_type": "code",
      "source": [
        "trans_df.info()"
      ],
      "metadata": {
        "colab": {
          "base_uri": "https://localhost:8080/"
        },
        "id": "WHK-tr7fXtH1",
        "outputId": "874277c6-24f0-40f9-a964-2d0db2c6bb56"
      },
      "execution_count": null,
      "outputs": [
        {
          "output_type": "stream",
          "name": "stdout",
          "text": [
            "<class 'pandas.core.frame.DataFrame'>\n",
            "RangeIndex: 776668 entries, 0 to 776667\n",
            "Data columns (total 16 columns):\n",
            " #   Column                    Non-Null Count   Dtype  \n",
            "---  ------                    --------------   -----  \n",
            " 0   creditLimit               776668 non-null  int64  \n",
            " 1   availableMoney            776668 non-null  float64\n",
            " 2   transactionAmount         776668 non-null  float64\n",
            " 3   acqCountry                776668 non-null  object \n",
            " 4   merchantCountryCode       776668 non-null  object \n",
            " 5   posEntryMode              776668 non-null  object \n",
            " 6   posConditionCode          776668 non-null  object \n",
            " 7   merchantCategoryCode      776668 non-null  object \n",
            " 8   cardCVV                   776668 non-null  int64  \n",
            " 9   enteredCVV                776668 non-null  int64  \n",
            " 10  cardLast4Digits           776668 non-null  int64  \n",
            " 11  transactionType           776668 non-null  object \n",
            " 12  currentBalance            776668 non-null  float64\n",
            " 13  cardPresent               776668 non-null  int64  \n",
            " 14  expirationDateKeyInMatch  776668 non-null  int64  \n",
            " 15  isFraud                   776668 non-null  int64  \n",
            "dtypes: float64(3), int64(7), object(6)\n",
            "memory usage: 94.8+ MB\n"
          ]
        }
      ]
    },
    {
      "cell_type": "code",
      "source": [
        "#Converting object data-type features into int data type\n",
        "trans_df['posEntryMode'] = trans_df['posEntryMode'].astype(str).astype(int)\n",
        "trans_df['posConditionCode'] = trans_df['posConditionCode'].astype(str).astype(int)"
      ],
      "metadata": {
        "id": "KjWSV19NXu-Y"
      },
      "execution_count": null,
      "outputs": []
    },
    {
      "cell_type": "markdown",
      "source": [
        "**Dropping columns that are having less varaince - acqCountry, merchantCountryCode and are almost constant resulting in no impact on the target variable**"
      ],
      "metadata": {
        "id": "yMKXKIwL3VMQ"
      }
    },
    {
      "cell_type": "code",
      "source": [
        "trans_df.acqCountry.value_counts().sort_values()"
      ],
      "metadata": {
        "colab": {
          "base_uri": "https://localhost:8080/"
        },
        "id": "q2lM2eRC3RaD",
        "outputId": "bc1d1035-6010-45a8-d09c-39ec1b75166c"
      },
      "execution_count": null,
      "outputs": [
        {
          "output_type": "execute_result",
          "data": {
            "text/plain": [
              "PR       1532\n",
              "CAN      2406\n",
              "MEX      3110\n",
              "US     769620\n",
              "Name: acqCountry, dtype: int64"
            ]
          },
          "metadata": {},
          "execution_count": 49
        }
      ]
    },
    {
      "cell_type": "code",
      "source": [
        "trans_df.merchantCountryCode.value_counts().sort_values()"
      ],
      "metadata": {
        "colab": {
          "base_uri": "https://localhost:8080/"
        },
        "id": "eK1z_Zv03R9M",
        "outputId": "80329396-335e-4576-c600-a03dd82bf6b8"
      },
      "execution_count": null,
      "outputs": [
        {
          "output_type": "execute_result",
          "data": {
            "text/plain": [
              "PR       1541\n",
              "CAN      2399\n",
              "MEX      3107\n",
              "US     769621\n",
              "Name: merchantCountryCode, dtype: int64"
            ]
          },
          "metadata": {},
          "execution_count": 50
        }
      ]
    },
    {
      "cell_type": "code",
      "source": [
        "trans_df = trans_df.drop(['acqCountry', 'merchantCountryCode'],axis=1)\n",
        "trans_df = trans_df.reset_index(drop=True)\n",
        "trans_df.shape"
      ],
      "metadata": {
        "colab": {
          "base_uri": "https://localhost:8080/"
        },
        "id": "7nPgkyEt3gtw",
        "outputId": "6f31bc5e-c683-4a32-db97-f21b4c5e655c"
      },
      "execution_count": null,
      "outputs": [
        {
          "output_type": "execute_result",
          "data": {
            "text/plain": [
              "(776668, 14)"
            ]
          },
          "metadata": {},
          "execution_count": 51
        }
      ]
    },
    {
      "cell_type": "code",
      "source": [
        "trans_df.shape"
      ],
      "metadata": {
        "colab": {
          "base_uri": "https://localhost:8080/"
        },
        "id": "cLMIB2fvUmtC",
        "outputId": "492de483-02f3-4dbe-8b90-9610e5d9ed63"
      },
      "execution_count": null,
      "outputs": [
        {
          "output_type": "execute_result",
          "data": {
            "text/plain": [
              "(776668, 14)"
            ]
          },
          "metadata": {},
          "execution_count": 52
        }
      ]
    },
    {
      "cell_type": "markdown",
      "source": [
        "**Checking the correlation of different features present and plotting it in a heatmap representation**"
      ],
      "metadata": {
        "id": "y_F6K7cy9pL7"
      }
    },
    {
      "cell_type": "code",
      "source": [
        "X = trans_df.iloc[:,:]\n",
        "corr_matrix = X.corr().abs()\n",
        "corr_matrix"
      ],
      "metadata": {
        "colab": {
          "base_uri": "https://localhost:8080/",
          "height": 490
        },
        "id": "ZUZbx188k_um",
        "outputId": "7ea3808a-583e-4570-972b-2d25affea2af"
      },
      "execution_count": null,
      "outputs": [
        {
          "output_type": "execute_result",
          "data": {
            "text/html": [
              "\n",
              "  <div id=\"df-d22e3435-3bc2-4d9b-bd78-72ced352c85a\">\n",
              "    <div class=\"colab-df-container\">\n",
              "      <div>\n",
              "<style scoped>\n",
              "    .dataframe tbody tr th:only-of-type {\n",
              "        vertical-align: middle;\n",
              "    }\n",
              "\n",
              "    .dataframe tbody tr th {\n",
              "        vertical-align: top;\n",
              "    }\n",
              "\n",
              "    .dataframe thead th {\n",
              "        text-align: right;\n",
              "    }\n",
              "</style>\n",
              "<table border=\"1\" class=\"dataframe\">\n",
              "  <thead>\n",
              "    <tr style=\"text-align: right;\">\n",
              "      <th></th>\n",
              "      <th>creditLimit</th>\n",
              "      <th>availableMoney</th>\n",
              "      <th>transactionAmount</th>\n",
              "      <th>posEntryMode</th>\n",
              "      <th>posConditionCode</th>\n",
              "      <th>cardCVV</th>\n",
              "      <th>enteredCVV</th>\n",
              "      <th>cardLast4Digits</th>\n",
              "      <th>currentBalance</th>\n",
              "      <th>cardPresent</th>\n",
              "      <th>expirationDateKeyInMatch</th>\n",
              "      <th>isFraud</th>\n",
              "    </tr>\n",
              "  </thead>\n",
              "  <tbody>\n",
              "    <tr>\n",
              "      <th>creditLimit</th>\n",
              "      <td>1.000000</td>\n",
              "      <td>0.834845</td>\n",
              "      <td>0.005721</td>\n",
              "      <td>0.000823</td>\n",
              "      <td>0.000144</td>\n",
              "      <td>0.051465</td>\n",
              "      <td>0.051536</td>\n",
              "      <td>0.126154</td>\n",
              "      <td>0.654006</td>\n",
              "      <td>0.003874</td>\n",
              "      <td>0.002353</td>\n",
              "      <td>0.003423</td>\n",
              "    </tr>\n",
              "    <tr>\n",
              "      <th>availableMoney</th>\n",
              "      <td>0.834845</td>\n",
              "      <td>1.000000</td>\n",
              "      <td>0.009897</td>\n",
              "      <td>0.000456</td>\n",
              "      <td>0.000538</td>\n",
              "      <td>0.016794</td>\n",
              "      <td>0.016857</td>\n",
              "      <td>0.074539</td>\n",
              "      <td>0.129558</td>\n",
              "      <td>0.002400</td>\n",
              "      <td>0.004229</td>\n",
              "      <td>0.001377</td>\n",
              "    </tr>\n",
              "    <tr>\n",
              "      <th>transactionAmount</th>\n",
              "      <td>0.005721</td>\n",
              "      <td>0.009897</td>\n",
              "      <td>1.000000</td>\n",
              "      <td>0.003104</td>\n",
              "      <td>0.000417</td>\n",
              "      <td>0.000457</td>\n",
              "      <td>0.000379</td>\n",
              "      <td>0.001855</td>\n",
              "      <td>0.023906</td>\n",
              "      <td>0.037346</td>\n",
              "      <td>0.001931</td>\n",
              "      <td>0.074359</td>\n",
              "    </tr>\n",
              "    <tr>\n",
              "      <th>posEntryMode</th>\n",
              "      <td>0.000823</td>\n",
              "      <td>0.000456</td>\n",
              "      <td>0.003104</td>\n",
              "      <td>1.000000</td>\n",
              "      <td>0.000685</td>\n",
              "      <td>0.002224</td>\n",
              "      <td>0.002326</td>\n",
              "      <td>0.001241</td>\n",
              "      <td>0.000856</td>\n",
              "      <td>0.001144</td>\n",
              "      <td>0.001576</td>\n",
              "      <td>0.007888</td>\n",
              "    </tr>\n",
              "    <tr>\n",
              "      <th>posConditionCode</th>\n",
              "      <td>0.000144</td>\n",
              "      <td>0.000538</td>\n",
              "      <td>0.000417</td>\n",
              "      <td>0.000685</td>\n",
              "      <td>1.000000</td>\n",
              "      <td>0.000255</td>\n",
              "      <td>0.000280</td>\n",
              "      <td>0.001309</td>\n",
              "      <td>0.000999</td>\n",
              "      <td>0.001538</td>\n",
              "      <td>0.000776</td>\n",
              "      <td>0.008135</td>\n",
              "    </tr>\n",
              "    <tr>\n",
              "      <th>cardCVV</th>\n",
              "      <td>0.051465</td>\n",
              "      <td>0.016794</td>\n",
              "      <td>0.000457</td>\n",
              "      <td>0.002224</td>\n",
              "      <td>0.000255</td>\n",
              "      <td>1.000000</td>\n",
              "      <td>0.996031</td>\n",
              "      <td>0.011751</td>\n",
              "      <td>0.069623</td>\n",
              "      <td>0.045519</td>\n",
              "      <td>0.000493</td>\n",
              "      <td>0.008536</td>\n",
              "    </tr>\n",
              "    <tr>\n",
              "      <th>enteredCVV</th>\n",
              "      <td>0.051536</td>\n",
              "      <td>0.016857</td>\n",
              "      <td>0.000379</td>\n",
              "      <td>0.002326</td>\n",
              "      <td>0.000280</td>\n",
              "      <td>0.996031</td>\n",
              "      <td>1.000000</td>\n",
              "      <td>0.011616</td>\n",
              "      <td>0.069665</td>\n",
              "      <td>0.045308</td>\n",
              "      <td>0.000274</td>\n",
              "      <td>0.008503</td>\n",
              "    </tr>\n",
              "    <tr>\n",
              "      <th>cardLast4Digits</th>\n",
              "      <td>0.126154</td>\n",
              "      <td>0.074539</td>\n",
              "      <td>0.001855</td>\n",
              "      <td>0.001241</td>\n",
              "      <td>0.001309</td>\n",
              "      <td>0.011751</td>\n",
              "      <td>0.011616</td>\n",
              "      <td>1.000000</td>\n",
              "      <td>0.124804</td>\n",
              "      <td>0.040904</td>\n",
              "      <td>0.002015</td>\n",
              "      <td>0.000752</td>\n",
              "    </tr>\n",
              "    <tr>\n",
              "      <th>currentBalance</th>\n",
              "      <td>0.654006</td>\n",
              "      <td>0.129558</td>\n",
              "      <td>0.023906</td>\n",
              "      <td>0.000856</td>\n",
              "      <td>0.000999</td>\n",
              "      <td>0.069623</td>\n",
              "      <td>0.069665</td>\n",
              "      <td>0.124804</td>\n",
              "      <td>1.000000</td>\n",
              "      <td>0.010277</td>\n",
              "      <td>0.001573</td>\n",
              "      <td>0.008059</td>\n",
              "    </tr>\n",
              "    <tr>\n",
              "      <th>cardPresent</th>\n",
              "      <td>0.003874</td>\n",
              "      <td>0.002400</td>\n",
              "      <td>0.037346</td>\n",
              "      <td>0.001144</td>\n",
              "      <td>0.001538</td>\n",
              "      <td>0.045519</td>\n",
              "      <td>0.045308</td>\n",
              "      <td>0.040904</td>\n",
              "      <td>0.010277</td>\n",
              "      <td>1.000000</td>\n",
              "      <td>0.040312</td>\n",
              "      <td>0.042761</td>\n",
              "    </tr>\n",
              "    <tr>\n",
              "      <th>expirationDateKeyInMatch</th>\n",
              "      <td>0.002353</td>\n",
              "      <td>0.004229</td>\n",
              "      <td>0.001931</td>\n",
              "      <td>0.001576</td>\n",
              "      <td>0.000776</td>\n",
              "      <td>0.000493</td>\n",
              "      <td>0.000274</td>\n",
              "      <td>0.002015</td>\n",
              "      <td>0.001573</td>\n",
              "      <td>0.040312</td>\n",
              "      <td>1.000000</td>\n",
              "      <td>0.000808</td>\n",
              "    </tr>\n",
              "    <tr>\n",
              "      <th>isFraud</th>\n",
              "      <td>0.003423</td>\n",
              "      <td>0.001377</td>\n",
              "      <td>0.074359</td>\n",
              "      <td>0.007888</td>\n",
              "      <td>0.008135</td>\n",
              "      <td>0.008536</td>\n",
              "      <td>0.008503</td>\n",
              "      <td>0.000752</td>\n",
              "      <td>0.008059</td>\n",
              "      <td>0.042761</td>\n",
              "      <td>0.000808</td>\n",
              "      <td>1.000000</td>\n",
              "    </tr>\n",
              "  </tbody>\n",
              "</table>\n",
              "</div>\n",
              "      <button class=\"colab-df-convert\" onclick=\"convertToInteractive('df-d22e3435-3bc2-4d9b-bd78-72ced352c85a')\"\n",
              "              title=\"Convert this dataframe to an interactive table.\"\n",
              "              style=\"display:none;\">\n",
              "        \n",
              "  <svg xmlns=\"http://www.w3.org/2000/svg\" height=\"24px\"viewBox=\"0 0 24 24\"\n",
              "       width=\"24px\">\n",
              "    <path d=\"M0 0h24v24H0V0z\" fill=\"none\"/>\n",
              "    <path d=\"M18.56 5.44l.94 2.06.94-2.06 2.06-.94-2.06-.94-.94-2.06-.94 2.06-2.06.94zm-11 1L8.5 8.5l.94-2.06 2.06-.94-2.06-.94L8.5 2.5l-.94 2.06-2.06.94zm10 10l.94 2.06.94-2.06 2.06-.94-2.06-.94-.94-2.06-.94 2.06-2.06.94z\"/><path d=\"M17.41 7.96l-1.37-1.37c-.4-.4-.92-.59-1.43-.59-.52 0-1.04.2-1.43.59L10.3 9.45l-7.72 7.72c-.78.78-.78 2.05 0 2.83L4 21.41c.39.39.9.59 1.41.59.51 0 1.02-.2 1.41-.59l7.78-7.78 2.81-2.81c.8-.78.8-2.07 0-2.86zM5.41 20L4 18.59l7.72-7.72 1.47 1.35L5.41 20z\"/>\n",
              "  </svg>\n",
              "      </button>\n",
              "      \n",
              "  <style>\n",
              "    .colab-df-container {\n",
              "      display:flex;\n",
              "      flex-wrap:wrap;\n",
              "      gap: 12px;\n",
              "    }\n",
              "\n",
              "    .colab-df-convert {\n",
              "      background-color: #E8F0FE;\n",
              "      border: none;\n",
              "      border-radius: 50%;\n",
              "      cursor: pointer;\n",
              "      display: none;\n",
              "      fill: #1967D2;\n",
              "      height: 32px;\n",
              "      padding: 0 0 0 0;\n",
              "      width: 32px;\n",
              "    }\n",
              "\n",
              "    .colab-df-convert:hover {\n",
              "      background-color: #E2EBFA;\n",
              "      box-shadow: 0px 1px 2px rgba(60, 64, 67, 0.3), 0px 1px 3px 1px rgba(60, 64, 67, 0.15);\n",
              "      fill: #174EA6;\n",
              "    }\n",
              "\n",
              "    [theme=dark] .colab-df-convert {\n",
              "      background-color: #3B4455;\n",
              "      fill: #D2E3FC;\n",
              "    }\n",
              "\n",
              "    [theme=dark] .colab-df-convert:hover {\n",
              "      background-color: #434B5C;\n",
              "      box-shadow: 0px 1px 3px 1px rgba(0, 0, 0, 0.15);\n",
              "      filter: drop-shadow(0px 1px 2px rgba(0, 0, 0, 0.3));\n",
              "      fill: #FFFFFF;\n",
              "    }\n",
              "  </style>\n",
              "\n",
              "      <script>\n",
              "        const buttonEl =\n",
              "          document.querySelector('#df-d22e3435-3bc2-4d9b-bd78-72ced352c85a button.colab-df-convert');\n",
              "        buttonEl.style.display =\n",
              "          google.colab.kernel.accessAllowed ? 'block' : 'none';\n",
              "\n",
              "        async function convertToInteractive(key) {\n",
              "          const element = document.querySelector('#df-d22e3435-3bc2-4d9b-bd78-72ced352c85a');\n",
              "          const dataTable =\n",
              "            await google.colab.kernel.invokeFunction('convertToInteractive',\n",
              "                                                     [key], {});\n",
              "          if (!dataTable) return;\n",
              "\n",
              "          const docLinkHtml = 'Like what you see? Visit the ' +\n",
              "            '<a target=\"_blank\" href=https://colab.research.google.com/notebooks/data_table.ipynb>data table notebook</a>'\n",
              "            + ' to learn more about interactive tables.';\n",
              "          element.innerHTML = '';\n",
              "          dataTable['output_type'] = 'display_data';\n",
              "          await google.colab.output.renderOutput(dataTable, element);\n",
              "          const docLink = document.createElement('div');\n",
              "          docLink.innerHTML = docLinkHtml;\n",
              "          element.appendChild(docLink);\n",
              "        }\n",
              "      </script>\n",
              "    </div>\n",
              "  </div>\n",
              "  "
            ],
            "text/plain": [
              "                          creditLimit  ...   isFraud\n",
              "creditLimit                  1.000000  ...  0.003423\n",
              "availableMoney               0.834845  ...  0.001377\n",
              "transactionAmount            0.005721  ...  0.074359\n",
              "posEntryMode                 0.000823  ...  0.007888\n",
              "posConditionCode             0.000144  ...  0.008135\n",
              "cardCVV                      0.051465  ...  0.008536\n",
              "enteredCVV                   0.051536  ...  0.008503\n",
              "cardLast4Digits              0.126154  ...  0.000752\n",
              "currentBalance               0.654006  ...  0.008059\n",
              "cardPresent                  0.003874  ...  0.042761\n",
              "expirationDateKeyInMatch     0.002353  ...  0.000808\n",
              "isFraud                      0.003423  ...  1.000000\n",
              "\n",
              "[12 rows x 12 columns]"
            ]
          },
          "metadata": {},
          "execution_count": 53
        }
      ]
    },
    {
      "cell_type": "code",
      "source": [
        "corr=X.iloc[:,:-1].corr()\n",
        "top_features=corr.index\n",
        "plt.figure(figsize=(12,12))\n",
        "sns.heatmap(X[top_features].corr(),annot=True)"
      ],
      "metadata": {
        "colab": {
          "base_uri": "https://localhost:8080/",
          "height": 860
        },
        "id": "Mv5nO7wUzJIO",
        "outputId": "5332d812-8ff9-40cb-c48c-48c7b1c40f1d"
      },
      "execution_count": null,
      "outputs": [
        {
          "output_type": "execute_result",
          "data": {
            "text/plain": [
              "<matplotlib.axes._subplots.AxesSubplot at 0x7fdb268ec0d0>"
            ]
          },
          "metadata": {},
          "execution_count": 54
        },
        {
          "output_type": "display_data",
          "data": {
            "image/png": "[encoded data removed]",
            "text/plain": [
              "<Figure size 864x864 with 2 Axes>"
            ]
          },
          "metadata": {
            "needs_background": "light"
          }
        }
      ]
    },
    {
      "cell_type": "markdown",
      "source": [
        "**Dropping cardCVV column, as it is highly correlated to enteredCVV and does not hold a high feature importance**"
      ],
      "metadata": {
        "id": "m0VIUbFEclH5"
      }
    },
    {
      "cell_type": "code",
      "source": [
        "trans_df = trans_df.drop(['cardCVV'],axis=1)\n",
        "trans_df = trans_df.reset_index(drop=True)"
      ],
      "metadata": {
        "id": "_RZoJW4c4Br_"
      },
      "execution_count": null,
      "outputs": []
    },
    {
      "cell_type": "code",
      "source": [
        "trans_df.shape"
      ],
      "metadata": {
        "colab": {
          "base_uri": "https://localhost:8080/"
        },
        "id": "mfUoMKTw4IOh",
        "outputId": "505e502d-25bc-4d59-98c2-6c19e14ce426"
      },
      "execution_count": null,
      "outputs": [
        {
          "output_type": "execute_result",
          "data": {
            "text/plain": [
              "(776668, 13)"
            ]
          },
          "metadata": {},
          "execution_count": 56
        }
      ]
    },
    {
      "cell_type": "markdown",
      "source": [
        "**Splitting the data to get the features in X and target column in y**"
      ],
      "metadata": {
        "id": "aBlPTKdL_WMW"
      }
    },
    {
      "cell_type": "code",
      "source": [
        "X = trans_df.iloc[:,:-1]\n",
        "y = trans_df.iloc[:,-1]"
      ],
      "metadata": {
        "id": "lkPwBXHIr4sM"
      },
      "execution_count": null,
      "outputs": []
    },
    {
      "cell_type": "code",
      "source": [
        "X.head()"
      ],
      "metadata": {
        "colab": {
          "base_uri": "https://localhost:8080/",
          "height": 270
        },
        "id": "bYDK269Ns_Pc",
        "outputId": "6d8bc3cb-9dfe-4bc1-96c3-3323ffd240eb"
      },
      "execution_count": null,
      "outputs": [
        {
          "output_type": "execute_result",
          "data": {
            "text/html": [
              "\n",
              "  <div id=\"df-23d59c07-9055-402a-81aa-95286b4975e0\">\n",
              "    <div class=\"colab-df-container\">\n",
              "      <div>\n",
              "<style scoped>\n",
              "    .dataframe tbody tr th:only-of-type {\n",
              "        vertical-align: middle;\n",
              "    }\n",
              "\n",
              "    .dataframe tbody tr th {\n",
              "        vertical-align: top;\n",
              "    }\n",
              "\n",
              "    .dataframe thead th {\n",
              "        text-align: right;\n",
              "    }\n",
              "</style>\n",
              "<table border=\"1\" class=\"dataframe\">\n",
              "  <thead>\n",
              "    <tr style=\"text-align: right;\">\n",
              "      <th></th>\n",
              "      <th>creditLimit</th>\n",
              "      <th>availableMoney</th>\n",
              "      <th>transactionAmount</th>\n",
              "      <th>posEntryMode</th>\n",
              "      <th>posConditionCode</th>\n",
              "      <th>merchantCategoryCode</th>\n",
              "      <th>enteredCVV</th>\n",
              "      <th>cardLast4Digits</th>\n",
              "      <th>transactionType</th>\n",
              "      <th>currentBalance</th>\n",
              "      <th>cardPresent</th>\n",
              "      <th>expirationDateKeyInMatch</th>\n",
              "    </tr>\n",
              "  </thead>\n",
              "  <tbody>\n",
              "    <tr>\n",
              "      <th>0</th>\n",
              "      <td>5000</td>\n",
              "      <td>5000.0</td>\n",
              "      <td>98.55</td>\n",
              "      <td>2</td>\n",
              "      <td>1</td>\n",
              "      <td>rideshare</td>\n",
              "      <td>414</td>\n",
              "      <td>1803</td>\n",
              "      <td>PURCHASE</td>\n",
              "      <td>0.0</td>\n",
              "      <td>0</td>\n",
              "      <td>0</td>\n",
              "    </tr>\n",
              "    <tr>\n",
              "      <th>1</th>\n",
              "      <td>5000</td>\n",
              "      <td>5000.0</td>\n",
              "      <td>74.51</td>\n",
              "      <td>9</td>\n",
              "      <td>1</td>\n",
              "      <td>entertainment</td>\n",
              "      <td>486</td>\n",
              "      <td>767</td>\n",
              "      <td>PURCHASE</td>\n",
              "      <td>0.0</td>\n",
              "      <td>1</td>\n",
              "      <td>0</td>\n",
              "    </tr>\n",
              "    <tr>\n",
              "      <th>2</th>\n",
              "      <td>5000</td>\n",
              "      <td>5000.0</td>\n",
              "      <td>7.47</td>\n",
              "      <td>9</td>\n",
              "      <td>1</td>\n",
              "      <td>mobileapps</td>\n",
              "      <td>486</td>\n",
              "      <td>767</td>\n",
              "      <td>PURCHASE</td>\n",
              "      <td>0.0</td>\n",
              "      <td>0</td>\n",
              "      <td>0</td>\n",
              "    </tr>\n",
              "    <tr>\n",
              "      <th>3</th>\n",
              "      <td>5000</td>\n",
              "      <td>5000.0</td>\n",
              "      <td>7.47</td>\n",
              "      <td>9</td>\n",
              "      <td>1</td>\n",
              "      <td>mobileapps</td>\n",
              "      <td>486</td>\n",
              "      <td>767</td>\n",
              "      <td>PURCHASE</td>\n",
              "      <td>0.0</td>\n",
              "      <td>0</td>\n",
              "      <td>0</td>\n",
              "    </tr>\n",
              "    <tr>\n",
              "      <th>4</th>\n",
              "      <td>5000</td>\n",
              "      <td>5000.0</td>\n",
              "      <td>71.18</td>\n",
              "      <td>2</td>\n",
              "      <td>1</td>\n",
              "      <td>fastfood</td>\n",
              "      <td>885</td>\n",
              "      <td>3143</td>\n",
              "      <td>PURCHASE</td>\n",
              "      <td>0.0</td>\n",
              "      <td>1</td>\n",
              "      <td>0</td>\n",
              "    </tr>\n",
              "  </tbody>\n",
              "</table>\n",
              "</div>\n",
              "      <button class=\"colab-df-convert\" onclick=\"convertToInteractive('df-23d59c07-9055-402a-81aa-95286b4975e0')\"\n",
              "              title=\"Convert this dataframe to an interactive table.\"\n",
              "              style=\"display:none;\">\n",
              "        \n",
              "  <svg xmlns=\"http://www.w3.org/2000/svg\" height=\"24px\"viewBox=\"0 0 24 24\"\n",
              "       width=\"24px\">\n",
              "    <path d=\"M0 0h24v24H0V0z\" fill=\"none\"/>\n",
              "    <path d=\"M18.56 5.44l.94 2.06.94-2.06 2.06-.94-2.06-.94-.94-2.06-.94 2.06-2.06.94zm-11 1L8.5 8.5l.94-2.06 2.06-.94-2.06-.94L8.5 2.5l-.94 2.06-2.06.94zm10 10l.94 2.06.94-2.06 2.06-.94-2.06-.94-.94-2.06-.94 2.06-2.06.94z\"/><path d=\"M17.41 7.96l-1.37-1.37c-.4-.4-.92-.59-1.43-.59-.52 0-1.04.2-1.43.59L10.3 9.45l-7.72 7.72c-.78.78-.78 2.05 0 2.83L4 21.41c.39.39.9.59 1.41.59.51 0 1.02-.2 1.41-.59l7.78-7.78 2.81-2.81c.8-.78.8-2.07 0-2.86zM5.41 20L4 18.59l7.72-7.72 1.47 1.35L5.41 20z\"/>\n",
              "  </svg>\n",
              "      </button>\n",
              "      \n",
              "  <style>\n",
              "    .colab-df-container {\n",
              "      display:flex;\n",
              "      flex-wrap:wrap;\n",
              "      gap: 12px;\n",
              "    }\n",
              "\n",
              "    .colab-df-convert {\n",
              "      background-color: #E8F0FE;\n",
              "      border: none;\n",
              "      border-radius: 50%;\n",
              "      cursor: pointer;\n",
              "      display: none;\n",
              "      fill: #1967D2;\n",
              "      height: 32px;\n",
              "      padding: 0 0 0 0;\n",
              "      width: 32px;\n",
              "    }\n",
              "\n",
              "    .colab-df-convert:hover {\n",
              "      background-color: #E2EBFA;\n",
              "      box-shadow: 0px 1px 2px rgba(60, 64, 67, 0.3), 0px 1px 3px 1px rgba(60, 64, 67, 0.15);\n",
              "      fill: #174EA6;\n",
              "    }\n",
              "\n",
              "    [theme=dark] .colab-df-convert {\n",
              "      background-color: #3B4455;\n",
              "      fill: #D2E3FC;\n",
              "    }\n",
              "\n",
              "    [theme=dark] .colab-df-convert:hover {\n",
              "      background-color: #434B5C;\n",
              "      box-shadow: 0px 1px 3px 1px rgba(0, 0, 0, 0.15);\n",
              "      filter: drop-shadow(0px 1px 2px rgba(0, 0, 0, 0.3));\n",
              "      fill: #FFFFFF;\n",
              "    }\n",
              "  </style>\n",
              "\n",
              "      <script>\n",
              "        const buttonEl =\n",
              "          document.querySelector('#df-23d59c07-9055-402a-81aa-95286b4975e0 button.colab-df-convert');\n",
              "        buttonEl.style.display =\n",
              "          google.colab.kernel.accessAllowed ? 'block' : 'none';\n",
              "\n",
              "        async function convertToInteractive(key) {\n",
              "          const element = document.querySelector('#df-23d59c07-9055-402a-81aa-95286b4975e0');\n",
              "          const dataTable =\n",
              "            await google.colab.kernel.invokeFunction('convertToInteractive',\n",
              "                                                     [key], {});\n",
              "          if (!dataTable) return;\n",
              "\n",
              "          const docLinkHtml = 'Like what you see? Visit the ' +\n",
              "            '<a target=\"_blank\" href=https://colab.research.google.com/notebooks/data_table.ipynb>data table notebook</a>'\n",
              "            + ' to learn more about interactive tables.';\n",
              "          element.innerHTML = '';\n",
              "          dataTable['output_type'] = 'display_data';\n",
              "          await google.colab.output.renderOutput(dataTable, element);\n",
              "          const docLink = document.createElement('div');\n",
              "          docLink.innerHTML = docLinkHtml;\n",
              "          element.appendChild(docLink);\n",
              "        }\n",
              "      </script>\n",
              "    </div>\n",
              "  </div>\n",
              "  "
            ],
            "text/plain": [
              "   creditLimit  availableMoney  ...  cardPresent  expirationDateKeyInMatch\n",
              "0         5000          5000.0  ...            0                         0\n",
              "1         5000          5000.0  ...            1                         0\n",
              "2         5000          5000.0  ...            0                         0\n",
              "3         5000          5000.0  ...            0                         0\n",
              "4         5000          5000.0  ...            1                         0\n",
              "\n",
              "[5 rows x 12 columns]"
            ]
          },
          "metadata": {},
          "execution_count": 58
        }
      ]
    },
    {
      "cell_type": "code",
      "source": [
        "X.info()"
      ],
      "metadata": {
        "colab": {
          "base_uri": "https://localhost:8080/"
        },
        "id": "kwzTQhs65jEV",
        "outputId": "1670ff81-381d-4bf4-cbb4-8d93e3318c0d"
      },
      "execution_count": null,
      "outputs": [
        {
          "output_type": "stream",
          "name": "stdout",
          "text": [
            "<class 'pandas.core.frame.DataFrame'>\n",
            "RangeIndex: 776668 entries, 0 to 776667\n",
            "Data columns (total 12 columns):\n",
            " #   Column                    Non-Null Count   Dtype  \n",
            "---  ------                    --------------   -----  \n",
            " 0   creditLimit               776668 non-null  int64  \n",
            " 1   availableMoney            776668 non-null  float64\n",
            " 2   transactionAmount         776668 non-null  float64\n",
            " 3   posEntryMode              776668 non-null  int64  \n",
            " 4   posConditionCode          776668 non-null  int64  \n",
            " 5   merchantCategoryCode      776668 non-null  object \n",
            " 6   enteredCVV                776668 non-null  int64  \n",
            " 7   cardLast4Digits           776668 non-null  int64  \n",
            " 8   transactionType           776668 non-null  object \n",
            " 9   currentBalance            776668 non-null  float64\n",
            " 10  cardPresent               776668 non-null  int64  \n",
            " 11  expirationDateKeyInMatch  776668 non-null  int64  \n",
            "dtypes: float64(3), int64(7), object(2)\n",
            "memory usage: 71.1+ MB\n"
          ]
        }
      ]
    },
    {
      "cell_type": "code",
      "source": [
        "#Using LabelBinarizer to encode as it results in only one column output after encoding\n",
        "lb = LabelBinarizer()\n",
        "X['merchantCategoryCode'] = lb.fit_transform(X['merchantCategoryCode'])\n",
        "X['transactionType'] = lb.fit_transform(X['transactionType'])\n",
        "X.head()"
      ],
      "metadata": {
        "id": "ZThCeMf03DkN",
        "colab": {
          "base_uri": "https://localhost:8080/",
          "height": 270
        },
        "outputId": "22e915c1-4c6d-405d-c687-11bab87e338f"
      },
      "execution_count": null,
      "outputs": [
        {
          "output_type": "execute_result",
          "data": {
            "text/html": [
              "\n",
              "  <div id=\"df-a0c3bcbd-6e80-407d-8d79-7b5ce1db8ffa\">\n",
              "    <div class=\"colab-df-container\">\n",
              "      <div>\n",
              "<style scoped>\n",
              "    .dataframe tbody tr th:only-of-type {\n",
              "        vertical-align: middle;\n",
              "    }\n",
              "\n",
              "    .dataframe tbody tr th {\n",
              "        vertical-align: top;\n",
              "    }\n",
              "\n",
              "    .dataframe thead th {\n",
              "        text-align: right;\n",
              "    }\n",
              "</style>\n",
              "<table border=\"1\" class=\"dataframe\">\n",
              "  <thead>\n",
              "    <tr style=\"text-align: right;\">\n",
              "      <th></th>\n",
              "      <th>creditLimit</th>\n",
              "      <th>availableMoney</th>\n",
              "      <th>transactionAmount</th>\n",
              "      <th>posEntryMode</th>\n",
              "      <th>posConditionCode</th>\n",
              "      <th>merchantCategoryCode</th>\n",
              "      <th>enteredCVV</th>\n",
              "      <th>cardLast4Digits</th>\n",
              "      <th>transactionType</th>\n",
              "      <th>currentBalance</th>\n",
              "      <th>cardPresent</th>\n",
              "      <th>expirationDateKeyInMatch</th>\n",
              "    </tr>\n",
              "  </thead>\n",
              "  <tbody>\n",
              "    <tr>\n",
              "      <th>0</th>\n",
              "      <td>5000</td>\n",
              "      <td>5000.0</td>\n",
              "      <td>98.55</td>\n",
              "      <td>2</td>\n",
              "      <td>1</td>\n",
              "      <td>0</td>\n",
              "      <td>414</td>\n",
              "      <td>1803</td>\n",
              "      <td>0</td>\n",
              "      <td>0.0</td>\n",
              "      <td>0</td>\n",
              "      <td>0</td>\n",
              "    </tr>\n",
              "    <tr>\n",
              "      <th>1</th>\n",
              "      <td>5000</td>\n",
              "      <td>5000.0</td>\n",
              "      <td>74.51</td>\n",
              "      <td>9</td>\n",
              "      <td>1</td>\n",
              "      <td>0</td>\n",
              "      <td>486</td>\n",
              "      <td>767</td>\n",
              "      <td>0</td>\n",
              "      <td>0.0</td>\n",
              "      <td>1</td>\n",
              "      <td>0</td>\n",
              "    </tr>\n",
              "    <tr>\n",
              "      <th>2</th>\n",
              "      <td>5000</td>\n",
              "      <td>5000.0</td>\n",
              "      <td>7.47</td>\n",
              "      <td>9</td>\n",
              "      <td>1</td>\n",
              "      <td>0</td>\n",
              "      <td>486</td>\n",
              "      <td>767</td>\n",
              "      <td>0</td>\n",
              "      <td>0.0</td>\n",
              "      <td>0</td>\n",
              "      <td>0</td>\n",
              "    </tr>\n",
              "    <tr>\n",
              "      <th>3</th>\n",
              "      <td>5000</td>\n",
              "      <td>5000.0</td>\n",
              "      <td>7.47</td>\n",
              "      <td>9</td>\n",
              "      <td>1</td>\n",
              "      <td>0</td>\n",
              "      <td>486</td>\n",
              "      <td>767</td>\n",
              "      <td>0</td>\n",
              "      <td>0.0</td>\n",
              "      <td>0</td>\n",
              "      <td>0</td>\n",
              "    </tr>\n",
              "    <tr>\n",
              "      <th>4</th>\n",
              "      <td>5000</td>\n",
              "      <td>5000.0</td>\n",
              "      <td>71.18</td>\n",
              "      <td>2</td>\n",
              "      <td>1</td>\n",
              "      <td>0</td>\n",
              "      <td>885</td>\n",
              "      <td>3143</td>\n",
              "      <td>0</td>\n",
              "      <td>0.0</td>\n",
              "      <td>1</td>\n",
              "      <td>0</td>\n",
              "    </tr>\n",
              "  </tbody>\n",
              "</table>\n",
              "</div>\n",
              "      <button class=\"colab-df-convert\" onclick=\"convertToInteractive('df-a0c3bcbd-6e80-407d-8d79-7b5ce1db8ffa')\"\n",
              "              title=\"Convert this dataframe to an interactive table.\"\n",
              "              style=\"display:none;\">\n",
              "        \n",
              "  <svg xmlns=\"http://www.w3.org/2000/svg\" height=\"24px\"viewBox=\"0 0 24 24\"\n",
              "       width=\"24px\">\n",
              "    <path d=\"M0 0h24v24H0V0z\" fill=\"none\"/>\n",
              "    <path d=\"M18.56 5.44l.94 2.06.94-2.06 2.06-.94-2.06-.94-.94-2.06-.94 2.06-2.06.94zm-11 1L8.5 8.5l.94-2.06 2.06-.94-2.06-.94L8.5 2.5l-.94 2.06-2.06.94zm10 10l.94 2.06.94-2.06 2.06-.94-2.06-.94-.94-2.06-.94 2.06-2.06.94z\"/><path d=\"M17.41 7.96l-1.37-1.37c-.4-.4-.92-.59-1.43-.59-.52 0-1.04.2-1.43.59L10.3 9.45l-7.72 7.72c-.78.78-.78 2.05 0 2.83L4 21.41c.39.39.9.59 1.41.59.51 0 1.02-.2 1.41-.59l7.78-7.78 2.81-2.81c.8-.78.8-2.07 0-2.86zM5.41 20L4 18.59l7.72-7.72 1.47 1.35L5.41 20z\"/>\n",
              "  </svg>\n",
              "      </button>\n",
              "      \n",
              "  <style>\n",
              "    .colab-df-container {\n",
              "      display:flex;\n",
              "      flex-wrap:wrap;\n",
              "      gap: 12px;\n",
              "    }\n",
              "\n",
              "    .colab-df-convert {\n",
              "      background-color: #E8F0FE;\n",
              "      border: none;\n",
              "      border-radius: 50%;\n",
              "      cursor: pointer;\n",
              "      display: none;\n",
              "      fill: #1967D2;\n",
              "      height: 32px;\n",
              "      padding: 0 0 0 0;\n",
              "      width: 32px;\n",
              "    }\n",
              "\n",
              "    .colab-df-convert:hover {\n",
              "      background-color: #E2EBFA;\n",
              "      box-shadow: 0px 1px 2px rgba(60, 64, 67, 0.3), 0px 1px 3px 1px rgba(60, 64, 67, 0.15);\n",
              "      fill: #174EA6;\n",
              "    }\n",
              "\n",
              "    [theme=dark] .colab-df-convert {\n",
              "      background-color: #3B4455;\n",
              "      fill: #D2E3FC;\n",
              "    }\n",
              "\n",
              "    [theme=dark] .colab-df-convert:hover {\n",
              "      background-color: #434B5C;\n",
              "      box-shadow: 0px 1px 3px 1px rgba(0, 0, 0, 0.15);\n",
              "      filter: drop-shadow(0px 1px 2px rgba(0, 0, 0, 0.3));\n",
              "      fill: #FFFFFF;\n",
              "    }\n",
              "  </style>\n",
              "\n",
              "      <script>\n",
              "        const buttonEl =\n",
              "          document.querySelector('#df-a0c3bcbd-6e80-407d-8d79-7b5ce1db8ffa button.colab-df-convert');\n",
              "        buttonEl.style.display =\n",
              "          google.colab.kernel.accessAllowed ? 'block' : 'none';\n",
              "\n",
              "        async function convertToInteractive(key) {\n",
              "          const element = document.querySelector('#df-a0c3bcbd-6e80-407d-8d79-7b5ce1db8ffa');\n",
              "          const dataTable =\n",
              "            await google.colab.kernel.invokeFunction('convertToInteractive',\n",
              "                                                     [key], {});\n",
              "          if (!dataTable) return;\n",
              "\n",
              "          const docLinkHtml = 'Like what you see? Visit the ' +\n",
              "            '<a target=\"_blank\" href=https://colab.research.google.com/notebooks/data_table.ipynb>data table notebook</a>'\n",
              "            + ' to learn more about interactive tables.';\n",
              "          element.innerHTML = '';\n",
              "          dataTable['output_type'] = 'display_data';\n",
              "          await google.colab.output.renderOutput(dataTable, element);\n",
              "          const docLink = document.createElement('div');\n",
              "          docLink.innerHTML = docLinkHtml;\n",
              "          element.appendChild(docLink);\n",
              "        }\n",
              "      </script>\n",
              "    </div>\n",
              "  </div>\n",
              "  "
            ],
            "text/plain": [
              "   creditLimit  availableMoney  ...  cardPresent  expirationDateKeyInMatch\n",
              "0         5000          5000.0  ...            0                         0\n",
              "1         5000          5000.0  ...            1                         0\n",
              "2         5000          5000.0  ...            0                         0\n",
              "3         5000          5000.0  ...            0                         0\n",
              "4         5000          5000.0  ...            1                         0\n",
              "\n",
              "[5 rows x 12 columns]"
            ]
          },
          "metadata": {},
          "execution_count": 60
        }
      ]
    },
    {
      "cell_type": "markdown",
      "source": [
        "# **Feature Selection**"
      ],
      "metadata": {
        "id": "d8r3w4JbaGrN"
      }
    },
    {
      "cell_type": "markdown",
      "source": [
        "**Training ExtraTreesRegressor model to identify important features in the data, and will match with the p-scores ahead using SelectKBest. ExtraTreesRegressor trains quickly and has an inbuilt function to identify the feature importances as it is tree-based model**"
      ],
      "metadata": {
        "id": "dQ6vC4qE_h84"
      }
    },
    {
      "cell_type": "code",
      "source": [
        "from sklearn.ensemble import ExtraTreesRegressor\n",
        "import matplotlib.pyplot as plt\n",
        "model = ExtraTreesRegressor()\n",
        "model.fit(X,y)"
      ],
      "metadata": {
        "colab": {
          "base_uri": "https://localhost:8080/"
        },
        "id": "dbXWX5Ou1qoM",
        "outputId": "b9434f8c-d04d-4708-cb7b-67ec50261a9d"
      },
      "execution_count": null,
      "outputs": [
        {
          "output_type": "execute_result",
          "data": {
            "text/plain": [
              "ExtraTreesRegressor()"
            ]
          },
          "metadata": {},
          "execution_count": 61
        }
      ]
    },
    {
      "cell_type": "code",
      "source": [
        "print(model.feature_importances_)"
      ],
      "metadata": {
        "colab": {
          "base_uri": "https://localhost:8080/"
        },
        "id": "BNpa4V028-gJ",
        "outputId": "403dada6-b9b7-4ccb-fcd3-92adc998c5f2"
      },
      "execution_count": null,
      "outputs": [
        {
          "output_type": "stream",
          "name": "stdout",
          "text": [
            "[4.01086324e-02 1.90270226e-01 2.47457349e-01 5.51374383e-02\n",
            " 1.63962320e-02 1.68763127e-03 1.24983306e-01 1.25889243e-01\n",
            " 3.23727717e-04 1.95240430e-01 2.29395441e-03 2.11831230e-04]\n"
          ]
        }
      ]
    },
    {
      "cell_type": "code",
      "source": [
        "print('Features in increasing order of their importance on the isFraud Class -\\n')\n",
        "feat_importances = pd.Series(model.feature_importances_, index=X.columns)\n",
        "feat_importances.nlargest(12).plot(kind='barh')\n",
        "plt.show()"
      ],
      "metadata": {
        "colab": {
          "base_uri": "https://localhost:8080/",
          "height": 303
        },
        "id": "A_gn5jJR9Fc8",
        "outputId": "31ff98cb-11f0-4ff0-81f5-5c3fa3d058d3"
      },
      "execution_count": null,
      "outputs": [
        {
          "output_type": "stream",
          "name": "stdout",
          "text": [
            "Features in increasing order of their importance on the isFraud Class -\n",
            "\n"
          ]
        },
        {
          "output_type": "display_data",
          "data": {
            "image/png": "[encoded data removed]",
            "text/plain": [
              "<Figure size 432x288 with 1 Axes>"
            ]
          },
          "metadata": {
            "needs_background": "light"
          }
        }
      ]
    },
    {
      "cell_type": "markdown",
      "source": [
        "**Implementing SelectKBest feature selection technique to identify features that impact the target variable proportionally as compared to the other features based on the p value and score metric**"
      ],
      "metadata": {
        "id": "VxoB8x-ACTqs"
      }
    },
    {
      "cell_type": "code",
      "source": [
        "ordered_rank_features=SelectKBest(k='all')\n",
        "ordered_feature=ordered_rank_features.fit(X,y)"
      ],
      "metadata": {
        "id": "feoNNe_kxsYp"
      },
      "execution_count": null,
      "outputs": []
    },
    {
      "cell_type": "code",
      "source": [
        "dfscores=pd.DataFrame(ordered_feature.scores_,columns=[\"Score\"])\n",
        "dfcolumns=pd.DataFrame(X.columns)\n",
        "features_rank=pd.concat([dfcolumns,dfscores],axis=1)\n",
        "features_rank.columns=['Features','Score']"
      ],
      "metadata": {
        "id": "xpixe4Vd4w7R"
      },
      "execution_count": null,
      "outputs": []
    },
    {
      "cell_type": "markdown",
      "source": [
        "**Ordered the features in decreasing order of their scores i.e the more important a feature the higher its rank. This result matches as given by ExtraTreesRegressor model**"
      ],
      "metadata": {
        "id": "84XEO5h8GZ6M"
      }
    },
    {
      "cell_type": "code",
      "source": [
        "features_rank.nlargest(12,'Score')"
      ],
      "metadata": {
        "id": "cfJMkHqK5QAH",
        "colab": {
          "base_uri": "https://localhost:8080/",
          "height": 426
        },
        "outputId": "3c50cf70-e609-4ab7-ebb8-87ecb2cc13b0"
      },
      "execution_count": null,
      "outputs": [
        {
          "output_type": "execute_result",
          "data": {
            "text/html": [
              "\n",
              "  <div id=\"df-836b35c5-174c-4e0a-8b85-884cd7ccacd6\">\n",
              "    <div class=\"colab-df-container\">\n",
              "      <div>\n",
              "<style scoped>\n",
              "    .dataframe tbody tr th:only-of-type {\n",
              "        vertical-align: middle;\n",
              "    }\n",
              "\n",
              "    .dataframe tbody tr th {\n",
              "        vertical-align: top;\n",
              "    }\n",
              "\n",
              "    .dataframe thead th {\n",
              "        text-align: right;\n",
              "    }\n",
              "</style>\n",
              "<table border=\"1\" class=\"dataframe\">\n",
              "  <thead>\n",
              "    <tr style=\"text-align: right;\">\n",
              "      <th></th>\n",
              "      <th>Features</th>\n",
              "      <th>Score</th>\n",
              "    </tr>\n",
              "  </thead>\n",
              "  <tbody>\n",
              "    <tr>\n",
              "      <th>2</th>\n",
              "      <td>transactionAmount</td>\n",
              "      <td>4318.318916</td>\n",
              "    </tr>\n",
              "    <tr>\n",
              "      <th>10</th>\n",
              "      <td>cardPresent</td>\n",
              "      <td>1422.728336</td>\n",
              "    </tr>\n",
              "    <tr>\n",
              "      <th>5</th>\n",
              "      <td>merchantCategoryCode</td>\n",
              "      <td>342.285564</td>\n",
              "    </tr>\n",
              "    <tr>\n",
              "      <th>8</th>\n",
              "      <td>transactionType</td>\n",
              "      <td>127.109986</td>\n",
              "    </tr>\n",
              "    <tr>\n",
              "      <th>6</th>\n",
              "      <td>enteredCVV</td>\n",
              "      <td>56.157145</td>\n",
              "    </tr>\n",
              "    <tr>\n",
              "      <th>4</th>\n",
              "      <td>posConditionCode</td>\n",
              "      <td>51.403032</td>\n",
              "    </tr>\n",
              "    <tr>\n",
              "      <th>9</th>\n",
              "      <td>currentBalance</td>\n",
              "      <td>50.451823</td>\n",
              "    </tr>\n",
              "    <tr>\n",
              "      <th>3</th>\n",
              "      <td>posEntryMode</td>\n",
              "      <td>48.333240</td>\n",
              "    </tr>\n",
              "    <tr>\n",
              "      <th>0</th>\n",
              "      <td>creditLimit</td>\n",
              "      <td>9.102743</td>\n",
              "    </tr>\n",
              "    <tr>\n",
              "      <th>1</th>\n",
              "      <td>availableMoney</td>\n",
              "      <td>1.473580</td>\n",
              "    </tr>\n",
              "    <tr>\n",
              "      <th>11</th>\n",
              "      <td>expirationDateKeyInMatch</td>\n",
              "      <td>0.507072</td>\n",
              "    </tr>\n",
              "    <tr>\n",
              "      <th>7</th>\n",
              "      <td>cardLast4Digits</td>\n",
              "      <td>0.439762</td>\n",
              "    </tr>\n",
              "  </tbody>\n",
              "</table>\n",
              "</div>\n",
              "      <button class=\"colab-df-convert\" onclick=\"convertToInteractive('df-836b35c5-174c-4e0a-8b85-884cd7ccacd6')\"\n",
              "              title=\"Convert this dataframe to an interactive table.\"\n",
              "              style=\"display:none;\">\n",
              "        \n",
              "  <svg xmlns=\"http://www.w3.org/2000/svg\" height=\"24px\"viewBox=\"0 0 24 24\"\n",
              "       width=\"24px\">\n",
              "    <path d=\"M0 0h24v24H0V0z\" fill=\"none\"/>\n",
              "    <path d=\"M18.56 5.44l.94 2.06.94-2.06 2.06-.94-2.06-.94-.94-2.06-.94 2.06-2.06.94zm-11 1L8.5 8.5l.94-2.06 2.06-.94-2.06-.94L8.5 2.5l-.94 2.06-2.06.94zm10 10l.94 2.06.94-2.06 2.06-.94-2.06-.94-.94-2.06-.94 2.06-2.06.94z\"/><path d=\"M17.41 7.96l-1.37-1.37c-.4-.4-.92-.59-1.43-.59-.52 0-1.04.2-1.43.59L10.3 9.45l-7.72 7.72c-.78.78-.78 2.05 0 2.83L4 21.41c.39.39.9.59 1.41.59.51 0 1.02-.2 1.41-.59l7.78-7.78 2.81-2.81c.8-.78.8-2.07 0-2.86zM5.41 20L4 18.59l7.72-7.72 1.47 1.35L5.41 20z\"/>\n",
              "  </svg>\n",
              "      </button>\n",
              "      \n",
              "  <style>\n",
              "    .colab-df-container {\n",
              "      display:flex;\n",
              "      flex-wrap:wrap;\n",
              "      gap: 12px;\n",
              "    }\n",
              "\n",
              "    .colab-df-convert {\n",
              "      background-color: #E8F0FE;\n",
              "      border: none;\n",
              "      border-radius: 50%;\n",
              "      cursor: pointer;\n",
              "      display: none;\n",
              "      fill: #1967D2;\n",
              "      height: 32px;\n",
              "      padding: 0 0 0 0;\n",
              "      width: 32px;\n",
              "    }\n",
              "\n",
              "    .colab-df-convert:hover {\n",
              "      background-color: #E2EBFA;\n",
              "      box-shadow: 0px 1px 2px rgba(60, 64, 67, 0.3), 0px 1px 3px 1px rgba(60, 64, 67, 0.15);\n",
              "      fill: #174EA6;\n",
              "    }\n",
              "\n",
              "    [theme=dark] .colab-df-convert {\n",
              "      background-color: #3B4455;\n",
              "      fill: #D2E3FC;\n",
              "    }\n",
              "\n",
              "    [theme=dark] .colab-df-convert:hover {\n",
              "      background-color: #434B5C;\n",
              "      box-shadow: 0px 1px 3px 1px rgba(0, 0, 0, 0.15);\n",
              "      filter: drop-shadow(0px 1px 2px rgba(0, 0, 0, 0.3));\n",
              "      fill: #FFFFFF;\n",
              "    }\n",
              "  </style>\n",
              "\n",
              "      <script>\n",
              "        const buttonEl =\n",
              "          document.querySelector('#df-836b35c5-174c-4e0a-8b85-884cd7ccacd6 button.colab-df-convert');\n",
              "        buttonEl.style.display =\n",
              "          google.colab.kernel.accessAllowed ? 'block' : 'none';\n",
              "\n",
              "        async function convertToInteractive(key) {\n",
              "          const element = document.querySelector('#df-836b35c5-174c-4e0a-8b85-884cd7ccacd6');\n",
              "          const dataTable =\n",
              "            await google.colab.kernel.invokeFunction('convertToInteractive',\n",
              "                                                     [key], {});\n",
              "          if (!dataTable) return;\n",
              "\n",
              "          const docLinkHtml = 'Like what you see? Visit the ' +\n",
              "            '<a target=\"_blank\" href=https://colab.research.google.com/notebooks/data_table.ipynb>data table notebook</a>'\n",
              "            + ' to learn more about interactive tables.';\n",
              "          element.innerHTML = '';\n",
              "          dataTable['output_type'] = 'display_data';\n",
              "          await google.colab.output.renderOutput(dataTable, element);\n",
              "          const docLink = document.createElement('div');\n",
              "          docLink.innerHTML = docLinkHtml;\n",
              "          element.appendChild(docLink);\n",
              "        }\n",
              "      </script>\n",
              "    </div>\n",
              "  </div>\n",
              "  "
            ],
            "text/plain": [
              "                    Features        Score\n",
              "2          transactionAmount  4318.318916\n",
              "10               cardPresent  1422.728336\n",
              "5       merchantCategoryCode   342.285564\n",
              "8            transactionType   127.109986\n",
              "6                 enteredCVV    56.157145\n",
              "4           posConditionCode    51.403032\n",
              "9             currentBalance    50.451823\n",
              "3               posEntryMode    48.333240\n",
              "0                creditLimit     9.102743\n",
              "1             availableMoney     1.473580\n",
              "11  expirationDateKeyInMatch     0.507072\n",
              "7            cardLast4Digits     0.439762"
            ]
          },
          "metadata": {},
          "execution_count": 66
        }
      ]
    },
    {
      "cell_type": "code",
      "source": [
        "scores = ordered_feature.pvalues_\n",
        "scores"
      ],
      "metadata": {
        "id": "NwIwYeiDWQ4s",
        "colab": {
          "base_uri": "https://localhost:8080/"
        },
        "outputId": "45dfe6ba-b5b7-4995-936b-2fc6d9b35be2"
      },
      "execution_count": null,
      "outputs": [
        {
          "output_type": "execute_result",
          "data": {
            "text/plain": [
              "array([2.55234719e-003, 2.24781995e-001, 0.00000000e+000, 3.59886116e-012,\n",
              "       7.52887304e-013, 2.10663443e-076, 6.69743586e-014, 5.07237455e-001,\n",
              "       1.76688942e-029, 1.22230371e-012, 4.64044357e-311, 4.76409263e-001])"
            ]
          },
          "metadata": {},
          "execution_count": 67
        }
      ]
    },
    {
      "cell_type": "code",
      "source": [
        "feature_select = pd.DataFrame({'variable': X.columns,'pvalue': ordered_feature.pvalues_, 'Score': ordered_feature.scores_ })"
      ],
      "metadata": {
        "id": "IIE9uvrv5KPq"
      },
      "execution_count": null,
      "outputs": []
    },
    {
      "cell_type": "markdown",
      "source": [
        "**Showing features that are significant based on the p value**"
      ],
      "metadata": {
        "id": "SSDDpBQ27lGA"
      }
    },
    {
      "cell_type": "code",
      "source": [
        "feature_select[feature_select['pvalue'] < 0.05]"
      ],
      "metadata": {
        "id": "s3Us-Ayh728Z",
        "colab": {
          "base_uri": "https://localhost:8080/",
          "height": 332
        },
        "outputId": "6f2d7dad-0252-49bf-fbcd-51f6e7573770"
      },
      "execution_count": null,
      "outputs": [
        {
          "output_type": "execute_result",
          "data": {
            "text/html": [
              "\n",
              "  <div id=\"df-b82156df-e126-46d1-b653-36dcf873d1b6\">\n",
              "    <div class=\"colab-df-container\">\n",
              "      <div>\n",
              "<style scoped>\n",
              "    .dataframe tbody tr th:only-of-type {\n",
              "        vertical-align: middle;\n",
              "    }\n",
              "\n",
              "    .dataframe tbody tr th {\n",
              "        vertical-align: top;\n",
              "    }\n",
              "\n",
              "    .dataframe thead th {\n",
              "        text-align: right;\n",
              "    }\n",
              "</style>\n",
              "<table border=\"1\" class=\"dataframe\">\n",
              "  <thead>\n",
              "    <tr style=\"text-align: right;\">\n",
              "      <th></th>\n",
              "      <th>variable</th>\n",
              "      <th>pvalue</th>\n",
              "      <th>Score</th>\n",
              "    </tr>\n",
              "  </thead>\n",
              "  <tbody>\n",
              "    <tr>\n",
              "      <th>0</th>\n",
              "      <td>creditLimit</td>\n",
              "      <td>2.552347e-03</td>\n",
              "      <td>9.102743</td>\n",
              "    </tr>\n",
              "    <tr>\n",
              "      <th>2</th>\n",
              "      <td>transactionAmount</td>\n",
              "      <td>0.000000e+00</td>\n",
              "      <td>4318.318916</td>\n",
              "    </tr>\n",
              "    <tr>\n",
              "      <th>3</th>\n",
              "      <td>posEntryMode</td>\n",
              "      <td>3.598861e-12</td>\n",
              "      <td>48.333240</td>\n",
              "    </tr>\n",
              "    <tr>\n",
              "      <th>4</th>\n",
              "      <td>posConditionCode</td>\n",
              "      <td>7.528873e-13</td>\n",
              "      <td>51.403032</td>\n",
              "    </tr>\n",
              "    <tr>\n",
              "      <th>5</th>\n",
              "      <td>merchantCategoryCode</td>\n",
              "      <td>2.106634e-76</td>\n",
              "      <td>342.285564</td>\n",
              "    </tr>\n",
              "    <tr>\n",
              "      <th>6</th>\n",
              "      <td>enteredCVV</td>\n",
              "      <td>6.697436e-14</td>\n",
              "      <td>56.157145</td>\n",
              "    </tr>\n",
              "    <tr>\n",
              "      <th>8</th>\n",
              "      <td>transactionType</td>\n",
              "      <td>1.766889e-29</td>\n",
              "      <td>127.109986</td>\n",
              "    </tr>\n",
              "    <tr>\n",
              "      <th>9</th>\n",
              "      <td>currentBalance</td>\n",
              "      <td>1.222304e-12</td>\n",
              "      <td>50.451823</td>\n",
              "    </tr>\n",
              "    <tr>\n",
              "      <th>10</th>\n",
              "      <td>cardPresent</td>\n",
              "      <td>4.640444e-311</td>\n",
              "      <td>1422.728336</td>\n",
              "    </tr>\n",
              "  </tbody>\n",
              "</table>\n",
              "</div>\n",
              "      <button class=\"colab-df-convert\" onclick=\"convertToInteractive('df-b82156df-e126-46d1-b653-36dcf873d1b6')\"\n",
              "              title=\"Convert this dataframe to an interactive table.\"\n",
              "              style=\"display:none;\">\n",
              "        \n",
              "  <svg xmlns=\"http://www.w3.org/2000/svg\" height=\"24px\"viewBox=\"0 0 24 24\"\n",
              "       width=\"24px\">\n",
              "    <path d=\"M0 0h24v24H0V0z\" fill=\"none\"/>\n",
              "    <path d=\"M18.56 5.44l.94 2.06.94-2.06 2.06-.94-2.06-.94-.94-2.06-.94 2.06-2.06.94zm-11 1L8.5 8.5l.94-2.06 2.06-.94-2.06-.94L8.5 2.5l-.94 2.06-2.06.94zm10 10l.94 2.06.94-2.06 2.06-.94-2.06-.94-.94-2.06-.94 2.06-2.06.94z\"/><path d=\"M17.41 7.96l-1.37-1.37c-.4-.4-.92-.59-1.43-.59-.52 0-1.04.2-1.43.59L10.3 9.45l-7.72 7.72c-.78.78-.78 2.05 0 2.83L4 21.41c.39.39.9.59 1.41.59.51 0 1.02-.2 1.41-.59l7.78-7.78 2.81-2.81c.8-.78.8-2.07 0-2.86zM5.41 20L4 18.59l7.72-7.72 1.47 1.35L5.41 20z\"/>\n",
              "  </svg>\n",
              "      </button>\n",
              "      \n",
              "  <style>\n",
              "    .colab-df-container {\n",
              "      display:flex;\n",
              "      flex-wrap:wrap;\n",
              "      gap: 12px;\n",
              "    }\n",
              "\n",
              "    .colab-df-convert {\n",
              "      background-color: #E8F0FE;\n",
              "      border: none;\n",
              "      border-radius: 50%;\n",
              "      cursor: pointer;\n",
              "      display: none;\n",
              "      fill: #1967D2;\n",
              "      height: 32px;\n",
              "      padding: 0 0 0 0;\n",
              "      width: 32px;\n",
              "    }\n",
              "\n",
              "    .colab-df-convert:hover {\n",
              "      background-color: #E2EBFA;\n",
              "      box-shadow: 0px 1px 2px rgba(60, 64, 67, 0.3), 0px 1px 3px 1px rgba(60, 64, 67, 0.15);\n",
              "      fill: #174EA6;\n",
              "    }\n",
              "\n",
              "    [theme=dark] .colab-df-convert {\n",
              "      background-color: #3B4455;\n",
              "      fill: #D2E3FC;\n",
              "    }\n",
              "\n",
              "    [theme=dark] .colab-df-convert:hover {\n",
              "      background-color: #434B5C;\n",
              "      box-shadow: 0px 1px 3px 1px rgba(0, 0, 0, 0.15);\n",
              "      filter: drop-shadow(0px 1px 2px rgba(0, 0, 0, 0.3));\n",
              "      fill: #FFFFFF;\n",
              "    }\n",
              "  </style>\n",
              "\n",
              "      <script>\n",
              "        const buttonEl =\n",
              "          document.querySelector('#df-b82156df-e126-46d1-b653-36dcf873d1b6 button.colab-df-convert');\n",
              "        buttonEl.style.display =\n",
              "          google.colab.kernel.accessAllowed ? 'block' : 'none';\n",
              "\n",
              "        async function convertToInteractive(key) {\n",
              "          const element = document.querySelector('#df-b82156df-e126-46d1-b653-36dcf873d1b6');\n",
              "          const dataTable =\n",
              "            await google.colab.kernel.invokeFunction('convertToInteractive',\n",
              "                                                     [key], {});\n",
              "          if (!dataTable) return;\n",
              "\n",
              "          const docLinkHtml = 'Like what you see? Visit the ' +\n",
              "            '<a target=\"_blank\" href=https://colab.research.google.com/notebooks/data_table.ipynb>data table notebook</a>'\n",
              "            + ' to learn more about interactive tables.';\n",
              "          element.innerHTML = '';\n",
              "          dataTable['output_type'] = 'display_data';\n",
              "          await google.colab.output.renderOutput(dataTable, element);\n",
              "          const docLink = document.createElement('div');\n",
              "          docLink.innerHTML = docLinkHtml;\n",
              "          element.appendChild(docLink);\n",
              "        }\n",
              "      </script>\n",
              "    </div>\n",
              "  </div>\n",
              "  "
            ],
            "text/plain": [
              "                variable         pvalue        Score\n",
              "0            creditLimit   2.552347e-03     9.102743\n",
              "2      transactionAmount   0.000000e+00  4318.318916\n",
              "3           posEntryMode   3.598861e-12    48.333240\n",
              "4       posConditionCode   7.528873e-13    51.403032\n",
              "5   merchantCategoryCode   2.106634e-76   342.285564\n",
              "6             enteredCVV   6.697436e-14    56.157145\n",
              "8        transactionType   1.766889e-29   127.109986\n",
              "9         currentBalance   1.222304e-12    50.451823\n",
              "10           cardPresent  4.640444e-311  1422.728336"
            ]
          },
          "metadata": {},
          "execution_count": 69
        }
      ]
    },
    {
      "cell_type": "markdown",
      "source": [
        "**Dropping features that have very less scores and p value assocaited with them to reduce the dimensionality of the data and to improve training time**"
      ],
      "metadata": {
        "id": "Rwkbpn0ZHByJ"
      }
    },
    {
      "cell_type": "code",
      "source": [
        "X = X.drop(['transactionType','expirationDateKeyInMatch','cardLast4Digits','cardPresent'],axis=1)\n",
        "X = X.reset_index(drop=True)"
      ],
      "metadata": {
        "id": "pn3Z69g19k3g"
      },
      "execution_count": null,
      "outputs": []
    },
    {
      "cell_type": "code",
      "source": [
        "X.head()"
      ],
      "metadata": {
        "colab": {
          "base_uri": "https://localhost:8080/",
          "height": 250
        },
        "id": "Xg694Jp1_Buk",
        "outputId": "24e3b570-41dd-4d5c-9c2b-90491c93231e"
      },
      "execution_count": null,
      "outputs": [
        {
          "output_type": "execute_result",
          "data": {
            "text/html": [
              "\n",
              "  <div id=\"df-77413a8f-b9d7-4cb8-9b46-b3007a12bbd4\">\n",
              "    <div class=\"colab-df-container\">\n",
              "      <div>\n",
              "<style scoped>\n",
              "    .dataframe tbody tr th:only-of-type {\n",
              "        vertical-align: middle;\n",
              "    }\n",
              "\n",
              "    .dataframe tbody tr th {\n",
              "        vertical-align: top;\n",
              "    }\n",
              "\n",
              "    .dataframe thead th {\n",
              "        text-align: right;\n",
              "    }\n",
              "</style>\n",
              "<table border=\"1\" class=\"dataframe\">\n",
              "  <thead>\n",
              "    <tr style=\"text-align: right;\">\n",
              "      <th></th>\n",
              "      <th>creditLimit</th>\n",
              "      <th>availableMoney</th>\n",
              "      <th>transactionAmount</th>\n",
              "      <th>posEntryMode</th>\n",
              "      <th>posConditionCode</th>\n",
              "      <th>merchantCategoryCode</th>\n",
              "      <th>enteredCVV</th>\n",
              "      <th>currentBalance</th>\n",
              "    </tr>\n",
              "  </thead>\n",
              "  <tbody>\n",
              "    <tr>\n",
              "      <th>0</th>\n",
              "      <td>5000</td>\n",
              "      <td>5000.0</td>\n",
              "      <td>98.55</td>\n",
              "      <td>2</td>\n",
              "      <td>1</td>\n",
              "      <td>0</td>\n",
              "      <td>414</td>\n",
              "      <td>0.0</td>\n",
              "    </tr>\n",
              "    <tr>\n",
              "      <th>1</th>\n",
              "      <td>5000</td>\n",
              "      <td>5000.0</td>\n",
              "      <td>74.51</td>\n",
              "      <td>9</td>\n",
              "      <td>1</td>\n",
              "      <td>0</td>\n",
              "      <td>486</td>\n",
              "      <td>0.0</td>\n",
              "    </tr>\n",
              "    <tr>\n",
              "      <th>2</th>\n",
              "      <td>5000</td>\n",
              "      <td>5000.0</td>\n",
              "      <td>7.47</td>\n",
              "      <td>9</td>\n",
              "      <td>1</td>\n",
              "      <td>0</td>\n",
              "      <td>486</td>\n",
              "      <td>0.0</td>\n",
              "    </tr>\n",
              "    <tr>\n",
              "      <th>3</th>\n",
              "      <td>5000</td>\n",
              "      <td>5000.0</td>\n",
              "      <td>7.47</td>\n",
              "      <td>9</td>\n",
              "      <td>1</td>\n",
              "      <td>0</td>\n",
              "      <td>486</td>\n",
              "      <td>0.0</td>\n",
              "    </tr>\n",
              "    <tr>\n",
              "      <th>4</th>\n",
              "      <td>5000</td>\n",
              "      <td>5000.0</td>\n",
              "      <td>71.18</td>\n",
              "      <td>2</td>\n",
              "      <td>1</td>\n",
              "      <td>0</td>\n",
              "      <td>885</td>\n",
              "      <td>0.0</td>\n",
              "    </tr>\n",
              "  </tbody>\n",
              "</table>\n",
              "</div>\n",
              "      <button class=\"colab-df-convert\" onclick=\"convertToInteractive('df-77413a8f-b9d7-4cb8-9b46-b3007a12bbd4')\"\n",
              "              title=\"Convert this dataframe to an interactive table.\"\n",
              "              style=\"display:none;\">\n",
              "        \n",
              "  <svg xmlns=\"http://www.w3.org/2000/svg\" height=\"24px\"viewBox=\"0 0 24 24\"\n",
              "       width=\"24px\">\n",
              "    <path d=\"M0 0h24v24H0V0z\" fill=\"none\"/>\n",
              "    <path d=\"M18.56 5.44l.94 2.06.94-2.06 2.06-.94-2.06-.94-.94-2.06-.94 2.06-2.06.94zm-11 1L8.5 8.5l.94-2.06 2.06-.94-2.06-.94L8.5 2.5l-.94 2.06-2.06.94zm10 10l.94 2.06.94-2.06 2.06-.94-2.06-.94-.94-2.06-.94 2.06-2.06.94z\"/><path d=\"M17.41 7.96l-1.37-1.37c-.4-.4-.92-.59-1.43-.59-.52 0-1.04.2-1.43.59L10.3 9.45l-7.72 7.72c-.78.78-.78 2.05 0 2.83L4 21.41c.39.39.9.59 1.41.59.51 0 1.02-.2 1.41-.59l7.78-7.78 2.81-2.81c.8-.78.8-2.07 0-2.86zM5.41 20L4 18.59l7.72-7.72 1.47 1.35L5.41 20z\"/>\n",
              "  </svg>\n",
              "      </button>\n",
              "      \n",
              "  <style>\n",
              "    .colab-df-container {\n",
              "      display:flex;\n",
              "      flex-wrap:wrap;\n",
              "      gap: 12px;\n",
              "    }\n",
              "\n",
              "    .colab-df-convert {\n",
              "      background-color: #E8F0FE;\n",
              "      border: none;\n",
              "      border-radius: 50%;\n",
              "      cursor: pointer;\n",
              "      display: none;\n",
              "      fill: #1967D2;\n",
              "      height: 32px;\n",
              "      padding: 0 0 0 0;\n",
              "      width: 32px;\n",
              "    }\n",
              "\n",
              "    .colab-df-convert:hover {\n",
              "      background-color: #E2EBFA;\n",
              "      box-shadow: 0px 1px 2px rgba(60, 64, 67, 0.3), 0px 1px 3px 1px rgba(60, 64, 67, 0.15);\n",
              "      fill: #174EA6;\n",
              "    }\n",
              "\n",
              "    [theme=dark] .colab-df-convert {\n",
              "      background-color: #3B4455;\n",
              "      fill: #D2E3FC;\n",
              "    }\n",
              "\n",
              "    [theme=dark] .colab-df-convert:hover {\n",
              "      background-color: #434B5C;\n",
              "      box-shadow: 0px 1px 3px 1px rgba(0, 0, 0, 0.15);\n",
              "      filter: drop-shadow(0px 1px 2px rgba(0, 0, 0, 0.3));\n",
              "      fill: #FFFFFF;\n",
              "    }\n",
              "  </style>\n",
              "\n",
              "      <script>\n",
              "        const buttonEl =\n",
              "          document.querySelector('#df-77413a8f-b9d7-4cb8-9b46-b3007a12bbd4 button.colab-df-convert');\n",
              "        buttonEl.style.display =\n",
              "          google.colab.kernel.accessAllowed ? 'block' : 'none';\n",
              "\n",
              "        async function convertToInteractive(key) {\n",
              "          const element = document.querySelector('#df-77413a8f-b9d7-4cb8-9b46-b3007a12bbd4');\n",
              "          const dataTable =\n",
              "            await google.colab.kernel.invokeFunction('convertToInteractive',\n",
              "                                                     [key], {});\n",
              "          if (!dataTable) return;\n",
              "\n",
              "          const docLinkHtml = 'Like what you see? Visit the ' +\n",
              "            '<a target=\"_blank\" href=https://colab.research.google.com/notebooks/data_table.ipynb>data table notebook</a>'\n",
              "            + ' to learn more about interactive tables.';\n",
              "          element.innerHTML = '';\n",
              "          dataTable['output_type'] = 'display_data';\n",
              "          await google.colab.output.renderOutput(dataTable, element);\n",
              "          const docLink = document.createElement('div');\n",
              "          docLink.innerHTML = docLinkHtml;\n",
              "          element.appendChild(docLink);\n",
              "        }\n",
              "      </script>\n",
              "    </div>\n",
              "  </div>\n",
              "  "
            ],
            "text/plain": [
              "   creditLimit  availableMoney  ...  enteredCVV  currentBalance\n",
              "0         5000          5000.0  ...         414             0.0\n",
              "1         5000          5000.0  ...         486             0.0\n",
              "2         5000          5000.0  ...         486             0.0\n",
              "3         5000          5000.0  ...         486             0.0\n",
              "4         5000          5000.0  ...         885             0.0\n",
              "\n",
              "[5 rows x 8 columns]"
            ]
          },
          "metadata": {},
          "execution_count": 71
        }
      ]
    },
    {
      "cell_type": "code",
      "source": [
        "X.shape"
      ],
      "metadata": {
        "id": "VmlQj5djXd83",
        "colab": {
          "base_uri": "https://localhost:8080/"
        },
        "outputId": "0af7036a-9904-4ed1-c302-52f8919fb083"
      },
      "execution_count": null,
      "outputs": [
        {
          "output_type": "execute_result",
          "data": {
            "text/plain": [
              "(776668, 8)"
            ]
          },
          "metadata": {},
          "execution_count": 72
        }
      ]
    },
    {
      "cell_type": "markdown",
      "source": [
        "# **Model Building**"
      ],
      "metadata": {
        "id": "rqpTS7KM8arw"
      }
    },
    {
      "cell_type": "code",
      "source": [
        "X.info()"
      ],
      "metadata": {
        "colab": {
          "base_uri": "https://localhost:8080/"
        },
        "id": "dmAJk1u_BQ_d",
        "outputId": "63096340-2ded-43c6-e173-672fd737b35c"
      },
      "execution_count": null,
      "outputs": [
        {
          "output_type": "stream",
          "name": "stdout",
          "text": [
            "<class 'pandas.core.frame.DataFrame'>\n",
            "RangeIndex: 776668 entries, 0 to 776667\n",
            "Data columns (total 8 columns):\n",
            " #   Column                Non-Null Count   Dtype  \n",
            "---  ------                --------------   -----  \n",
            " 0   creditLimit           776668 non-null  int64  \n",
            " 1   availableMoney        776668 non-null  float64\n",
            " 2   transactionAmount     776668 non-null  float64\n",
            " 3   posEntryMode          776668 non-null  int64  \n",
            " 4   posConditionCode      776668 non-null  int64  \n",
            " 5   merchantCategoryCode  776668 non-null  int64  \n",
            " 6   enteredCVV            776668 non-null  int64  \n",
            " 7   currentBalance        776668 non-null  float64\n",
            "dtypes: float64(3), int64(5)\n",
            "memory usage: 47.4 MB\n"
          ]
        }
      ]
    },
    {
      "cell_type": "markdown",
      "source": [
        "**Performing Oversampling on data using SMOTETOmek since the isFraud is highly imbalanced as mentioned earlier. Now using this technique, enough sample data will be created for the under-represented class i.e isFraud = True class which will in turn train the model in a better way and the model will be able to detect the fraudulent transactions more successfully. I used SMOTETOmek over SMOTE as SMOTETomek gives less noisy data by removing data points from majority class as well unlike SMOTE which in turn gives better classfication results**"
      ],
      "metadata": {
        "id": "bcnTzQG7H-iP"
      }
    },
    {
      "cell_type": "code",
      "source": [
        "os = SMOTETomek()\n",
        "X_over, y_over = os.fit_resample(X, y)"
      ],
      "metadata": {
        "id": "wn2zNKj1dVnt"
      },
      "execution_count": null,
      "outputs": []
    },
    {
      "cell_type": "code",
      "source": [
        "X_over.shape,y_over.shape"
      ],
      "metadata": {
        "id": "iE2JWDCSeEgr",
        "colab": {
          "base_uri": "https://localhost:8080/"
        },
        "outputId": "5e2e87bd-b6b5-44a0-de8b-551a51b568f6"
      },
      "execution_count": null,
      "outputs": [
        {
          "output_type": "execute_result",
          "data": {
            "text/plain": [
              "((1515426, 8), (1515426,))"
            ]
          },
          "metadata": {},
          "execution_count": 75
        }
      ]
    },
    {
      "cell_type": "markdown",
      "source": [
        "**Giving an overview of before oversampling representation of classes vs after oversampling representation of classes in the isFraud class**"
      ],
      "metadata": {
        "id": "x2KmxRQOKBPQ"
      }
    },
    {
      "cell_type": "code",
      "source": [
        "print('Original dataset shape {}'.format(Counter(y)))\n",
        "print('Resampled dataset shape {}'.format(Counter(y_over)))"
      ],
      "metadata": {
        "id": "XJTCLsNhaqql",
        "colab": {
          "base_uri": "https://localhost:8080/"
        },
        "outputId": "7b0618b2-f5fe-4c09-d148-99b0946af1ba"
      },
      "execution_count": null,
      "outputs": [
        {
          "output_type": "stream",
          "name": "stdout",
          "text": [
            "Original dataset shape Counter({0: 764702, 1: 11966})\n",
            "Resampled dataset shape Counter({0: 757713, 1: 757713})\n"
          ]
        }
      ]
    },
    {
      "cell_type": "markdown",
      "source": [
        "**Performed Under Sampling on data to see how much data is lost and there was a reduction of data by more than 95% which is not desirable to adequatley represent the data that is given and would have resulted in poor results**"
      ],
      "metadata": {
        "id": "bBDHbFkcKUry"
      }
    },
    {
      "cell_type": "code",
      "source": [
        "rus = RandomUnderSampler(random_state=42, replacement=True) #fit predictor and target variable\n",
        "x_rus, y_rus = rus.fit_resample(X, y)\n",
        "\n",
        "print('original dataset shape:', Counter(y))\n",
        "print('Resample dataset shape', Counter(y_rus))"
      ],
      "metadata": {
        "id": "W2XtpD9xLat2",
        "colab": {
          "base_uri": "https://localhost:8080/"
        },
        "outputId": "3046532c-8589-4b62-88d5-12e90b83d7cf"
      },
      "execution_count": null,
      "outputs": [
        {
          "output_type": "stream",
          "name": "stdout",
          "text": [
            "original dataset shape: Counter({0: 764702, 1: 11966})\n",
            "Resample dataset shape Counter({0: 11966, 1: 11966})\n"
          ]
        }
      ]
    },
    {
      "cell_type": "markdown",
      "source": [
        "**Splitting the data in Train and Test data. 80% of the data is in Training dataset whereas 20% lies in the Test dataset**"
      ],
      "metadata": {
        "id": "y4SreXoTHt6a"
      }
    },
    {
      "cell_type": "code",
      "source": [
        "X_train, X_test, y_train, y_test = train_test_split(X_over, y_over, test_size=0.2, random_state=42)"
      ],
      "metadata": {
        "id": "INR6EkxMezrf"
      },
      "execution_count": null,
      "outputs": []
    },
    {
      "cell_type": "markdown",
      "source": [
        "**Training a logistic regression model - Logistic regression generally works well for binary classification but in this scenario it did not give a very good result owing to the fact that the data is large, complicated resulting in no model convergance to setting a good predictor**"
      ],
      "metadata": {
        "id": "s5BTU1TsOvcH"
      }
    },
    {
      "cell_type": "code",
      "source": [
        "# define model\n",
        "lr = LogisticRegression(random_state=13)\n",
        "lr.fit(X_train,y_train)"
      ],
      "metadata": {
        "id": "IN3yFlhge9NZ",
        "colab": {
          "base_uri": "https://localhost:8080/"
        },
        "outputId": "27a8d99d-fc63-4c9c-cfaa-f8d7c023e753"
      },
      "execution_count": null,
      "outputs": [
        {
          "output_type": "execute_result",
          "data": {
            "text/plain": [
              "LogisticRegression(random_state=13)"
            ]
          },
          "metadata": {},
          "execution_count": 79
        }
      ]
    },
    {
      "cell_type": "code",
      "source": [
        "lr_y_pred = lr.predict(X_test)\n",
        "lr_cm = confusion_matrix(y_test, lr_y_pred)\n",
        "lr_acc = accuracy_score(y_test, lr_y_pred)\n",
        "print('Confusion matrix for Logistic Regression:\\n',lr_cm)\n",
        "print('Accuracy of logistic regression:',lr_acc)"
      ],
      "metadata": {
        "id": "GJdNXPw1_kXg",
        "colab": {
          "base_uri": "https://localhost:8080/"
        },
        "outputId": "7bb53917-5f42-4dbc-a245-53d04be4b494"
      },
      "execution_count": null,
      "outputs": [
        {
          "output_type": "stream",
          "name": "stdout",
          "text": [
            "Confusion matrix for Logistic Regression:\n",
            " [[91998 59441]\n",
            " [58782 92865]]\n",
            "Accuracy of logistic regression: 0.6099357938010994\n"
          ]
        }
      ]
    },
    {
      "cell_type": "code",
      "source": [
        "lr_ytrain_pred = lr.predict_proba(X_train)\n",
        "print('LR train roc-auc: {}'.format(roc_auc_score(y_train, lr_ytrain_pred[:,1])))\n",
        "lr_ytest_pred = lr.predict_proba(X_test)\n",
        "print('LR test roc-auc: {}'.format(roc_auc_score(y_test, lr_ytest_pred[:,1])))"
      ],
      "metadata": {
        "colab": {
          "base_uri": "https://localhost:8080/"
        },
        "id": "EW0NuMjbCsOj",
        "outputId": "d290e63d-b10a-46ae-90c2-eedbdb60bbfe"
      },
      "execution_count": null,
      "outputs": [
        {
          "output_type": "stream",
          "name": "stdout",
          "text": [
            "LR train roc-auc: 0.6452543459799005\n",
            "LR test roc-auc: 0.6464971732823342\n"
          ]
        }
      ]
    },
    {
      "cell_type": "markdown",
      "source": [
        "**Training a decision tree model - Decision tree classifier gave a fairly nice prediction since a tree maps out different instances based on each feature and then makes a decision. Having a huge training data set made it a good model but there is a chance that the model has overfitted so will implement random-forest to compensate it**"
      ],
      "metadata": {
        "id": "b8NXGPcoCGWk"
      }
    },
    {
      "cell_type": "code",
      "source": [
        "dtc = DecisionTreeClassifier(criterion = 'entropy', random_state = 0)\n",
        "dtc.fit(X_train, y_train)"
      ],
      "metadata": {
        "colab": {
          "base_uri": "https://localhost:8080/"
        },
        "id": "9wNcsySKzR33",
        "outputId": "d5ef316c-423e-4645-ae80-a0138270dcd9"
      },
      "execution_count": null,
      "outputs": [
        {
          "output_type": "execute_result",
          "data": {
            "text/plain": [
              "DecisionTreeClassifier(criterion='entropy', random_state=0)"
            ]
          },
          "metadata": {},
          "execution_count": 82
        }
      ]
    },
    {
      "cell_type": "code",
      "source": [
        "dtc_y_pred = dtc.predict(X_test)\n",
        "dtc_cm = confusion_matrix(y_test, dtc_y_pred)\n",
        "dtc_acc = accuracy_score(y_test, dtc_y_pred)\n",
        "dtc_prec = precision_score(y_test, dtc_y_pred)\n",
        "dtc_recall = recall_score(y_test, dtc_y_pred)\n",
        "print('Confusion matrix for Random Forest:\\n',dtc_cm)\n",
        "print('Accuracy of Random Forest:',dtc_acc)\n",
        "print('Precision of Random Forest:',dtc_prec)\n",
        "print('Recall of Random Forest:',dtc_recall)"
      ],
      "metadata": {
        "colab": {
          "base_uri": "https://localhost:8080/"
        },
        "id": "yWxaq9F6zYMy",
        "outputId": "cf60bc47-432b-42d9-e3a8-71edb30cc3fc"
      },
      "execution_count": null,
      "outputs": [
        {
          "output_type": "stream",
          "name": "stdout",
          "text": [
            "Confusion matrix for Random Forest:\n",
            " [[142982   8457]\n",
            " [  5044 146603]]\n",
            "Accuracy of Random Forest: 0.9554548873916974\n",
            "Precision of Random Forest: 0.9454598220043854\n",
            "Recall of Random Forest: 0.9667385441189077\n"
          ]
        }
      ]
    },
    {
      "cell_type": "code",
      "source": [
        "print(classification_report(y_test, dtc_y_pred))"
      ],
      "metadata": {
        "colab": {
          "base_uri": "https://localhost:8080/"
        },
        "id": "_MsWme4Bz11g",
        "outputId": "434476b7-e8a5-439b-9c2a-1e7e060ee1a9"
      },
      "execution_count": null,
      "outputs": [
        {
          "output_type": "stream",
          "name": "stdout",
          "text": [
            "              precision    recall  f1-score   support\n",
            "\n",
            "           0       0.97      0.94      0.95    151439\n",
            "           1       0.95      0.97      0.96    151647\n",
            "\n",
            "    accuracy                           0.96    303086\n",
            "   macro avg       0.96      0.96      0.96    303086\n",
            "weighted avg       0.96      0.96      0.96    303086\n",
            "\n"
          ]
        }
      ]
    },
    {
      "cell_type": "markdown",
      "source": [
        "**Implenting a XGB Classifier - XGB uses boosting techniques on rees giving an incremental result on the data. It gives an higher weightage to the fraudelent class when identified inccorectly but in this case it did not work well since it overall predicted the fraudalent cases falsely which is not a good choice**"
      ],
      "metadata": {
        "id": "JOmEiW3PS4T3"
      }
    },
    {
      "cell_type": "code",
      "source": [
        "xgb = XGBClassifier()\n",
        "xgb.fit(X_train,y_train)"
      ],
      "metadata": {
        "id": "dvRCxV0YNnyW",
        "colab": {
          "base_uri": "https://localhost:8080/"
        },
        "outputId": "aaf4b74d-8f23-4a51-ab98-0f678b9dd20d"
      },
      "execution_count": null,
      "outputs": [
        {
          "output_type": "execute_result",
          "data": {
            "text/plain": [
              "XGBClassifier()"
            ]
          },
          "metadata": {},
          "execution_count": 85
        }
      ]
    },
    {
      "cell_type": "code",
      "source": [
        "xgb_y_pred = xgb.predict(X_test)\n",
        "xgb_cm = confusion_matrix(y_test, xgb_y_pred)\n",
        "xgb_acc = accuracy_score(y_test, xgb_y_pred)\n",
        "xgb_prec = precision_score(y_test, xgb_y_pred)\n",
        "xgb_recall = recall_score(y_test, xgb_y_pred)\n",
        "print('Confusion matrix for XGB Classifer:\\n',xgb_cm)\n",
        "print('Accuracy of XGB Classifer:',xgb_acc)\n",
        "print('Precision of XGB Classifer:',xgb_prec)\n",
        "print('Recall of XGB Classifer:',xgb_recall)"
      ],
      "metadata": {
        "id": "fHzXgvSXN3pj",
        "colab": {
          "base_uri": "https://localhost:8080/"
        },
        "outputId": "50177e56-dfe0-4539-f9c3-54dbcc25f4bf"
      },
      "execution_count": null,
      "outputs": [
        {
          "output_type": "stream",
          "name": "stdout",
          "text": [
            "Confusion matrix for XGB Classifer:\n",
            " [[134522  16917]\n",
            " [ 37701 113946]]\n",
            "Accuracy of XGB Classifer: 0.8197937219139122\n",
            "Precision of XGB Classifer: 0.8707274019394329\n",
            "Recall of XGB Classifer: 0.7513897406476884\n"
          ]
        }
      ]
    },
    {
      "cell_type": "code",
      "source": [
        "xgb_ytrain_pred = xgb.predict_proba(X_train)\n",
        "print('XGB train roc-auc: {}'.format(roc_auc_score(y_train, xgb_ytrain_pred[:,1])))\n",
        "xgb_ytest_pred = xgb.predict_proba(X_test)\n",
        "print('XGB test roc-auc: {}'.format(roc_auc_score(y_test, xgb_ytest_pred[:,1])))"
      ],
      "metadata": {
        "colab": {
          "base_uri": "https://localhost:8080/"
        },
        "id": "D5vodvA-DrVc",
        "outputId": "241a0972-0590-4cfd-ff3b-bb2f9a4e6561"
      },
      "execution_count": null,
      "outputs": [
        {
          "output_type": "stream",
          "name": "stdout",
          "text": [
            "XGB train roc-auc: 0.9074439923947811\n",
            "XGB test roc-auc: 0.906740188209308\n"
          ]
        }
      ]
    },
    {
      "cell_type": "code",
      "source": [
        "metrics.plot_roc_curve(xgb, X_test, y_test)\n",
        "plt.show()"
      ],
      "metadata": {
        "colab": {
          "base_uri": "https://localhost:8080/",
          "height": 340
        },
        "id": "YWACdqNAE1sJ",
        "outputId": "21e76a37-a1a2-4d6e-9f2e-872df232a275"
      },
      "execution_count": null,
      "outputs": [
        {
          "output_type": "stream",
          "name": "stderr",
          "text": [
            "/usr/local/lib/python3.7/dist-packages/sklearn/utils/deprecation.py:87: FutureWarning: Function plot_roc_curve is deprecated; Function :func:`plot_roc_curve` is deprecated in 1.0 and will be removed in 1.2. Use one of the class methods: :meth:`sklearn.metric.RocCurveDisplay.from_predictions` or :meth:`sklearn.metric.RocCurveDisplay.from_estimator`.\n",
            "  warnings.warn(msg, category=FutureWarning)\n"
          ]
        },
        {
          "output_type": "display_data",
          "data": {
            "image/png": "[encoded data removed]",
            "text/plain": [
              "<Figure size 432x288 with 1 Axes>"
            ]
          },
          "metadata": {
            "needs_background": "light"
          }
        }
      ]
    },
    {
      "cell_type": "markdown",
      "source": [
        "**FINAL MODEL - Training a random forest classification model - Random Forest gave an outstanding result proving that tree based models give good result on imbalanced data set such as ours by creating an ensemble of decision treees and formulating a prediction based on those outputs**"
      ],
      "metadata": {
        "id": "Wo94PpfZQdQP"
      }
    },
    {
      "cell_type": "code",
      "source": [
        "rfc = RandomForestClassifier(n_estimators = 10, criterion = 'entropy', random_state = 0)\n",
        "rfc.fit(X_train,y_train)"
      ],
      "metadata": {
        "id": "HNesZILB_ktz",
        "colab": {
          "base_uri": "https://localhost:8080/"
        },
        "outputId": "5679f630-42d9-4c81-fbcb-4ee9e4895d05"
      },
      "execution_count": null,
      "outputs": [
        {
          "output_type": "execute_result",
          "data": {
            "text/plain": [
              "RandomForestClassifier(criterion='entropy', n_estimators=10, random_state=0)"
            ]
          },
          "metadata": {},
          "execution_count": 89
        }
      ]
    },
    {
      "cell_type": "code",
      "source": [
        "rfc_y_pred = rfc.predict(X_test)\n",
        "rfc_cm = confusion_matrix(y_test, rfc_y_pred)\n",
        "rfc_acc = accuracy_score(y_test, rfc_y_pred)\n",
        "rfc_prec = precision_score(y_test, rfc_y_pred)\n",
        "rfc_recall = recall_score(y_test, rfc_y_pred)\n",
        "print('Confusion matrix for Random Forest:\\n',rfc_cm)\n",
        "print('Accuracy of Random Forest:',rfc_acc)\n",
        "print('Precision of Random Forest:',rfc_prec)\n",
        "print('Recall of Random Forest:',rfc_recall)"
      ],
      "metadata": {
        "id": "Rke2gB9_NeMZ",
        "colab": {
          "base_uri": "https://localhost:8080/"
        },
        "outputId": "f222934f-24db-42ca-e247-3304755b5f24"
      },
      "execution_count": null,
      "outputs": [
        {
          "output_type": "stream",
          "name": "stdout",
          "text": [
            "Confusion matrix for Random Forest:\n",
            " [[147891   3548]\n",
            " [  5153 146494]]\n",
            "Accuracy of Random Forest: 0.9712919765347129\n",
            "Precision of Random Forest: 0.9763532877460978\n",
            "Recall of Random Forest: 0.9660197695964972\n"
          ]
        }
      ]
    },
    {
      "cell_type": "code",
      "source": [
        "print(classification_report(y_test, rfc_y_pred))"
      ],
      "metadata": {
        "colab": {
          "base_uri": "https://localhost:8080/"
        },
        "id": "sRUnxM5m3fKb",
        "outputId": "183ccb72-6e29-4f78-82a8-46c03686d535"
      },
      "execution_count": null,
      "outputs": [
        {
          "output_type": "stream",
          "name": "stdout",
          "text": [
            "              precision    recall  f1-score   support\n",
            "\n",
            "           0       0.97      0.98      0.97    151439\n",
            "           1       0.98      0.97      0.97    151647\n",
            "\n",
            "    accuracy                           0.97    303086\n",
            "   macro avg       0.97      0.97      0.97    303086\n",
            "weighted avg       0.97      0.97      0.97    303086\n",
            "\n"
          ]
        }
      ]
    },
    {
      "cell_type": "code",
      "source": [
        "rfc_ytrain_pred = rfc.predict_proba(X_train)\n",
        "print('RF train roc-auc: {}'.format(roc_auc_score(y_train, rfc_ytrain_pred[:,1])))\n",
        "rfc_ytest_pred = rfc.predict_proba(X_test)\n",
        "print('RF test roc-auc: {}'.format(roc_auc_score(y_test, rfc_ytest_pred[:,1])))"
      ],
      "metadata": {
        "colab": {
          "base_uri": "https://localhost:8080/"
        },
        "id": "C2OVOVnFDOdi",
        "outputId": "ed8cf9c4-c44c-45b0-e637-bbd63e4ba853"
      },
      "execution_count": null,
      "outputs": [
        {
          "output_type": "stream",
          "name": "stdout",
          "text": [
            "RF train roc-auc: 0.9999893776789724\n",
            "RF test roc-auc: 0.9937648136384098\n"
          ]
        }
      ]
    },
    {
      "cell_type": "code",
      "source": [
        "metrics.plot_roc_curve(rfc, X_test, y_test)\n",
        "plt.show()"
      ],
      "metadata": {
        "colab": {
          "base_uri": "https://localhost:8080/",
          "height": 340
        },
        "id": "UFt_9k1gZwdk",
        "outputId": "1dda91c9-7e15-4e51-94fb-2cc7f6228f1f"
      },
      "execution_count": null,
      "outputs": [
        {
          "output_type": "stream",
          "name": "stderr",
          "text": [
            "/usr/local/lib/python3.7/dist-packages/sklearn/utils/deprecation.py:87: FutureWarning: Function plot_roc_curve is deprecated; Function :func:`plot_roc_curve` is deprecated in 1.0 and will be removed in 1.2. Use one of the class methods: :meth:`sklearn.metric.RocCurveDisplay.from_predictions` or :meth:`sklearn.metric.RocCurveDisplay.from_estimator`.\n",
            "  warnings.warn(msg, category=FutureWarning)\n"
          ]
        },
        {
          "output_type": "display_data",
          "data": {
            "image/png": "[encoded data removed]",
            "text/plain": [
              "<Figure size 432x288 with 1 Axes>"
            ]
          },
          "metadata": {
            "needs_background": "light"
          }
        }
      ]
    },
    {
      "cell_type": "markdown",
      "source": [
        "# **Final Results**"
      ],
      "metadata": {
        "id": "QFzkAhLdkPkt"
      }
    },
    {
      "cell_type": "markdown",
      "source": [
        "Performed Cross Validation on the Random Forest Model to see how the model is performing as a whole on different data folds, it also checks if the model was overfitting on the training data or not - and seeing the results it is performing good on different test folds"
      ],
      "metadata": {
        "id": "Z-7xe4CYKy6s"
      }
    },
    {
      "cell_type": "code",
      "source": [
        "accuracies = cross_val_score(estimator = rfc, X = X_train, y = y_train, cv = 10)\n",
        "print(\"Accuracy: {:.2f} %\".format(accuracies.mean()*100))\n",
        "print(\"Standard Deviation: {:.2f} %\".format(accuracies.std()*100))"
      ],
      "metadata": {
        "colab": {
          "base_uri": "https://localhost:8080/"
        },
        "id": "Z2p-BmGKybOc",
        "outputId": "b5c85ea7-8e30-4361-8394-7695010efb90"
      },
      "execution_count": null,
      "outputs": [
        {
          "output_type": "stream",
          "name": "stdout",
          "text": [
            "Accuracy: 96.99 %\n",
            "Standard Deviation: 0.05 %\n"
          ]
        }
      ]
    }
  ]
}